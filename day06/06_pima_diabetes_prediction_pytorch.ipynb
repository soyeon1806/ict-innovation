{
 "cells": [
  {
   "cell_type": "code",
   "execution_count": 1,
   "metadata": {},
   "outputs": [],
   "source": [
    "import torch\n",
    "import torch.nn as nn\n",
    "import torch.optim as optim\n",
    "import numpy as np\n",
    "import os"
   ]
  },
  {
   "cell_type": "code",
   "execution_count": 2,
   "metadata": {},
   "outputs": [
    {
     "data": {
      "text/plain": [
       "<torch._C.Generator at 0x2047aaa4c70>"
      ]
     },
     "execution_count": 2,
     "metadata": {},
     "output_type": "execute_result"
    }
   ],
   "source": [
    "seed = 0\n",
    "np.random.seed(seed)\n",
    "torch.manual_seed(seed)"
   ]
  },
  {
   "cell_type": "code",
   "execution_count": 3,
   "metadata": {},
   "outputs": [],
   "source": [
    "datapath = os.path.join(\"..\", \"data\", \"pima-indians-diabetes.csv\")\n",
    "data = np.loadtxt(datapath, delimiter = ',', dtype = np.float32)\n",
    "\n",
    "x_train = data[:700, 0:8]\n",
    "y_train = data[:700, 8].reshape(-1, 1)\n",
    "x_test = data[700:, 0:8]\n",
    "y_test = data[700:, 8].reshape(-1, 1)"
   ]
  },
  {
   "cell_type": "code",
   "execution_count": 4,
   "metadata": {},
   "outputs": [],
   "source": [
    "x_train = torch.tensor(x_train)\n",
    "y_train = torch.tensor(y_train)\n",
    "x_test = torch.tensor(x_test)\n",
    "y_test = torch.tensor(y_test)"
   ]
  },
  {
   "cell_type": "code",
   "execution_count": 5,
   "metadata": {},
   "outputs": [],
   "source": [
    "class SimpleModel(nn.Module):\n",
    "    def __init__ (self):\n",
    "        super(SimpleModel, self).__init__()\n",
    "        self.layer1 = nn.Linear(8, 12)\n",
    "        self.layer2 = nn.Linear(12, 8)\n",
    "        self.layer3 = nn.Linear(8, 1)\n",
    "        self.relu = nn.ReLU()\n",
    "        self.sigmoid = nn.Sigmoid()\n",
    "\n",
    "    def forward(self, x):\n",
    "        x = self.relu(self.layer1(x))\n",
    "        x = self.relu(self.layer2(x))\n",
    "        x = self.sigmoid(self.layer3(x))\n",
    "        return x"
   ]
  },
  {
   "cell_type": "code",
   "execution_count": 6,
   "metadata": {},
   "outputs": [],
   "source": [
    "model = SimpleModel()"
   ]
  },
  {
   "cell_type": "code",
   "execution_count": 7,
   "metadata": {},
   "outputs": [],
   "source": [
    "criterion = nn.BCELoss()\n",
    "optimizer = optim.Adam(model.parameters(), lr = 0.01)"
   ]
  },
  {
   "cell_type": "code",
   "execution_count": 8,
   "metadata": {},
   "outputs": [],
   "source": [
    "epochs = 300\n",
    "batch_size = 64"
   ]
  },
  {
   "cell_type": "code",
   "execution_count": 9,
   "metadata": {},
   "outputs": [
    {
     "name": "stdout",
     "output_type": "stream",
     "text": [
      "Epoch [10 / 300], Loss: 0.6541\n",
      "Epoch [20 / 300], Loss: 0.5165\n",
      "Epoch [30 / 300], Loss: 0.5428\n",
      "Epoch [40 / 300], Loss: 0.5966\n",
      "Epoch [50 / 300], Loss: 0.5049\n",
      "Epoch [60 / 300], Loss: 0.5142\n",
      "Epoch [70 / 300], Loss: 0.4713\n",
      "Epoch [80 / 300], Loss: 0.4755\n",
      "Epoch [90 / 300], Loss: 0.5593\n",
      "Epoch [100 / 300], Loss: 0.4726\n",
      "Epoch [110 / 300], Loss: 0.5234\n",
      "Epoch [120 / 300], Loss: 0.5502\n",
      "Epoch [130 / 300], Loss: 0.3813\n",
      "Epoch [140 / 300], Loss: 0.3159\n",
      "Epoch [150 / 300], Loss: 0.4189\n",
      "Epoch [160 / 300], Loss: 0.5462\n",
      "Epoch [170 / 300], Loss: 0.4334\n",
      "Epoch [180 / 300], Loss: 0.4230\n",
      "Epoch [190 / 300], Loss: 0.6368\n",
      "Epoch [200 / 300], Loss: 0.4505\n",
      "Epoch [210 / 300], Loss: 0.3883\n",
      "Epoch [220 / 300], Loss: 0.3338\n",
      "Epoch [230 / 300], Loss: 0.4233\n",
      "Epoch [240 / 300], Loss: 0.5101\n",
      "Epoch [250 / 300], Loss: 0.4996\n",
      "Epoch [260 / 300], Loss: 0.4348\n",
      "Epoch [270 / 300], Loss: 0.5688\n",
      "Epoch [280 / 300], Loss: 0.3808\n",
      "Epoch [290 / 300], Loss: 0.4123\n",
      "Epoch [300 / 300], Loss: 0.4343\n"
     ]
    }
   ],
   "source": [
    "for epoch in range(epochs):\n",
    "    model.train()\n",
    "    permutation = torch.randperm(x_train.size(0))\n",
    "    for i in range(0, x_train.size(0), batch_size):\n",
    "        indices = permutation[i:i + batch_size]\n",
    "        batch_x, batch_y = x_train[indices], y_train[indices]\n",
    "\n",
    "        outputs = model(batch_x)\n",
    "        loss = criterion(outputs, batch_y)\n",
    "\n",
    "        optimizer.zero_grad()\n",
    "        loss.backward()\n",
    "        optimizer.step()\n",
    "\n",
    "    if (epoch + 1) % 10 == 0:\n",
    "        print(f\"Epoch [{epoch + 1} / {epochs}], Loss: {loss.item():.4f}\")"
   ]
  },
  {
   "cell_type": "code",
   "execution_count": 10,
   "metadata": {},
   "outputs": [
    {
     "name": "stdout",
     "output_type": "stream",
     "text": [
      "Accuracy:  80.88%\n"
     ]
    }
   ],
   "source": [
    "model.eval()\n",
    "with torch.no_grad():\n",
    "    outputs = model(x_test)\n",
    "    predicted = (outputs > 0.5).float()\n",
    "    accuracy = (predicted.eq(y_test).sum() / y_test.size(0)).item() * 100\n",
    "    print(f'Accuracy: {accuracy: .2f}%')"
   ]
  }
 ],
 "metadata": {
  "kernelspec": {
   "display_name": "tensor",
   "language": "python",
   "name": "python3"
  },
  "language_info": {
   "codemirror_mode": {
    "name": "ipython",
    "version": 3
   },
   "file_extension": ".py",
   "mimetype": "text/x-python",
   "name": "python",
   "nbconvert_exporter": "python",
   "pygments_lexer": "ipython3",
   "version": "3.8.19"
  }
 },
 "nbformat": 4,
 "nbformat_minor": 2
}
