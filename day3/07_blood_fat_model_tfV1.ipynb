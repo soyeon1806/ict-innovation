{
 "cells": [
  {
   "cell_type": "code",
   "execution_count": 28,
   "metadata": {},
   "outputs": [],
   "source": [
    "import tensorflow.compat.v1 as tf\n",
    "tf.disable_v2_behavior()"
   ]
  },
  {
   "cell_type": "code",
   "execution_count": 29,
   "metadata": {},
   "outputs": [],
   "source": [
    "import numpy as np\n",
    "import os\n",
    "\n",
    "data_path = os.path.join(\"..\", \"data\", \"Blood_fat.csv\")\n",
    "data = np.loadtxt(data_path, delimiter=\",\")\n",
    "\n",
    "x1 = [x_row1[0] for x_row1 in data]\n",
    "x2 = [x_row2[1] for x_row2 in data]\n",
    "y_data = [y_row[2] for y_row in data]"
   ]
  },
  {
   "cell_type": "code",
   "execution_count": 30,
   "metadata": {},
   "outputs": [],
   "source": [
    "a1 = tf.Variable(tf.random_uniform([1], 0, 10, dtype = tf.float64, seed = 0))\n",
    "a2 = tf.Variable(tf.random_uniform([1], 0, 10, dtype = tf.float64, seed = 0))\n",
    "b = tf.Variable(tf.random_uniform([1], 0, 100, dtype = tf.float64, seed = 0))"
   ]
  },
  {
   "cell_type": "code",
   "execution_count": 31,
   "metadata": {},
   "outputs": [],
   "source": [
    "y = a1 * x1 + a2 * x2 + b"
   ]
  },
  {
   "cell_type": "code",
   "execution_count": 32,
   "metadata": {},
   "outputs": [],
   "source": [
    "rmse = tf.sqrt(tf.reduce_mean(tf.square(y - y_data)))"
   ]
  },
  {
   "cell_type": "code",
   "execution_count": 33,
   "metadata": {},
   "outputs": [],
   "source": [
    "learning_rate = 0.001"
   ]
  },
  {
   "cell_type": "code",
   "execution_count": 34,
   "metadata": {},
   "outputs": [],
   "source": [
    "gradient_descent = tf.train.GradientDescentOptimizer(learning_rate).minimize(rmse)"
   ]
  },
  {
   "cell_type": "code",
   "execution_count": 35,
   "metadata": {},
   "outputs": [
    {
     "name": "stdout",
     "output_type": "stream",
     "text": [
      "Epoch: 0, RMSE = 643.9146, 기울기 a1 = 7.9995, 기울기 a2 = 8.0295, y 절편 b = 80.6891\n",
      "Epoch: 100, RMSE = 51.0198, 기울기 a1 = 1.2999, 기울기 a2 = 4.2778, y 절편 b = 80.5946\n",
      "Epoch: 200, RMSE = 42.6573, 기울기 a1 = 0.8654, 기울기 a2 = 4.3693, y 절편 b = 80.5900\n",
      "Epoch: 300, RMSE = 42.1239, 기울기 a1 = 0.7509, 기울기 a2 = 4.5693, y 절편 b = 80.5895\n",
      "Epoch: 400, RMSE = 41.8101, 기울기 a1 = 0.6632, 기울기 a2 = 4.7227, y 절편 b = 80.5890\n",
      "Epoch: 500, RMSE = 41.6278, 기울기 a1 = 0.5962, 기울기 a2 = 4.8396, y 절편 b = 80.5887\n",
      "Epoch: 600, RMSE = 41.5226, 기울기 a1 = 0.5454, 기울기 a2 = 4.9284, y 절편 b = 80.5883\n",
      "Epoch: 700, RMSE = 41.4623, 기울기 a1 = 0.5069, 기울기 a2 = 4.9956, y 절편 b = 80.5880\n",
      "Epoch: 800, RMSE = 41.4277, 기울기 a1 = 0.4778, 기울기 a2 = 5.0465, y 절편 b = 80.5878\n",
      "Epoch: 900, RMSE = 41.4080, 기울기 a1 = 0.4558, 기울기 a2 = 5.0850, y 절편 b = 80.5875\n",
      "Epoch: 1000, RMSE = 41.3967, 기울기 a1 = 0.4392, 기울기 a2 = 5.1141, y 절편 b = 80.5873\n",
      "Epoch: 1100, RMSE = 41.3902, 기울기 a1 = 0.4266, 기울기 a2 = 5.1361, y 절편 b = 80.5871\n",
      "Epoch: 1200, RMSE = 41.3865, 기울기 a1 = 0.4171, 기울기 a2 = 5.1527, y 절편 b = 80.5869\n",
      "Epoch: 1300, RMSE = 41.3844, 기울기 a1 = 0.4099, 기울기 a2 = 5.1652, y 절편 b = 80.5867\n",
      "Epoch: 1400, RMSE = 41.3832, 기울기 a1 = 0.4045, 기울기 a2 = 5.1747, y 절편 b = 80.5865\n",
      "Epoch: 1500, RMSE = 41.3826, 기울기 a1 = 0.4004, 기울기 a2 = 5.1818, y 절편 b = 80.5863\n",
      "Epoch: 1600, RMSE = 41.3822, 기울기 a1 = 0.3973, 기울기 a2 = 5.1873, y 절편 b = 80.5861\n",
      "Epoch: 1700, RMSE = 41.3819, 기울기 a1 = 0.3949, 기울기 a2 = 5.1913, y 절편 b = 80.5859\n",
      "Epoch: 1800, RMSE = 41.3818, 기울기 a1 = 0.3932, 기울기 a2 = 5.1944, y 절편 b = 80.5857\n",
      "Epoch: 1900, RMSE = 41.3817, 기울기 a1 = 0.3918, 기울기 a2 = 5.1968, y 절편 b = 80.5856\n",
      "Epoch: 2000, RMSE = 41.3817, 기울기 a1 = 0.3908, 기울기 a2 = 5.1985, y 절편 b = 80.5854\n"
     ]
    }
   ],
   "source": [
    "with tf.Session() as sess:\n",
    "    sess.run(tf.global_variables_initializer())\n",
    "    for step in range(2001):\n",
    "        sess.run(gradient_descent)\n",
    "        if step % 100 == 0:\n",
    "            print(\"Epoch: %.f, RMSE = %.04f, 기울기 a1 = %.4f, 기울기 a2 = %.4f, y 절편 b = %.4f\" % (step, sess.run(rmse), sess.run(a1), sess.run(a2), sess.run(b)))"
   ]
  }
 ],
 "metadata": {
  "kernelspec": {
   "display_name": "tensor",
   "language": "python",
   "name": "python3"
  },
  "language_info": {
   "codemirror_mode": {
    "name": "ipython",
    "version": 3
   },
   "file_extension": ".py",
   "mimetype": "text/x-python",
   "name": "python",
   "nbconvert_exporter": "python",
   "pygments_lexer": "ipython3",
   "version": "3.8.19"
  }
 },
 "nbformat": 4,
 "nbformat_minor": 2
}
