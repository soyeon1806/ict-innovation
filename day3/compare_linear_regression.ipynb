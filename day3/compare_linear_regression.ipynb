{
 "cells": [
  {
   "cell_type": "code",
   "execution_count": 16,
   "metadata": {},
   "outputs": [],
   "source": [
    "import tensorflow.compat.v1 as tf\n",
    "tf.disable_v2_behavior()"
   ]
  },
  {
   "cell_type": "code",
   "execution_count": 17,
   "metadata": {},
   "outputs": [],
   "source": [
    "data = [[2, 0, 81], [4, 4, 93], [6, 2, 91], [8, 3, 97]]\n",
    "x1 = [x_row1[0] for x_row1 in data]\n",
    "x2 = [x_row2[1] for x_row2 in data]\n",
    "y_data = [y_row[2] for y_row in data]"
   ]
  },
  {
   "cell_type": "code",
   "execution_count": 18,
   "metadata": {},
   "outputs": [],
   "source": [
    "a1 = tf.Variable(tf.random_uniform([1], 0, 10, dtype = tf.float64, seed = 0))\n",
    "a2 = tf.Variable(tf.random_uniform([1], 0, 10, dtype = tf.float64, seed = 0))\n",
    "b = tf.Variable(tf.random_uniform([1], 0, 100, dtype = tf.float64, seed = 0))"
   ]
  },
  {
   "cell_type": "code",
   "execution_count": 19,
   "metadata": {},
   "outputs": [],
   "source": [
    "m_a1 = 1.2301\n",
    "m_a2 = 2.1633\n",
    "m_b = 77.8117"
   ]
  },
  {
   "cell_type": "code",
   "execution_count": 20,
   "metadata": {},
   "outputs": [
    {
     "name": "stdout",
     "output_type": "stream",
     "text": [
      "[80.2719, 91.3853, 89.5189, 94.14240000000001]\n"
     ]
    }
   ],
   "source": [
    "m_result_y = []\n",
    "\n",
    "for i in range(4):\n",
    "    m_result_y.append(m_a1 * x1[i] + m_a2 * x2[i] + m_b)\n",
    "print(m_result_y)"
   ]
  },
  {
   "cell_type": "code",
   "execution_count": 21,
   "metadata": {},
   "outputs": [
    {
     "name": "stdout",
     "output_type": "stream",
     "text": [
      "다중 선형회귀의 점수 평균 :  88.82962500000001\n"
     ]
    }
   ],
   "source": [
    "m_avr = sum(m_result_y) / 4\n",
    "print('다중 선형회귀의 점수 평균 : ', m_avr)"
   ]
  },
  {
   "cell_type": "code",
   "execution_count": 22,
   "metadata": {},
   "outputs": [
    {
     "name": "stdout",
     "output_type": "stream",
     "text": [
      "다중 선형회귀의 오차 평균 :  1.6703749999999964\n"
     ]
    }
   ],
   "source": [
    "m_diff_y = []\n",
    "\n",
    "for i in range(4):\n",
    "    m_diff_y.append(abs(y_data[i] - m_result_y[i]))\n",
    "\n",
    "avr_d1 = sum(m_diff_y) / 4\n",
    "print('다중 선형회귀의 오차 평균 : ', avr_d1)"
   ]
  },
  {
   "cell_type": "code",
   "execution_count": 23,
   "metadata": {},
   "outputs": [],
   "source": [
    "s_a1 = 2.3\n",
    "s_b = 79"
   ]
  },
  {
   "cell_type": "code",
   "execution_count": 24,
   "metadata": {},
   "outputs": [
    {
     "name": "stdout",
     "output_type": "stream",
     "text": [
      "[83.6, 88.2, 92.8, 97.4]\n"
     ]
    }
   ],
   "source": [
    "s_result_y = []\n",
    "for i in range(4):\n",
    "    s_result_y.append(s_a1 * x1[i] + s_b)\n",
    "print(s_result_y)"
   ]
  },
  {
   "cell_type": "code",
   "execution_count": 25,
   "metadata": {},
   "outputs": [
    {
     "name": "stdout",
     "output_type": "stream",
     "text": [
      "단순 선형회귀의 점수 평균 :  90.5\n"
     ]
    }
   ],
   "source": [
    "s_avr2 = sum(s_result_y) / 4\n",
    "print('단순 선형회귀의 점수 평균 : ', s_avr2)"
   ]
  },
  {
   "cell_type": "code",
   "execution_count": 26,
   "metadata": {},
   "outputs": [
    {
     "name": "stdout",
     "output_type": "stream",
     "text": [
      "2.3999999999999986\n",
      "단순 선형회귀의 오차 평균 :  2.3999999999999986\n"
     ]
    }
   ],
   "source": [
    "s_diff_y = []\n",
    "\n",
    "for i in range(4):\n",
    "    s_diff_y.append(abs(y_data[i] - s_result_y[i]))\n",
    "    \n",
    "avr_d2 = sum(s_diff_y) / 4\n",
    "print(avr_d2)\n",
    "print('단순 선형회귀의 오차 평균 : ', avr_d2)"
   ]
  }
 ],
 "metadata": {
  "kernelspec": {
   "display_name": "tensor",
   "language": "python",
   "name": "python3"
  },
  "language_info": {
   "codemirror_mode": {
    "name": "ipython",
    "version": 3
   },
   "file_extension": ".py",
   "mimetype": "text/x-python",
   "name": "python",
   "nbconvert_exporter": "python",
   "pygments_lexer": "ipython3",
   "version": "3.8.19"
  }
 },
 "nbformat": 4,
 "nbformat_minor": 2
}
