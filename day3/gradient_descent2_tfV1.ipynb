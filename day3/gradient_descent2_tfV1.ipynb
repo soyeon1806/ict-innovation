{
 "cells": [
  {
   "cell_type": "code",
   "execution_count": 1,
   "metadata": {},
   "outputs": [
    {
     "name": "stdout",
     "output_type": "stream",
     "text": [
      "WARNING:tensorflow:From c:\\Users\\soyeon\\anaconda3\\envs\\tensor\\lib\\site-packages\\tensorflow\\python\\compat\\v2_compat.py:107: disable_resource_variables (from tensorflow.python.ops.variable_scope) is deprecated and will be removed in a future version.\n",
      "Instructions for updating:\n",
      "non-resource variables are not supported in the long term\n"
     ]
    }
   ],
   "source": [
    "import tensorflow.compat.v1 as tf\n",
    "tf.compat.v1.disable_v2_behavior()"
   ]
  },
  {
   "cell_type": "code",
   "execution_count": 2,
   "metadata": {},
   "outputs": [],
   "source": [
    "data = [[1, 0.2], [2, 0.3], [3, 0.5], [4, 0.6], [5, 0.9], [6, 0.95], [7, 1.1], [8, 1.5]]\n",
    "x_data = [x_row[0] for x_row in data]\n",
    "y_data = [y_row[1] for y_row in data]"
   ]
  },
  {
   "cell_type": "code",
   "execution_count": 3,
   "metadata": {},
   "outputs": [],
   "source": [
    "a = tf.Variable(0, dtype = tf.float64)\n",
    "b = tf.Variable(0, dtype = tf.float64)"
   ]
  },
  {
   "cell_type": "code",
   "execution_count": 4,
   "metadata": {},
   "outputs": [],
   "source": [
    "y = a * x_data + b"
   ]
  },
  {
   "cell_type": "code",
   "execution_count": 5,
   "metadata": {},
   "outputs": [],
   "source": [
    "rmse = tf.sqrt(tf.reduce_mean(tf.square(y - y_data)))"
   ]
  },
  {
   "cell_type": "code",
   "execution_count": 6,
   "metadata": {},
   "outputs": [],
   "source": [
    "learning_rate = 0.005"
   ]
  },
  {
   "cell_type": "code",
   "execution_count": 7,
   "metadata": {},
   "outputs": [],
   "source": [
    "gradient_descent = tf.train.GradientDescentOptimizer(learning_rate).minimize(rmse)"
   ]
  },
  {
   "cell_type": "code",
   "execution_count": 8,
   "metadata": {},
   "outputs": [
    {
     "name": "stdout",
     "output_type": "stream",
     "text": [
      "Epoch: 0, RMSE = 0.7294, 기울기 a = 0.0252, y 절편 b = 0.0044\n",
      "Epoch: 100, RMSE = 0.0730, 기울기 a = 0.1725, y 절편 b = -0.0165\n",
      "Epoch: 200, RMSE = 0.0726, 기울기 a = 0.1748, y 절편 b = -0.0296\n",
      "Epoch: 300, RMSE = 0.0726, 기울기 a = 0.1754, y 절편 b = -0.0328\n",
      "Epoch: 400, RMSE = 0.0726, 기울기 a = 0.1755, y 절편 b = -0.0337\n",
      "Epoch: 500, RMSE = 0.0726, 기울기 a = 0.1756, y 절편 b = -0.0339\n",
      "Epoch: 600, RMSE = 0.0726, 기울기 a = 0.1756, y 절편 b = -0.0339\n",
      "Epoch: 700, RMSE = 0.0726, 기울기 a = 0.1756, y 절편 b = -0.0339\n",
      "Epoch: 800, RMSE = 0.0726, 기울기 a = 0.1756, y 절편 b = -0.0339\n",
      "Epoch: 900, RMSE = 0.0726, 기울기 a = 0.1756, y 절편 b = -0.0339\n",
      "Epoch: 1000, RMSE = 0.0726, 기울기 a = 0.1756, y 절편 b = -0.0339\n",
      "Epoch: 1100, RMSE = 0.0726, 기울기 a = 0.1756, y 절편 b = -0.0339\n",
      "Epoch: 1200, RMSE = 0.0726, 기울기 a = 0.1756, y 절편 b = -0.0339\n",
      "Epoch: 1300, RMSE = 0.0726, 기울기 a = 0.1756, y 절편 b = -0.0339\n",
      "Epoch: 1400, RMSE = 0.0726, 기울기 a = 0.1756, y 절편 b = -0.0339\n",
      "Epoch: 1500, RMSE = 0.0726, 기울기 a = 0.1756, y 절편 b = -0.0339\n",
      "Epoch: 1600, RMSE = 0.0726, 기울기 a = 0.1756, y 절편 b = -0.0339\n",
      "Epoch: 1700, RMSE = 0.0726, 기울기 a = 0.1756, y 절편 b = -0.0339\n",
      "Epoch: 1800, RMSE = 0.0726, 기울기 a = 0.1756, y 절편 b = -0.0339\n",
      "Epoch: 1900, RMSE = 0.0726, 기울기 a = 0.1756, y 절편 b = -0.0339\n",
      "Epoch: 2000, RMSE = 0.0726, 기울기 a = 0.1756, y 절편 b = -0.0339\n"
     ]
    }
   ],
   "source": [
    "with tf.Session() as sess:\n",
    "    sess.run(tf.global_variables_initializer())\n",
    "    for step in range(2001):\n",
    "        sess.run(gradient_descent)\n",
    "        if step % 100 == 0:\n",
    "            print(\"Epoch: %.f, RMSE = %.04f, 기울기 a = %.4f, y 절편 b = %.4f\" % (step, sess.run(rmse), sess.run(a), sess.run(b)))"
   ]
  }
 ],
 "metadata": {
  "kernelspec": {
   "display_name": "tensor",
   "language": "python",
   "name": "python3"
  },
  "language_info": {
   "codemirror_mode": {
    "name": "ipython",
    "version": 3
   },
   "file_extension": ".py",
   "mimetype": "text/x-python",
   "name": "python",
   "nbconvert_exporter": "python",
   "pygments_lexer": "ipython3",
   "version": "3.8.19"
  }
 },
 "nbformat": 4,
 "nbformat_minor": 2
}
