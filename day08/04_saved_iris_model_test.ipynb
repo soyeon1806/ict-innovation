{
 "cells": [
  {
   "cell_type": "code",
   "execution_count": 1,
   "metadata": {},
   "outputs": [],
   "source": [
    "from tensorflow.keras.models import load_model\n",
    "\n",
    "import numpy as np"
   ]
  },
  {
   "cell_type": "code",
   "execution_count": 2,
   "metadata": {},
   "outputs": [],
   "source": [
    "new_model = load_model('./model/03-2.2225.keras')"
   ]
  },
  {
   "cell_type": "code",
   "execution_count": 4,
   "metadata": {},
   "outputs": [],
   "source": [
    "x = [[5.8, 2.8, 5.1, 2.4], [6.3, 2.2, 4.3, 1.4], [5.5, 4.2, 1.4, 0.2],\n",
    "     [7.3, 2.9, 6.3, 1.8], [5.5, 3.4, 1.5, 0.2], [6.3, 3.3, 6.5, 2.5],\n",
    "     [5.1, 3.5, 1.3, 0.3]]\n",
    "\n",
    "x = np.array(x)"
   ]
  },
  {
   "cell_type": "code",
   "execution_count": 5,
   "metadata": {},
   "outputs": [
    {
     "name": "stdout",
     "output_type": "stream",
     "text": [
      "1/1 [==============================] - 0s 99ms/step\n"
     ]
    }
   ],
   "source": [
    "new_y = new_model.predict(x)"
   ]
  },
  {
   "cell_type": "code",
   "execution_count": 6,
   "metadata": {},
   "outputs": [],
   "source": [
    "iris_name = ['Iris-setosa', 'Iris-versicolor', 'Iris-virginica']"
   ]
  },
  {
   "cell_type": "code",
   "execution_count": 7,
   "metadata": {},
   "outputs": [
    {
     "name": "stdout",
     "output_type": "stream",
     "text": [
      "Data 0 : Iris=setosa\n",
      "Data 1 : Iris-virginica\n",
      "Data 2 : Iris-virginica\n",
      "Data 3 : Iris-virginica\n",
      "Data 4 : Iris-virginica\n",
      "Data 5 : Iris=setosa\n",
      "Data 6 : Iris-virginica\n"
     ]
    }
   ],
   "source": [
    "for i in range(new_y.shape[0]):\n",
    "    index_no = new_y[i].argmax()\n",
    "    print(\"Data %d : %s\" % (i, iris_name[index_no]))"
   ]
  }
 ],
 "metadata": {
  "kernelspec": {
   "display_name": "tensor",
   "language": "python",
   "name": "python3"
  },
  "language_info": {
   "codemirror_mode": {
    "name": "ipython",
    "version": 3
   },
   "file_extension": ".py",
   "mimetype": "text/x-python",
   "name": "python",
   "nbconvert_exporter": "python",
   "pygments_lexer": "ipython3",
   "version": "3.8.19"
  }
 },
 "nbformat": 4,
 "nbformat_minor": 2
}
