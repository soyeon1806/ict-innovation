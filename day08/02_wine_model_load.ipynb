{
 "cells": [
  {
   "cell_type": "code",
   "execution_count": 2,
   "metadata": {},
   "outputs": [],
   "source": [
    "import tensorflow as tf\n",
    "import pandas as pd\n",
    "import numpy as np\n",
    "import os\n",
    "\n",
    "from tensorflow.keras.models import load_model\n",
    "from sklearn.preprocessing import StandardScaler\n",
    "from sklearn.model_selection import train_test_split"
   ]
  },
  {
   "cell_type": "code",
   "execution_count": 3,
   "metadata": {},
   "outputs": [],
   "source": [
    "data_path = os.path.join(\"..\", \"data\", \"wine.csv\")\n",
    "df_pre = pd.read_csv(data_path, header = None)"
   ]
  },
  {
   "cell_type": "code",
   "execution_count": 4,
   "metadata": {},
   "outputs": [],
   "source": [
    "dataset = df_pre.values\n",
    "X = dataset[:, 0:12]\n",
    "y = dataset[:, 12]"
   ]
  },
  {
   "cell_type": "code",
   "execution_count": 5,
   "metadata": {},
   "outputs": [],
   "source": [
    "X_train, X_test, y_train, y_test = train_test_split(X, y, test_size=0.2, random_state=0)"
   ]
  },
  {
   "cell_type": "code",
   "execution_count": 7,
   "metadata": {},
   "outputs": [],
   "source": [
    "# 모델 로드\n",
    "model = load_model('./model/05-0.3220.hdf5')"
   ]
  },
  {
   "cell_type": "code",
   "execution_count": 8,
   "metadata": {},
   "outputs": [
    {
     "name": "stdout",
     "output_type": "stream",
     "text": [
      "41/41 [==============================] - 0s 4ms/step - loss: 0.2857 - accuracy: 0.9085\n",
      "Loss: 0.28571411967277527\n",
      "Accuracy: 0.9084615111351013\n"
     ]
    }
   ],
   "source": [
    "# 모델 평가\n",
    "loss, accuracy = model.evaluate(X_test, y_test)\n",
    "print(f'Loss: {loss}')\n",
    "print(f'Accuracy: {accuracy}')"
   ]
  },
  {
   "cell_type": "code",
   "execution_count": 9,
   "metadata": {},
   "outputs": [],
   "source": [
    "# 새로운 데이터 예측\n",
    "new_data = pd.DataFrame({\n",
    "    'fixed acidity': [7.4, 7.8, 7.8, 11.2, 7.4, 6.2, 6.6, 6.5, 5.5, 6.0],\n",
    "    'volatile acidity': [0.7, 0.88, 0.76, 0.28, 0.7, 0.21, 0.32, 0.24, 0.29, 0.21],\n",
    "    'citric acid': [0, 0, 0.04, 0.56, 0, 0.29, 0.36, 0.19, 0.3, 0.38],\n",
    "    'residual sugar': [1.9, 2.6, 2.3, 1.9, 1.9, 1.6, 8, 1.2, 1.1, 0.8],\n",
    "    'chlorides': [0.076, 0.098, 0.092, 0.075, 0.076, 0.039, 0.047, 0.041, 0.022, 0.02],\n",
    "    'free sulfur dioxide': [11, 25, 15, 17, 11, 24, 57, 30, 20, 22],\n",
    "    'total sulfur dioxide': [34, 67, 54, 60, 34, 92, 168, 111, 110, 98],\n",
    "    'density': [0.9978, 0.9968, 0.997, 0.998, 0.9978, 0.99114, 0.9949, 0.99254, 0.98869, 0.98941],\n",
    "    'pH': [3.51, 3.2, 3.26, 3.16, 3.51, 3.27, 3.15, 2.99, 3.34, 3.26],\n",
    "    'sulphates': [0.56, 0.68, 0.65, 0.58, 0.56, 0.5, 0.46, 0.46, 0.38, 0.32],\n",
    "    'alcohol': [9.4, 9.8, 9.8, 9.8, 9.4, 11.2, 9.6, 9.4, 12.8, 11.8],\n",
    "    'taste': [5, 5, 5, 6, 5, 6, 5, 6, 7, 6],\n",
    "    'quality': [1, 1, 1, 1, 1, 0, 0, 0, 0, 0]  # 실제 구분 등급인 quality 값을 추가(확인용)\n",
    "})"
   ]
  },
  {
   "cell_type": "code",
   "execution_count": 10,
   "metadata": {},
   "outputs": [],
   "source": [
    "# 실제 값과 입력 데이터를 분리\n",
    "actual_quality = new_data['quality'].values\n",
    "new_data = new_data.drop('quality', axis = 1).values"
   ]
  },
  {
   "cell_type": "code",
   "execution_count": 11,
   "metadata": {},
   "outputs": [
    {
     "name": "stdout",
     "output_type": "stream",
     "text": [
      "1/1 [==============================] - 0s 80ms/step\n",
      "Predictions:  [[0.49675328]\n",
      " [0.29817957]\n",
      " [0.2942013 ]\n",
      " [0.425234  ]\n",
      " [0.49675328]\n",
      " [0.08310024]\n",
      " [0.02022448]\n",
      " [0.07147766]\n",
      " [0.02662551]\n",
      " [0.05229677]]\n"
     ]
    }
   ],
   "source": [
    "# 데이터 프레임을 numpy 배열로 변환\n",
    "predictions = model.predict(new_data)\n",
    "print('Predictions: ', predictions)\n",
    "predictions = (predictions > 0.5).astype(int).flatten()"
   ]
  },
  {
   "cell_type": "code",
   "execution_count": 12,
   "metadata": {},
   "outputs": [
    {
     "name": "stdout",
     "output_type": "stream",
     "text": [
      "Predictions:  [0 0 0 0 0 0 0 0 0 0]\n",
      "Actual:  [1 1 1 1 1 0 0 0 0 0]\n",
      "Accuracy: 50.00%\n"
     ]
    }
   ],
   "source": [
    "# 정확도 계산\n",
    "accuracy = np.mean(predictions == actual_quality)\n",
    "print('Predictions: ', predictions)\n",
    "print('Actual: ', actual_quality)\n",
    "print(f'Accuracy: {accuracy * 100:.2f}%')"
   ]
  }
 ],
 "metadata": {
  "kernelspec": {
   "display_name": "tensor",
   "language": "python",
   "name": "python3"
  },
  "language_info": {
   "codemirror_mode": {
    "name": "ipython",
    "version": 3
   },
   "file_extension": ".py",
   "mimetype": "text/x-python",
   "name": "python",
   "nbconvert_exporter": "python",
   "pygments_lexer": "ipython3",
   "version": "3.8.19"
  }
 },
 "nbformat": 4,
 "nbformat_minor": 2
}
