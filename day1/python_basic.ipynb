{
 "cells": [
  {
   "cell_type": "markdown",
   "metadata": {},
   "source": [
    "# 기본 문법"
   ]
  },
  {
   "cell_type": "markdown",
   "metadata": {},
   "source": [
    "## 1. print() 함수\n",
    "print() 함수는 Python에서 화면에 출력을 할 때 사용됨"
   ]
  },
  {
   "cell_type": "code",
   "execution_count": 1,
   "metadata": {},
   "outputs": [
    {
     "name": "stdout",
     "output_type": "stream",
     "text": [
      "Hello, World!\n"
     ]
    }
   ],
   "source": [
    "print(\"Hello, World!\")"
   ]
  },
  {
   "cell_type": "code",
   "execution_count": 2,
   "metadata": {},
   "outputs": [
    {
     "name": "stdout",
     "output_type": "stream",
     "text": [
      "3\n"
     ]
    }
   ],
   "source": [
    "print(1 + 2)"
   ]
  },
  {
   "cell_type": "code",
   "execution_count": 3,
   "metadata": {},
   "outputs": [
    {
     "name": "stdout",
     "output_type": "stream",
     "text": [
      "결과는 7\n"
     ]
    }
   ],
   "source": [
    "print(\"결과는\", 3 + 4)"
   ]
  },
  {
   "cell_type": "markdown",
   "metadata": {},
   "source": [
    "### 다양한 자료형 출력하기"
   ]
  },
  {
   "cell_type": "code",
   "execution_count": 4,
   "metadata": {},
   "outputs": [
    {
     "name": "stdout",
     "output_type": "stream",
     "text": [
      "42\n",
      "Python is fun!\n",
      "[1, 2, 3, 4, 5]\n"
     ]
    }
   ],
   "source": [
    "# 정수 출력\n",
    "print(42)\n",
    "\n",
    "# 문자열 출력\n",
    "print(\"Python is fun!\")\n",
    "\n",
    "# 리스트 출력\n",
    "print([1, 2, 3, 4, 5])"
   ]
  },
  {
   "cell_type": "markdown",
   "metadata": {},
   "source": [
    "### sep과 end 매개변수\n",
    "\n",
    "print() 함수는 sep과 end라는 두 가지의 중요한 매개변수를 갖고 있음\n",
    "\n",
    "- sep 매개변수는 출력되는 항목들 사이에 삽입될 문자열을 지정함 (기본 값은 공백)\n",
    "- end 매개변수는 출력이 끝난 후 삽입될 문자열을 지정함 (기본 값은 줄바꿈)"
   ]
  },
  {
   "cell_type": "code",
   "execution_count": 7,
   "metadata": {},
   "outputs": [
    {
     "name": "stdout",
     "output_type": "stream",
     "text": [
      "apple, banana, cherry\n",
      "HelloWrold!\n"
     ]
    }
   ],
   "source": [
    "# sep 사용 예시\n",
    "print(\"apple\", \"banana\", \"cherry\", sep = \", \")\n",
    "\n",
    "# end 사용 예시\n",
    "print(\"Hello\", end = \"\")\n",
    "print(\"Wrold!\")"
   ]
  },
  {
   "cell_type": "markdown",
   "metadata": {},
   "source": [
    "## 2. input() 함수\n",
    "\n",
    "input() 함수는 사용자로부터 입력을 받을 때 사용함"
   ]
  },
  {
   "cell_type": "code",
   "execution_count": 8,
   "metadata": {},
   "outputs": [
    {
     "name": "stdout",
     "output_type": "stream",
     "text": [
      "Hello, 소연!\n"
     ]
    }
   ],
   "source": [
    "user_name = input(\"Enter your name: \")\n",
    "print(\"Hello, \" + user_name + \"!\")"
   ]
  },
  {
   "cell_type": "markdown",
   "metadata": {},
   "source": [
    "### 숫자 입력 받기\n",
    "\n",
    "input() 함수는 항상 문자열을 반환하기 때문에, 숫자를 입력받아야 할 때는 int()나 float()로 형 변환을 해줘야 함"
   ]
  },
  {
   "cell_type": "code",
   "execution_count": 9,
   "metadata": {},
   "outputs": [
    {
     "name": "stdout",
     "output_type": "stream",
     "text": [
      "You are 23 years old.\n"
     ]
    }
   ],
   "source": [
    "age = int(input(\"Enter your age: \"))\n",
    "print(\"You are\", age, \"years old.\")"
   ]
  },
  {
   "cell_type": "markdown",
   "metadata": {},
   "source": [
    "### 여러 값 입력받기\n",
    "\n",
    "한 줄에 여러 값을 입력받을 때는 split() 함수와 map() 함수를 사용할 수 있음\n",
    "- split() 함수는 입력된 문자열을 공백이나 다른 구분자를 기준으로 분할하여 리스트로 변환함\n",
    "- map() 함수는 리스트의 각 요소에 대해 주어진 함수를 적용하여 새로운 리스트를 만듦<br>\n",
    "   ex) map(int, ...)은 문자열 리스트를 정수 리스트로 변환함"
   ]
  },
  {
   "cell_type": "code",
   "execution_count": 10,
   "metadata": {},
   "outputs": [
    {
     "name": "stdout",
     "output_type": "stream",
     "text": [
      "You entered: ['1', '2', '3']\n",
      "You entered: [2, 5, 3]\n"
     ]
    }
   ],
   "source": [
    "# split() 사용 예시\n",
    "numbers = input(\"Enter three numbers separated by spaces: \").split()\n",
    "print(\"You entered:\", numbers)\n",
    "\n",
    "# map() 사용 예시\n",
    "numbers = list(map(int, input(\"Enter three numbers separated by spaces \").split()))\n",
    "print(\"You entered:\", numbers)"
   ]
  },
  {
   "cell_type": "markdown",
   "metadata": {},
   "source": [
    "## 3. 변수\n",
    "\n",
    "변수는 데이털르 저장하는 데 사용됨<br>\n",
    "Python에서 변수는 특정 타입을 지정하지 않고, 값을 할당함으로써 선언됨"
   ]
  },
  {
   "cell_type": "markdown",
   "metadata": {},
   "source": [
    "### 변수 선언 및 할당"
   ]
  },
  {
   "cell_type": "code",
   "execution_count": 14,
   "metadata": {},
   "outputs": [
    {
     "name": "stdout",
     "output_type": "stream",
     "text": [
      "10\n",
      "Hello\n",
      "3.14\n",
      "<class 'int'>\n",
      "<class 'str'>\n",
      "<class 'float'>\n"
     ]
    }
   ],
   "source": [
    "x = 10\n",
    "y = \"Hello\"\n",
    "z = 3.14\n",
    "\n",
    "print(x)\n",
    "print(y)\n",
    "print(z)\n",
    "\n",
    "print(type(x))\n",
    "print(type(y))\n",
    "print(type(z))"
   ]
  },
  {
   "cell_type": "markdown",
   "metadata": {},
   "source": [
    "### 변수 값 변경하기"
   ]
  },
  {
   "cell_type": "code",
   "execution_count": 13,
   "metadata": {},
   "outputs": [
    {
     "name": "stdout",
     "output_type": "stream",
     "text": [
      "10\n",
      "20\n"
     ]
    }
   ],
   "source": [
    "x = 10\n",
    "print(x)\n",
    "\n",
    "x = 20\n",
    "print(x)"
   ]
  },
  {
   "cell_type": "markdown",
   "metadata": {},
   "source": [
    "### 변수 간 값 교환하기"
   ]
  },
  {
   "cell_type": "code",
   "execution_count": 17,
   "metadata": {},
   "outputs": [
    {
     "name": "stdout",
     "output_type": "stream",
     "text": [
      "Before: a = 5 , b = 10\n",
      "After: a = 10 , b = 5\n"
     ]
    }
   ],
   "source": [
    "a = 5\n",
    "b = 10\n",
    "print(\"Before: a =\", a, \", b =\", b)\n",
    "\n",
    "a, b = b, a\n",
    "print(\"After: a =\", a, \", b =\", b)"
   ]
  },
  {
   "cell_type": "markdown",
   "metadata": {},
   "source": [
    "## 4. if 문"
   ]
  },
  {
   "cell_type": "code",
   "execution_count": 19,
   "metadata": {},
   "outputs": [
    {
     "name": "stdout",
     "output_type": "stream",
     "text": [
      "6 is greater than 5\n"
     ]
    }
   ],
   "source": [
    "x = int(input(\"입력: \"))\n",
    "\n",
    "if x > 5:\n",
    "    print(x, \"is greater than 5\")"
   ]
  },
  {
   "cell_type": "markdown",
   "metadata": {},
   "source": [
    "## 5. if-else 문"
   ]
  },
  {
   "cell_type": "code",
   "execution_count": 20,
   "metadata": {},
   "outputs": [
    {
     "name": "stdout",
     "output_type": "stream",
     "text": [
      "3 is not greater than 5\n"
     ]
    }
   ],
   "source": [
    "x = int(input(\"입력: \"))\n",
    "\n",
    "if x > 5:\n",
    "    print(x, \"is greater than 5\")\n",
    "else:\n",
    "    print(x, \"is not greater than 5\")"
   ]
  },
  {
   "cell_type": "markdown",
   "metadata": {},
   "source": [
    "## 6. if-elif-else 문"
   ]
  },
  {
   "cell_type": "code",
   "execution_count": 21,
   "metadata": {},
   "outputs": [
    {
     "name": "stdout",
     "output_type": "stream",
     "text": [
      "10 is equal to 10\n"
     ]
    }
   ],
   "source": [
    "x = 10\n",
    "\n",
    "if x > 10:\n",
    "    print(x, \"is greater than 10\")\n",
    "elif x == 10:\n",
    "    print(x, \"is equal to 10\")\n",
    "else:\n",
    "    print(x, \"is less than 10\")"
   ]
  },
  {
   "cell_type": "markdown",
   "metadata": {},
   "source": [
    "## 7. 중첩 조건문"
   ]
  },
  {
   "cell_type": "code",
   "execution_count": 22,
   "metadata": {},
   "outputs": [
    {
     "name": "stdout",
     "output_type": "stream",
     "text": [
      "12 is greater than 10\n"
     ]
    }
   ],
   "source": [
    "x = int(input(\"입력: \"))\n",
    "\n",
    "if x > 5:\n",
    "    if x < 10:\n",
    "        print(x, \"is between 5 and 10\")\n",
    "    else:\n",
    "        print(x, \"is greater than 10\")"
   ]
  }
 ],
 "metadata": {
  "kernelspec": {
   "display_name": "tensor",
   "language": "python",
   "name": "python3"
  },
  "language_info": {
   "codemirror_mode": {
    "name": "ipython",
    "version": 3
   },
   "file_extension": ".py",
   "mimetype": "text/x-python",
   "name": "python",
   "nbconvert_exporter": "python",
   "pygments_lexer": "ipython3",
   "version": "3.8.19"
  }
 },
 "nbformat": 4,
 "nbformat_minor": 2
}
