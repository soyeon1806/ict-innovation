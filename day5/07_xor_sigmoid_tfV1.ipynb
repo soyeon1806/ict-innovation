{
 "cells": [
  {
   "cell_type": "code",
   "execution_count": 22,
   "metadata": {},
   "outputs": [],
   "source": [
    "import tensorflow.compat.v1 as tf\n",
    "tf.disable_v2_behavior()\n",
    "import numpy as np"
   ]
  },
  {
   "cell_type": "code",
   "execution_count": 23,
   "metadata": {},
   "outputs": [],
   "source": [
    "learning_rate = 0.01\n",
    "tf.set_random_seed(0)\n",
    "np.random.seed(0)"
   ]
  },
  {
   "cell_type": "code",
   "execution_count": 24,
   "metadata": {},
   "outputs": [],
   "source": [
    "x_data = np.array([[0, 0], [0, 1], [1, 0], [1, 1]], dtype = np.float32)\n",
    "y_data = np.array([[0], [1], [1], [0]], dtype = np.float32)\n",
    "\n",
    "X = tf.placeholder(tf.float32, [None, 2])\n",
    "Y = tf.placeholder(tf.float32, [None, 1])\n",
    "\n",
    "W1 = tf.Variable(tf.random_normal([2, 5]), name = 'weight1')\n",
    "b1 = tf.Variable(tf.random_normal([5]), name = 'bias1')\n",
    "\n",
    "W2 = tf.Variable(tf.random_normal([5, 5]), name = 'weight2')\n",
    "b2 = tf.Variable(tf.random_normal([5]), name = 'bias2')\n",
    "\n",
    "W3 = tf.Variable(tf.random_normal([5, 5]), name = 'weight3')\n",
    "b3 = tf.Variable(tf.random_normal([5]), name = 'bias3')\n",
    "\n",
    "W4 = tf.Variable(tf.random_normal([5, 5]), name = 'weight4')\n",
    "b4 = tf.Variable(tf.random_normal([5]), name = 'bias4')\n",
    "\n",
    "W5 = tf.Variable(tf.random_normal([5, 5]), name = 'weight5')\n",
    "b5 = tf.Variable(tf.random_normal([5]), name = 'bias5')\n",
    "\n",
    "W6 = tf.Variable(tf.random_normal([5, 5]), name = 'weight6')\n",
    "b6 = tf.Variable(tf.random_normal([5]), name = 'bias6')\n",
    "\n",
    "W7 = tf.Variable(tf.random_normal([5, 5]), name = 'weight7')\n",
    "b7 = tf.Variable(tf.random_normal([5]), name = 'bias7')\n",
    "\n",
    "W8 = tf.Variable(tf.random_normal([5, 5]), name = 'weight8')\n",
    "b8 = tf.Variable(tf.random_normal([5]), name = 'bias8')\n",
    "\n",
    "W9 = tf.Variable(tf.random_normal([5, 5]), name = 'weight9')\n",
    "b9 = tf.Variable(tf.random_normal([5]), name = 'bias9')\n",
    "\n",
    "W10 = tf.Variable(tf.random_normal([5, 1]), name = 'weight10')\n",
    "b10 = tf.Variable(tf.random_normal([1]), name = 'bias10')"
   ]
  },
  {
   "cell_type": "code",
   "execution_count": 25,
   "metadata": {},
   "outputs": [],
   "source": [
    "def hypothesis():\n",
    "    layer1 = tf.sigmoid(tf.matmul(x_data, W1) + b1)\n",
    "    layer2 = tf.sigmoid(tf.matmul(layer1, W2) + b2)\n",
    "    layer3 = tf.sigmoid(tf.matmul(layer2, W3) + b3)\n",
    "    layer4 = tf.sigmoid(tf.matmul(layer3, W4) + b4)\n",
    "    layer5 = tf.sigmoid(tf.matmul(layer4, W5) + b5)\n",
    "    layer6 = tf.sigmoid(tf.matmul(layer5, W6) + b6)\n",
    "    layer7 = tf.sigmoid(tf.matmul(layer6, W7) + b7)\n",
    "    layer8 = tf.sigmoid(tf.matmul(layer7, W8) + b8)\n",
    "    layer9 = tf.sigmoid(tf.matmul(layer8, W9) + b9)\n",
    "    cost = tf.sigmoid(tf.matmul(layer9, W10) + b10)\n",
    "\n",
    "    return cost\n",
    "    "
   ]
  },
  {
   "cell_type": "code",
   "execution_count": 26,
   "metadata": {},
   "outputs": [],
   "source": [
    "cost = -tf.reduce_mean(y_data * tf.log(hypothesis()) + (1 - y_data) * tf.log(1 - hypothesis()))\n",
    "train = tf.train.GradientDescentOptimizer(learning_rate).minimize(cost)"
   ]
  },
  {
   "cell_type": "code",
   "execution_count": 27,
   "metadata": {},
   "outputs": [],
   "source": [
    "predicted = tf.cast(hypothesis() > 0.5, dtype = tf.float32)\n",
    "accuracy = tf.reduce_mean(tf.cast(tf.equal(predicted, y_data), dtype = tf.float32))"
   ]
  },
  {
   "cell_type": "code",
   "execution_count": 28,
   "metadata": {},
   "outputs": [
    {
     "name": "stdout",
     "output_type": "stream",
     "text": [
      "step =  0 cost =  0.7825508 [[-0.73173314  0.4741495   0.24105729  2.058107   -0.5132378 ]\n",
      " [ 0.6171242   0.7645921   0.3361333   1.577778   -0.9244262 ]\n",
      " [-0.37950546  1.060116    0.4725261  -0.06256945  2.2003388 ]\n",
      " [-0.83873355 -1.1596988   0.27424526  0.44216737  0.0126053 ]\n",
      " [ 1.0290936   0.76141894  0.22197531  1.0325111  -0.82623076]]\n",
      "step =  100 cost =  0.7121546 [[-0.73173314  0.4741458   0.2410558   2.058107   -0.5132325 ]\n",
      " [ 0.6171242   0.76456785  0.33612612  1.577778   -0.9244025 ]\n",
      " [-0.37950844  1.0600921   0.47251913 -0.06256941  2.2003627 ]\n",
      " [-0.83873504 -1.1597334   0.27423525  0.44216737  0.01263968]\n",
      " [ 1.0290936   0.7613944   0.22196844  1.0325111  -0.8262052 ]]\n",
      "step =  200 cost =  0.6969451 [[-0.73173314  0.47414362  0.24105576  2.058107   -0.5132325 ]\n",
      " [ 0.6171242   0.7645565   0.33612275  1.577778   -0.9243915 ]\n",
      " [-0.3795086   1.0600802   0.4725161  -0.06256941  2.2003736 ]\n",
      " [-0.83873504 -1.1597499   0.27423045  0.44216737  0.01265644]\n",
      " [ 1.0290936   0.76138365  0.2219654   1.0325111  -0.8261926 ]]\n",
      "step =  300 cost =  0.6938931 [[-0.73173314  0.47414362  0.24105576  2.058107   -0.5132325 ]\n",
      " [ 0.6171242   0.76455057  0.33612093  1.577778   -0.92438555]\n",
      " [-0.3795086   1.060078    0.47251514 -0.06256941  2.2003736 ]\n",
      " [-0.83873504 -1.1597594   0.27422747  0.44216737  0.01266444]\n",
      " [ 1.0290936   0.7613791   0.22196424  1.0325111  -0.82618666]]\n",
      "step =  400 cost =  0.69329166 [[-0.73173314  0.47414362  0.24105576  2.058107   -0.5132325 ]\n",
      " [ 0.6171242   0.7645502   0.33612093  1.577778   -0.9243854 ]\n",
      " [-0.3795086   1.060078    0.47251514 -0.06256941  2.2003736 ]\n",
      " [-0.83873504 -1.1597594   0.27422696  0.44216737  0.01266843]\n",
      " [ 1.0290936   0.7613791   0.22196424  1.0325111  -0.8261847 ]]\n",
      "step =  500 cost =  0.69317377 [[-0.73173314  0.47414362  0.24105576  2.058107   -0.5132325 ]\n",
      " [ 0.6171242   0.7645502   0.33612093  1.577778   -0.9243854 ]\n",
      " [-0.3795086   1.060078    0.47251514 -0.06256941  2.2003736 ]\n",
      " [-0.83873504 -1.1597594   0.27422696  0.44216737  0.01267062]\n",
      " [ 1.0290936   0.7613791   0.22196424  1.0325111  -0.8261847 ]]\n",
      "step =  600 cost =  0.69315064 [[-0.73173314  0.47414362  0.24105576  2.058107   -0.5132325 ]\n",
      " [ 0.6171242   0.7645502   0.33612093  1.577778   -0.9243854 ]\n",
      " [-0.3795086   1.060078    0.47251514 -0.06256941  2.2003736 ]\n",
      " [-0.83873504 -1.1597594   0.27422696  0.44216737  0.01267201]\n",
      " [ 1.0290936   0.7613791   0.22196424  1.0325111  -0.8261847 ]]\n",
      "step =  700 cost =  0.69314617 [[-0.73173314  0.47414362  0.24105576  2.058107   -0.5132325 ]\n",
      " [ 0.6171242   0.7645502   0.33612093  1.577778   -0.9243854 ]\n",
      " [-0.3795086   1.060078    0.47251514 -0.06256941  2.2003736 ]\n",
      " [-0.83873504 -1.1597594   0.27422696  0.44216737  0.01267304]\n",
      " [ 1.0290936   0.7613791   0.22196424  1.0325111  -0.8261847 ]]\n",
      "step =  800 cost =  0.6931453 [[-0.73173314  0.47414362  0.24105576  2.058107   -0.5132325 ]\n",
      " [ 0.6171242   0.7645502   0.33612093  1.577778   -0.9243854 ]\n",
      " [-0.3795086   1.060078    0.47251514 -0.06256941  2.2003736 ]\n",
      " [-0.83873504 -1.1597594   0.27422696  0.44216737  0.01267392]\n",
      " [ 1.0290936   0.7613791   0.22196424  1.0325111  -0.8261847 ]]\n",
      "step =  900 cost =  0.6931451 [[-0.73173314  0.47414362  0.24105576  2.058107   -0.5132325 ]\n",
      " [ 0.6171242   0.7645502   0.33612093  1.577778   -0.9243854 ]\n",
      " [-0.3795086   1.060078    0.47251514 -0.06256941  2.2003736 ]\n",
      " [-0.83873504 -1.1597594   0.27422696  0.44216737  0.01267476]\n",
      " [ 1.0290936   0.7613791   0.22196424  1.0325111  -0.8261847 ]]\n",
      "step =  1000 cost =  0.6931451 [[-0.73173314  0.47414362  0.24105576  2.058107   -0.5132325 ]\n",
      " [ 0.6171242   0.7645502   0.33612093  1.577778   -0.9243854 ]\n",
      " [-0.3795086   1.060078    0.47251514 -0.06256941  2.2003736 ]\n",
      " [-0.83873504 -1.1597594   0.27422696  0.44216737  0.01267551]\n",
      " [ 1.0290936   0.7613791   0.22196424  1.0325111  -0.8261847 ]]\n",
      "\n",
      "Accuracy:  0.5\n"
     ]
    }
   ],
   "source": [
    "with tf.Session() as sess:\n",
    "    sess.run(tf.global_variables_initializer())\n",
    "    for step in range(1001):\n",
    "        cost_val, _ = sess.run([cost, train], feed_dict={X: x_data, Y: y_data})\n",
    "\n",
    "        if step % 100 == 0:\n",
    "            print(\"step = \", step, \"cost = \", sess.run(cost, feed_dict = {X: x_data, Y: y_data}),sess.run(W2))\n",
    "    h, c, a = sess.run([hypothesis(), predicted, accuracy], feed_dict = {X: x_data, Y: y_data})\n",
    "    print(\"\\nAccuracy: \", a)"
   ]
  }
 ],
 "metadata": {
  "kernelspec": {
   "display_name": "tensor",
   "language": "python",
   "name": "python3"
  },
  "language_info": {
   "codemirror_mode": {
    "name": "ipython",
    "version": 3
   },
   "file_extension": ".py",
   "mimetype": "text/x-python",
   "name": "python",
   "nbconvert_exporter": "python",
   "pygments_lexer": "ipython3",
   "version": "3.8.19"
  }
 },
 "nbformat": 4,
 "nbformat_minor": 2
}
