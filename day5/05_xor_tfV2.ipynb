{
 "cells": [
  {
   "cell_type": "code",
   "execution_count": 15,
   "metadata": {},
   "outputs": [],
   "source": [
    "import tensorflow as tf\n",
    "import numpy as np"
   ]
  },
  {
   "cell_type": "code",
   "execution_count": 16,
   "metadata": {},
   "outputs": [],
   "source": [
    "learning_rate = 0.1\n",
    "tf.random.set_seed(0)\n",
    "np.random.seed(0)"
   ]
  },
  {
   "cell_type": "code",
   "execution_count": 17,
   "metadata": {},
   "outputs": [],
   "source": [
    "x_data = np.array([[0, 0], [0, 1], [1, 0], [1, 1]], dtype = np.float32)\n",
    "y_data = np.array([[0], [1], [1], [0]], dtype = np.float32)"
   ]
  },
  {
   "cell_type": "code",
   "execution_count": 18,
   "metadata": {},
   "outputs": [],
   "source": [
    "W1 = tf.Variable(tf.random.normal([2, 2]), name = 'weight1')\n",
    "b1 = tf.Variable(tf.random.normal([2]), name = 'bias1')\n",
    "\n",
    "W2 = tf.Variable(tf.random.normal([2, 1]), name = 'weight2')\n",
    "b2 = tf.Variable(tf.random.normal([1]), name = 'bias2')"
   ]
  },
  {
   "cell_type": "code",
   "execution_count": 19,
   "metadata": {},
   "outputs": [],
   "source": [
    "def hypothesis():\n",
    "    layer1= tf.sigmoid(tf.matmul(x_data, W1) + b1)\n",
    "    cost = tf.sigmoid(tf.matmul(layer1, W2) + b2)\n",
    "    return cost"
   ]
  },
  {
   "cell_type": "code",
   "execution_count": 20,
   "metadata": {},
   "outputs": [],
   "source": [
    "def costFunc():\n",
    "    return -tf.reduce_mean(y_data * tf.math.log(hypothesis()) + (1 - y_data) * tf.math.log(1 - hypothesis()))"
   ]
  },
  {
   "cell_type": "code",
   "execution_count": 21,
   "metadata": {},
   "outputs": [],
   "source": [
    "optimizer = tf.keras.optimizers.SGD(learning_rate)"
   ]
  },
  {
   "cell_type": "code",
   "execution_count": 22,
   "metadata": {},
   "outputs": [
    {
     "name": "stdout",
     "output_type": "stream",
     "text": [
      "epochs = 0, cost = 0.690912127494812, accuracy = 0.25\n",
      "epochs = 500, cost = 0.6448185443878174, accuracy = 0.75\n",
      "epochs = 1000, cost = 0.5669330358505249, accuracy = 0.75\n",
      "epochs = 1500, cost = 0.39970162510871887, accuracy = 1.0\n",
      "epochs = 2000, cost = 0.2012544572353363, accuracy = 1.0\n",
      "epochs = 2500, cost = 0.11436176300048828, accuracy = 1.0\n",
      "epochs = 3000, cost = 0.07670339196920395, accuracy = 1.0\n",
      "epochs = 3500, cost = 0.05686620995402336, accuracy = 1.0\n",
      "epochs = 4000, cost = 0.04486561566591263, accuracy = 1.0\n",
      "epochs = 4500, cost = 0.03690143674612045, accuracy = 1.0\n",
      "epochs = 5000, cost = 0.03126165270805359, accuracy = 1.0\n",
      "epochs = 5500, cost = 0.027072841301560402, accuracy = 1.0\n",
      "epochs = 6000, cost = 0.023846635594964027, accuracy = 1.0\n",
      "epochs = 6500, cost = 0.02128966897726059, accuracy = 1.0\n",
      "epochs = 7000, cost = 0.01921583153307438, accuracy = 1.0\n",
      "epochs = 7500, cost = 0.017501704394817352, accuracy = 1.0\n",
      "epochs = 8000, cost = 0.016062140464782715, accuracy = 1.0\n",
      "epochs = 8500, cost = 0.014836856164038181, accuracy = 1.0\n",
      "epochs = 9000, cost = 0.013781808316707611, accuracy = 1.0\n",
      "epochs = 9500, cost = 0.012864174321293831, accuracy = 1.0\n",
      "epochs = 10000, cost = 0.012058950960636139, accuracy = 1.0\n",
      "epochs = 10500, cost = 0.011346944607794285, accuracy = 1.0\n",
      "epochs = 11000, cost = 0.010712994262576103, accuracy = 1.0\n",
      "epochs = 11500, cost = 0.010145009495317936, accuracy = 1.0\n",
      "epochs = 12000, cost = 0.009633289650082588, accuracy = 1.0\n",
      "epochs = 12500, cost = 0.009169984608888626, accuracy = 1.0\n",
      "epochs = 13000, cost = 0.008748546242713928, accuracy = 1.0\n",
      "epochs = 13500, cost = 0.008363600820302963, accuracy = 1.0\n",
      "epochs = 14000, cost = 0.008010673336684704, accuracy = 1.0\n",
      "epochs = 14500, cost = 0.007685898803174496, accuracy = 1.0\n",
      "epochs = 15000, cost = 0.007386126555502415, accuracy = 1.0\n",
      "epochs = 15500, cost = 0.007108496036380529, accuracy = 1.0\n",
      "epochs = 16000, cost = 0.006850752513855696, accuracy = 1.0\n",
      "epochs = 16500, cost = 0.006610870826989412, accuracy = 1.0\n",
      "epochs = 17000, cost = 0.006386962253600359, accuracy = 1.0\n",
      "epochs = 17500, cost = 0.006177591159939766, accuracy = 1.0\n",
      "epochs = 18000, cost = 0.005981309339404106, accuracy = 1.0\n",
      "epochs = 18500, cost = 0.005796984303742647, accuracy = 1.0\n",
      "epochs = 19000, cost = 0.005623605102300644, accuracy = 1.0\n",
      "epochs = 19500, cost = 0.005460131913423538, accuracy = 1.0\n",
      "epochs = 20000, cost = 0.005305766128003597, accuracy = 1.0\n",
      "epochs = 20500, cost = 0.005159842781722546, accuracy = 1.0\n",
      "epochs = 21000, cost = 0.005021655932068825, accuracy = 1.0\n",
      "epochs = 21500, cost = 0.004890617914497852, accuracy = 1.0\n",
      "epochs = 22000, cost = 0.004766141064465046, accuracy = 1.0\n",
      "epochs = 22500, cost = 0.004647818859666586, accuracy = 1.0\n",
      "epochs = 23000, cost = 0.0045351251028478146, accuracy = 1.0\n",
      "epochs = 23500, cost = 0.004427744075655937, accuracy = 1.0\n",
      "epochs = 24000, cost = 0.004325253423303366, accuracy = 1.0\n",
      "epochs = 24500, cost = 0.00422739889472723, accuracy = 1.0\n",
      "epochs = 25000, cost = 0.004133818671107292, accuracy = 1.0\n",
      "epochs = 25500, cost = 0.004044228233397007, accuracy = 1.0\n",
      "epochs = 26000, cost = 0.0039584459736943245, accuracy = 1.0\n",
      "epochs = 26500, cost = 0.003876157570630312, accuracy = 1.0\n",
      "epochs = 27000, cost = 0.0037972270511090755, accuracy = 1.0\n",
      "epochs = 27500, cost = 0.0037213992327451706, accuracy = 1.0\n",
      "epochs = 28000, cost = 0.0036485090386122465, accuracy = 1.0\n",
      "epochs = 28500, cost = 0.0035784209612756968, accuracy = 1.0\n",
      "epochs = 29000, cost = 0.003510925220325589, accuracy = 1.0\n",
      "epochs = 29500, cost = 0.0034459170419722795, accuracy = 1.0\n",
      "epochs = 30000, cost = 0.00338324555195868, accuracy = 1.0\n"
     ]
    }
   ],
   "source": [
    "for step in range(30001):\n",
    "    with tf.GradientTape() as tape:\n",
    "        cost_value = costFunc()\n",
    "    gradients = tape.gradient(cost_value, [W1, b1, W2, b2])\n",
    "    optimizer.apply_gradients(zip(gradients, [W1, b1, W2, b2]))\n",
    "\n",
    "    if step % 500 == 0:\n",
    "        predicted = tf.cast(hypothesis() > 0.5, dtype = tf.float32)\n",
    "        accuracy = tf.reduce_mean(tf.cast(tf.equal(predicted, y_data), dtype = tf.float32))\n",
    "        print(f'epochs = {step}, cost = {cost_value.numpy()}, accuracy = {accuracy.numpy()}')"
   ]
  },
  {
   "cell_type": "code",
   "execution_count": 23,
   "metadata": {},
   "outputs": [],
   "source": [
    "predicted = tf.cast(hypothesis() > 0.5, dtype = tf.float32)\n",
    "accuracy = tf.reduce_mean(tf.cast(tf.equal(predicted, y_data), dtype = tf.float32))"
   ]
  },
  {
   "cell_type": "code",
   "execution_count": 24,
   "metadata": {},
   "outputs": [
    {
     "name": "stdout",
     "output_type": "stream",
     "text": [
      "\n",
      "Hypothesis:  [[0.00325404]\n",
      " [0.9955772 ]\n",
      " [0.9969734 ]\n",
      " [0.00280545]]\n",
      "Correct:  [[0.]\n",
      " [1.]\n",
      " [1.]\n",
      " [0.]]\n",
      "Accuracy:  1.0\n"
     ]
    }
   ],
   "source": [
    "print(\"\\nHypothesis: \", hypothesis().numpy())\n",
    "print(\"Correct: \", predicted.numpy())\n",
    "print(\"Accuracy: \", accuracy.numpy())"
   ]
  }
 ],
 "metadata": {
  "kernelspec": {
   "display_name": "tensor",
   "language": "python",
   "name": "python3"
  },
  "language_info": {
   "codemirror_mode": {
    "name": "ipython",
    "version": 3
   },
   "file_extension": ".py",
   "mimetype": "text/x-python",
   "name": "python",
   "nbconvert_exporter": "python",
   "pygments_lexer": "ipython3",
   "version": "3.8.19"
  }
 },
 "nbformat": 4,
 "nbformat_minor": 2
}
