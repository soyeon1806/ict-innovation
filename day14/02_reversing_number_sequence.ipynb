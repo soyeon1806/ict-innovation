{
 "cells": [
  {
   "cell_type": "code",
   "execution_count": 1,
   "metadata": {},
   "outputs": [],
   "source": [
    "import numpy as np\n",
    "\n",
    "from tensorflow.keras.models import Sequential\n",
    "from tensorflow.keras.layers import Embedding\n",
    "from tensorflow.keras.layers import Bidirectional\n",
    "from tensorflow.keras.layers import LSTM\n",
    "from tensorflow.keras.layers import Dense, Dropout, Activation\n",
    "from tensorflow.keras.preprocessing.text import Tokenizer\n",
    "from tensorflow.keras.preprocessing.sequence import pad_sequences"
   ]
  },
  {
   "cell_type": "code",
   "execution_count": 2,
   "metadata": {},
   "outputs": [
    {
     "name": "stdout",
     "output_type": "stream",
     "text": [
      "[[1 3 9 1 5]\n",
      " [8 0 9 4 5]\n",
      " [7 5 8 1 8]\n",
      " [7 3 1 2 3]]\n",
      "[[5 1 9 3 1]\n",
      " [5 4 9 0 8]\n",
      " [8 1 8 5 7]\n",
      " [3 2 1 3 7]]\n"
     ]
    }
   ],
   "source": [
    "# 학습 데이터 생성\n",
    "train_data = np.random.randint(0, 10, size = (10000, 5))\n",
    "label_data = np.flip(train_data, axis = 1)\n",
    "print(train_data[:4])\n",
    "print(label_data[:4])"
   ]
  },
  {
   "cell_type": "code",
   "execution_count": 3,
   "metadata": {},
   "outputs": [
    {
     "name": "stdout",
     "output_type": "stream",
     "text": [
      "[1 3 9 1 5]\n"
     ]
    }
   ],
   "source": [
    "# pad_sequence 전처리\n",
    "padded_train = pad_sequences(train_data, maxlen = 5)\n",
    "print(padded_train[0])"
   ]
  },
  {
   "cell_type": "code",
   "execution_count": 4,
   "metadata": {},
   "outputs": [],
   "source": [
    "# 모델링\n",
    "model = Sequential()\n",
    "model.add(Embedding(10, 100, input_length = 5))\n",
    "model.add(Bidirectional(LSTM(64, return_sequences = True)))\n",
    "model.add(Dense(10, activation = 'softmax'))"
   ]
  },
  {
   "cell_type": "code",
   "execution_count": 5,
   "metadata": {},
   "outputs": [
    {
     "name": "stdout",
     "output_type": "stream",
     "text": [
      "Model: \"sequential\"\n",
      "_________________________________________________________________\n",
      " Layer (type)                Output Shape              Param #   \n",
      "=================================================================\n",
      " embedding (Embedding)       (None, 5, 100)            1000      \n",
      "                                                                 \n",
      " bidirectional (Bidirectiona  (None, 5, 128)           84480     \n",
      " l)                                                              \n",
      "                                                                 \n",
      " dense (Dense)               (None, 5, 10)             1290      \n",
      "                                                                 \n",
      "=================================================================\n",
      "Total params: 86,770\n",
      "Trainable params: 86,770\n",
      "Non-trainable params: 0\n",
      "_________________________________________________________________\n"
     ]
    }
   ],
   "source": [
    "# 모델 요약\n",
    "model.build(input_shape = (None, 5))\n",
    "model.summary()"
   ]
  },
  {
   "cell_type": "code",
   "execution_count": 6,
   "metadata": {},
   "outputs": [],
   "source": [
    "# 모델 컴파일\n",
    "model.compile(loss = 'sparse_categorical_crossentropy', optimizer = 'adam', metrics = ['accuracy'])"
   ]
  },
  {
   "cell_type": "code",
   "execution_count": 7,
   "metadata": {},
   "outputs": [
    {
     "name": "stdout",
     "output_type": "stream",
     "text": [
      "Epoch 1/10\n",
      "250/250 [==============================] - 20s 38ms/step - loss: 1.4987 - accuracy: 0.4412 - val_loss: 1.0651 - val_accuracy: 0.5389\n",
      "Epoch 2/10\n",
      "250/250 [==============================] - 5s 21ms/step - loss: 0.9917 - accuracy: 0.5582 - val_loss: 0.9266 - val_accuracy: 0.5805\n",
      "Epoch 3/10\n",
      "250/250 [==============================] - 5s 21ms/step - loss: 0.8768 - accuracy: 0.5997 - val_loss: 0.8346 - val_accuracy: 0.6214\n",
      "Epoch 4/10\n",
      "250/250 [==============================] - 6s 22ms/step - loss: 0.7672 - accuracy: 0.6611 - val_loss: 0.7334 - val_accuracy: 0.6792\n",
      "Epoch 5/10\n",
      "250/250 [==============================] - 4s 14ms/step - loss: 0.6503 - accuracy: 0.7380 - val_loss: 0.6094 - val_accuracy: 0.7636\n",
      "Epoch 6/10\n",
      "250/250 [==============================] - 3s 11ms/step - loss: 0.5213 - accuracy: 0.8134 - val_loss: 0.4820 - val_accuracy: 0.8277\n",
      "Epoch 7/10\n",
      "250/250 [==============================] - 3s 12ms/step - loss: 0.3988 - accuracy: 0.8717 - val_loss: 0.3604 - val_accuracy: 0.8871\n",
      "Epoch 8/10\n",
      "250/250 [==============================] - 2s 10ms/step - loss: 0.2900 - accuracy: 0.9149 - val_loss: 0.2485 - val_accuracy: 0.9323\n",
      "Epoch 9/10\n",
      "250/250 [==============================] - 2s 10ms/step - loss: 0.1970 - accuracy: 0.9505 - val_loss: 0.1621 - val_accuracy: 0.9665\n",
      "Epoch 10/10\n",
      "250/250 [==============================] - 3s 10ms/step - loss: 0.1303 - accuracy: 0.9725 - val_loss: 0.1065 - val_accuracy: 0.9793\n"
     ]
    }
   ],
   "source": [
    "# 모델 실행\n",
    "history = model.fit(padded_train, label_data, epochs = 10, batch_size = 32, validation_split = 0.2)"
   ]
  },
  {
   "cell_type": "code",
   "execution_count": 8,
   "metadata": {},
   "outputs": [
    {
     "name": "stdout",
     "output_type": "stream",
     "text": [
      "313/313 [==============================] - 3s 8ms/step - loss: 0.1012 - accuracy: 0.9814\n",
      "loss :  0.1012, acc =  0.9814\n"
     ]
    }
   ],
   "source": [
    "# loss와 accuracy\n",
    "loss, acc = model.evaluate(padded_train, label_data)\n",
    "print(f\"loss : {loss: .4f}, acc = {acc: .4f}\")"
   ]
  },
  {
   "cell_type": "code",
   "execution_count": 11,
   "metadata": {},
   "outputs": [
    {
     "name": "stdout",
     "output_type": "stream",
     "text": [
      "1/1 [==============================] - 0s 37ms/step\n",
      "[5 4 3 2 1]\n",
      "1/1 [==============================] - 0s 49ms/step\n",
      "[5 7 8 6 5]\n",
      "종료합니다\n"
     ]
    }
   ],
   "source": [
    "# 입력받아 예측하는 프로그램 작성\n",
    "while True:\n",
    "    user = input(\"0~9 사이의 숫자 5개 또는 Quit: \")\n",
    "    if user == 'Quit':\n",
    "        print(\"종료합니다\")\n",
    "        break\n",
    "    numbers = list(map(int, user.split()))\n",
    "    array_numbers = np.array([numbers])\n",
    "    padded_numbers = pad_sequences(array_numbers, maxlen = 5)\n",
    "    prediction = model.predict(padded_numbers)\n",
    "    print(np.argmax(prediction, axis = -1)[0])"
   ]
  }
 ],
 "metadata": {
  "kernelspec": {
   "display_name": "tensor",
   "language": "python",
   "name": "python3"
  },
  "language_info": {
   "codemirror_mode": {
    "name": "ipython",
    "version": 3
   },
   "file_extension": ".py",
   "mimetype": "text/x-python",
   "name": "python",
   "nbconvert_exporter": "python",
   "pygments_lexer": "ipython3",
   "version": "3.8.19"
  }
 },
 "nbformat": 4,
 "nbformat_minor": 2
}
