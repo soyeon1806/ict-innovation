{
 "cells": [
  {
   "cell_type": "code",
   "execution_count": 1,
   "metadata": {},
   "outputs": [],
   "source": [
    "import numpy as np\n",
    "\n",
    "from tensorflow.keras.models import Sequential\n",
    "from tensorflow.keras.layers import Embedding\n",
    "from tensorflow.keras.layers import Bidirectional\n",
    "from tensorflow.keras.layers import LSTM\n",
    "from tensorflow.keras.layers import Dense, Dropout, Activation\n",
    "from tensorflow.keras.preprocessing.text import Tokenizer\n",
    "from tensorflow.keras.preprocessing.sequence import pad_sequences"
   ]
  },
  {
   "cell_type": "code",
   "execution_count": 2,
   "metadata": {},
   "outputs": [
    {
     "name": "stdout",
     "output_type": "stream",
     "text": [
      "[[7 1 3 3 3]\n",
      " [2 4 5 5 9]\n",
      " [4 2 7 8 4]\n",
      " [4 9 5 0 7]]\n",
      "[[3 3 3 1 7]\n",
      " [9 5 5 4 2]\n",
      " [4 8 7 2 4]\n",
      " [7 0 5 9 4]]\n"
     ]
    }
   ],
   "source": [
    "# 학습 데이터 생성\n",
    "train_data = np.random.randint(0, 10, size = (10000, 5))\n",
    "label_data = np.flip(train_data, axis = 1)\n",
    "print(train_data[:4])\n",
    "print(label_data[:4])"
   ]
  },
  {
   "cell_type": "code",
   "execution_count": 3,
   "metadata": {},
   "outputs": [
    {
     "name": "stdout",
     "output_type": "stream",
     "text": [
      "[7 1 3 3 3]\n"
     ]
    }
   ],
   "source": [
    "padded_train = pad_sequences(train_data, maxlen = 5)\n",
    "print(padded_train[0])"
   ]
  },
  {
   "cell_type": "code",
   "execution_count": 4,
   "metadata": {},
   "outputs": [],
   "source": [
    "# 모델링\n",
    "model = Sequential()\n",
    "model.add(Embedding(10, 100, input_length = 5))\n",
    "model.add(Bidirectional(LSTM(64, return_sequences = True)))\n",
    "model.add(Dense(10, activation = 'softmax'))"
   ]
  },
  {
   "cell_type": "code",
   "execution_count": 5,
   "metadata": {},
   "outputs": [
    {
     "name": "stdout",
     "output_type": "stream",
     "text": [
      "Model: \"sequential\"\n",
      "_________________________________________________________________\n",
      " Layer (type)                Output Shape              Param #   \n",
      "=================================================================\n",
      " embedding (Embedding)       (None, 5, 100)            1000      \n",
      "                                                                 \n",
      " bidirectional (Bidirectiona  (None, 5, 128)           84480     \n",
      " l)                                                              \n",
      "                                                                 \n",
      " dense (Dense)               (None, 5, 10)             1290      \n",
      "                                                                 \n",
      "=================================================================\n",
      "Total params: 86,770\n",
      "Trainable params: 86,770\n",
      "Non-trainable params: 0\n",
      "_________________________________________________________________\n"
     ]
    }
   ],
   "source": [
    "# 모델 요약\n",
    "model.build(input_shape = (None, 5))\n",
    "model.summary()"
   ]
  },
  {
   "cell_type": "code",
   "execution_count": 6,
   "metadata": {},
   "outputs": [],
   "source": [
    "# 모델 컴파일\n",
    "model.compile(loss = 'sparse_categorical_crossentropy', optimizer = 'adam', metrics = ['accuracy'])"
   ]
  },
  {
   "cell_type": "code",
   "execution_count": 7,
   "metadata": {},
   "outputs": [
    {
     "name": "stdout",
     "output_type": "stream",
     "text": [
      "Epoch 1/10\n",
      "250/250 [==============================] - 3s 7ms/step - loss: 1.4927 - accuracy: 0.4459 - val_loss: 1.0622 - val_accuracy: 0.5356\n",
      "Epoch 2/10\n",
      "250/250 [==============================] - 1s 6ms/step - loss: 0.9924 - accuracy: 0.5592 - val_loss: 0.9238 - val_accuracy: 0.5798\n",
      "Epoch 3/10\n",
      "250/250 [==============================] - 1s 6ms/step - loss: 0.8774 - accuracy: 0.5957 - val_loss: 0.8369 - val_accuracy: 0.6173\n",
      "Epoch 4/10\n",
      "250/250 [==============================] - 2s 6ms/step - loss: 0.7693 - accuracy: 0.6522 - val_loss: 0.7163 - val_accuracy: 0.6892\n",
      "Epoch 5/10\n",
      "250/250 [==============================] - 2s 7ms/step - loss: 0.6569 - accuracy: 0.7279 - val_loss: 0.6043 - val_accuracy: 0.7581\n",
      "Epoch 6/10\n",
      "250/250 [==============================] - 2s 7ms/step - loss: 0.5332 - accuracy: 0.8062 - val_loss: 0.4728 - val_accuracy: 0.8345\n",
      "Epoch 7/10\n",
      "250/250 [==============================] - 2s 7ms/step - loss: 0.4038 - accuracy: 0.8700 - val_loss: 0.3622 - val_accuracy: 0.8803\n",
      "Epoch 8/10\n",
      "250/250 [==============================] - 2s 7ms/step - loss: 0.2930 - accuracy: 0.9144 - val_loss: 0.2562 - val_accuracy: 0.9225\n",
      "Epoch 9/10\n",
      "250/250 [==============================] - 2s 8ms/step - loss: 0.2044 - accuracy: 0.9468 - val_loss: 0.1771 - val_accuracy: 0.9533\n",
      "Epoch 10/10\n",
      "250/250 [==============================] - 2s 7ms/step - loss: 0.1370 - accuracy: 0.9698 - val_loss: 0.1132 - val_accuracy: 0.9769\n"
     ]
    }
   ],
   "source": [
    "# 모델 실행\n",
    "history = model.fit(padded_train, label_data, epochs = 10, batch_size = 32, validation_split = 0.2)"
   ]
  },
  {
   "cell_type": "code",
   "execution_count": 8,
   "metadata": {},
   "outputs": [
    {
     "name": "stdout",
     "output_type": "stream",
     "text": [
      "313/313 [==============================] - 1s 4ms/step - loss: 0.1097 - accuracy: 0.9792\n",
      "loss :  0.1097, acc =  0.9792\n"
     ]
    }
   ],
   "source": [
    "# loss와 accuracy\n",
    "loss, acc = model.evaluate(padded_train, label_data)\n",
    "print(f\"loss : {loss: .4f}, acc = {acc: .4f}\")"
   ]
  },
  {
   "cell_type": "code",
   "execution_count": 9,
   "metadata": {},
   "outputs": [
    {
     "name": "stdout",
     "output_type": "stream",
     "text": [
      "1/1 [==============================] - 0s 351ms/step\n",
      "[0 0 0 0 0]\n",
      "1/1 [==============================] - 0s 15ms/step\n",
      "[0 0 0 0 0]\n"
     ]
    },
    {
     "ename": "ValueError",
     "evalue": "invalid literal for int() with base 10: 'qㅕㅑㅅ'",
     "output_type": "error",
     "traceback": [
      "\u001b[1;31m---------------------------------------------------------------------------\u001b[0m",
      "\u001b[1;31mValueError\u001b[0m                                Traceback (most recent call last)",
      "Cell \u001b[1;32mIn[9], line 7\u001b[0m\n\u001b[0;32m      5\u001b[0m     \u001b[38;5;28mprint\u001b[39m(\u001b[38;5;124m\"\u001b[39m\u001b[38;5;124m종료합니다\u001b[39m\u001b[38;5;124m\"\u001b[39m)\n\u001b[0;32m      6\u001b[0m     \u001b[38;5;28;01mbreak\u001b[39;00m\n\u001b[1;32m----> 7\u001b[0m numbers \u001b[38;5;241m=\u001b[39m \u001b[38;5;28;43mlist\u001b[39;49m\u001b[43m(\u001b[49m\u001b[38;5;28;43mmap\u001b[39;49m\u001b[43m(\u001b[49m\u001b[38;5;28;43mint\u001b[39;49m\u001b[43m,\u001b[49m\u001b[43m \u001b[49m\u001b[43muser\u001b[49m\u001b[38;5;241;43m.\u001b[39;49m\u001b[43msplit\u001b[49m\u001b[43m(\u001b[49m\u001b[43m)\u001b[49m\u001b[43m)\u001b[49m\u001b[43m)\u001b[49m\n\u001b[0;32m      8\u001b[0m array_numbers \u001b[38;5;241m=\u001b[39m np\u001b[38;5;241m.\u001b[39marray([numbers])\n\u001b[0;32m      9\u001b[0m padded_numbers \u001b[38;5;241m=\u001b[39m pad_sequences(array_numbers, maxlen \u001b[38;5;241m=\u001b[39m \u001b[38;5;241m5\u001b[39m)\n",
      "\u001b[1;31mValueError\u001b[0m: invalid literal for int() with base 10: 'qㅕㅑㅅ'"
     ]
    }
   ],
   "source": [
    "# 입력받아 예측하는 프로그램 작성\n",
    "while True:\n",
    "    user = input(\"0~9 사이의 숫자 5개 또는 Quit: \")\n",
    "    if user == 'Quit':\n",
    "        print(\"종료합니다\")\n",
    "        break\n",
    "    numbers = list(map(int, user.split()))\n",
    "    array_numbers = np.array([numbers])\n",
    "    padded_numbers = pad_sequences(array_numbers, maxlen = 5)\n",
    "    prediction = model.predict(padded_numbers)\n",
    "    print(np.argmax(prediction, axis = -1)[0])"
   ]
  }
 ],
 "metadata": {
  "kernelspec": {
   "display_name": "tensor",
   "language": "python",
   "name": "python3"
  },
  "language_info": {
   "codemirror_mode": {
    "name": "ipython",
    "version": 3
   },
   "file_extension": ".py",
   "mimetype": "text/x-python",
   "name": "python",
   "nbconvert_exporter": "python",
   "pygments_lexer": "ipython3",
   "version": "3.8.19"
  }
 },
 "nbformat": 4,
 "nbformat_minor": 2
}
