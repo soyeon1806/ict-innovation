{
 "cells": [
  {
   "cell_type": "code",
   "execution_count": 1,
   "metadata": {},
   "outputs": [],
   "source": [
    "import numpy as np\n",
    "import tensorflow as tf\n",
    "from tensorflow.keras.models import Sequential\n",
    "from tensorflow.keras.layers import Dense, LSTM, RepeatVector, TimeDistributed, Dropout\n",
    "from tensorflow.keras.callbacks import EarlyStopping"
   ]
  },
  {
   "cell_type": "code",
   "execution_count": 2,
   "metadata": {},
   "outputs": [],
   "source": [
    "def generate_data(num_samples):\n",
    "    X = np.random.randint(0, 10, (num_samples, 5))\n",
    "    y = np.flip(X, axis = 1)\n",
    "    return X, y"
   ]
  },
  {
   "cell_type": "code",
   "execution_count": 3,
   "metadata": {},
   "outputs": [],
   "source": [
    "num_samples = 20000\n",
    "X, y = generate_data(num_samples)"
   ]
  },
  {
   "cell_type": "code",
   "execution_count": 4,
   "metadata": {},
   "outputs": [],
   "source": [
    "X = X.reshape((X.shape[0], X.shape[1], 1))\n",
    "y = y.reshape((y.shape[0], y.shape[1], 1))"
   ]
  },
  {
   "cell_type": "code",
   "execution_count": 6,
   "metadata": {},
   "outputs": [],
   "source": [
    "model = Sequential()\n",
    "model.add(LSTM(128, input_shape = (5, 1)))\n",
    "model.add(Dropout(0.2))\n",
    "model.add(RepeatVector(5))\n",
    "model.add(LSTM(128, return_sequences = True))\n",
    "model.add(Dropout(0.2))\n",
    "model.add(TimeDistributed(Dense(10, activation = 'softmax')))\n",
    "\n",
    "model.compile(optimizer = 'adam', loss = 'sparse_categorical_crossentropy', metrics = ['accuracy'])"
   ]
  },
  {
   "cell_type": "code",
   "execution_count": 9,
   "metadata": {},
   "outputs": [],
   "source": [
    "early_stoping = EarlyStopping(monitor = 'val_loss', patience = 5, restore_best_weights = True)"
   ]
  },
  {
   "cell_type": "code",
   "execution_count": 10,
   "metadata": {},
   "outputs": [
    {
     "name": "stdout",
     "output_type": "stream",
     "text": [
      "Epoch 1/50\n",
      "500/500 [==============================] - 10s 12ms/step - loss: 2.0006 - accuracy: 0.2207 - val_loss: 1.6986 - val_accuracy: 0.3139\n",
      "Epoch 2/50\n",
      "500/500 [==============================] - 5s 11ms/step - loss: 1.3896 - accuracy: 0.4360 - val_loss: 0.8768 - val_accuracy: 0.7380\n",
      "Epoch 3/50\n",
      "500/500 [==============================] - 6s 11ms/step - loss: 0.7476 - accuracy: 0.7194 - val_loss: 0.4554 - val_accuracy: 0.9280\n",
      "Epoch 4/50\n",
      "500/500 [==============================] - 5s 11ms/step - loss: 0.5238 - accuracy: 0.8159 - val_loss: 0.2759 - val_accuracy: 0.9857\n",
      "Epoch 5/50\n",
      "500/500 [==============================] - 5s 10ms/step - loss: 0.4184 - accuracy: 0.8550 - val_loss: 0.2130 - val_accuracy: 0.9822\n",
      "Epoch 6/50\n",
      "500/500 [==============================] - 6s 12ms/step - loss: 0.3610 - accuracy: 0.8766 - val_loss: 0.1693 - val_accuracy: 0.9886\n",
      "Epoch 7/50\n",
      "500/500 [==============================] - 5s 11ms/step - loss: 0.3193 - accuracy: 0.8902 - val_loss: 0.1491 - val_accuracy: 0.9829\n",
      "Epoch 8/50\n",
      "500/500 [==============================] - 5s 10ms/step - loss: 0.2881 - accuracy: 0.9015 - val_loss: 0.1663 - val_accuracy: 0.9675\n",
      "Epoch 9/50\n",
      "500/500 [==============================] - 6s 11ms/step - loss: 0.2616 - accuracy: 0.9124 - val_loss: 0.0939 - val_accuracy: 0.9936\n",
      "Epoch 10/50\n",
      "500/500 [==============================] - 6s 12ms/step - loss: 0.2434 - accuracy: 0.9180 - val_loss: 0.0730 - val_accuracy: 0.9974\n",
      "Epoch 11/50\n",
      "500/500 [==============================] - 5s 11ms/step - loss: 0.2252 - accuracy: 0.9241 - val_loss: 0.0784 - val_accuracy: 0.9946\n",
      "Epoch 12/50\n",
      "500/500 [==============================] - 5s 10ms/step - loss: 0.2190 - accuracy: 0.9265 - val_loss: 0.0590 - val_accuracy: 0.9970\n",
      "Epoch 13/50\n",
      "500/500 [==============================] - 7s 13ms/step - loss: 0.1982 - accuracy: 0.9342 - val_loss: 0.0508 - val_accuracy: 0.9966\n",
      "Epoch 14/50\n",
      "500/500 [==============================] - 6s 13ms/step - loss: 0.1993 - accuracy: 0.9332 - val_loss: 0.0468 - val_accuracy: 0.9971\n",
      "Epoch 15/50\n",
      "500/500 [==============================] - 7s 15ms/step - loss: 0.1831 - accuracy: 0.9392 - val_loss: 0.0390 - val_accuracy: 0.9989\n",
      "Epoch 16/50\n",
      "500/500 [==============================] - 6s 12ms/step - loss: 0.1713 - accuracy: 0.9442 - val_loss: 0.0428 - val_accuracy: 0.9958\n",
      "Epoch 17/50\n",
      "500/500 [==============================] - 5s 10ms/step - loss: 0.1632 - accuracy: 0.9463 - val_loss: 0.0546 - val_accuracy: 0.9894\n",
      "Epoch 18/50\n",
      "500/500 [==============================] - 5s 10ms/step - loss: 0.1696 - accuracy: 0.9442 - val_loss: 0.0348 - val_accuracy: 0.9967\n",
      "Epoch 19/50\n",
      "500/500 [==============================] - 5s 11ms/step - loss: 0.1530 - accuracy: 0.9499 - val_loss: 0.0244 - val_accuracy: 0.9995\n",
      "Epoch 20/50\n",
      "500/500 [==============================] - 8s 15ms/step - loss: 0.1457 - accuracy: 0.9536 - val_loss: 0.0286 - val_accuracy: 0.9973\n",
      "Epoch 21/50\n",
      "500/500 [==============================] - 9s 19ms/step - loss: 0.1447 - accuracy: 0.9532 - val_loss: 0.0228 - val_accuracy: 0.9992\n",
      "Epoch 22/50\n",
      "500/500 [==============================] - 9s 17ms/step - loss: 0.1393 - accuracy: 0.9549 - val_loss: 0.0250 - val_accuracy: 0.9980\n",
      "Epoch 23/50\n",
      "500/500 [==============================] - 6s 12ms/step - loss: 0.1318 - accuracy: 0.9575 - val_loss: 0.0243 - val_accuracy: 0.9979\n",
      "Epoch 24/50\n",
      "500/500 [==============================] - 5s 11ms/step - loss: 0.1313 - accuracy: 0.9580 - val_loss: 0.0216 - val_accuracy: 0.9977\n",
      "Epoch 25/50\n",
      "500/500 [==============================] - 6s 12ms/step - loss: 0.1272 - accuracy: 0.9585 - val_loss: 0.0255 - val_accuracy: 0.9962\n",
      "Epoch 26/50\n",
      "500/500 [==============================] - 7s 13ms/step - loss: 0.1198 - accuracy: 0.9619 - val_loss: 0.0251 - val_accuracy: 0.9961\n",
      "Epoch 27/50\n",
      "500/500 [==============================] - 6s 13ms/step - loss: 0.1176 - accuracy: 0.9621 - val_loss: 0.0174 - val_accuracy: 0.9987\n",
      "Epoch 28/50\n",
      "500/500 [==============================] - 6s 12ms/step - loss: 0.1127 - accuracy: 0.9645 - val_loss: 0.0162 - val_accuracy: 0.9984\n",
      "Epoch 29/50\n",
      "500/500 [==============================] - 6s 12ms/step - loss: 0.1139 - accuracy: 0.9637 - val_loss: 0.0123 - val_accuracy: 0.9993\n",
      "Epoch 30/50\n",
      "500/500 [==============================] - 7s 14ms/step - loss: 0.1049 - accuracy: 0.9670 - val_loss: 0.0163 - val_accuracy: 0.9986\n",
      "Epoch 31/50\n",
      "500/500 [==============================] - 7s 13ms/step - loss: 0.1077 - accuracy: 0.9648 - val_loss: 0.0173 - val_accuracy: 0.9974\n",
      "Epoch 32/50\n",
      "500/500 [==============================] - 7s 14ms/step - loss: 0.1034 - accuracy: 0.9669 - val_loss: 0.0171 - val_accuracy: 0.9973\n",
      "Epoch 33/50\n",
      "500/500 [==============================] - 7s 13ms/step - loss: 0.1013 - accuracy: 0.9680 - val_loss: 0.0116 - val_accuracy: 0.9991\n",
      "Epoch 34/50\n",
      "500/500 [==============================] - 5s 11ms/step - loss: 0.0931 - accuracy: 0.9713 - val_loss: 0.0123 - val_accuracy: 0.9984\n",
      "Epoch 35/50\n",
      "500/500 [==============================] - 6s 11ms/step - loss: 0.0953 - accuracy: 0.9694 - val_loss: 0.0127 - val_accuracy: 0.9984\n",
      "Epoch 36/50\n",
      "500/500 [==============================] - 5s 11ms/step - loss: 0.0936 - accuracy: 0.9709 - val_loss: 0.0122 - val_accuracy: 0.9986\n",
      "Epoch 37/50\n",
      "500/500 [==============================] - 6s 11ms/step - loss: 0.0923 - accuracy: 0.9700 - val_loss: 0.0088 - val_accuracy: 0.9993\n",
      "Epoch 38/50\n",
      "500/500 [==============================] - 6s 11ms/step - loss: 0.0870 - accuracy: 0.9724 - val_loss: 0.0119 - val_accuracy: 0.9977\n",
      "Epoch 39/50\n",
      "500/500 [==============================] - 6s 12ms/step - loss: 0.0875 - accuracy: 0.9723 - val_loss: 0.0084 - val_accuracy: 0.9995\n",
      "Epoch 40/50\n",
      "500/500 [==============================] - 6s 12ms/step - loss: 0.0820 - accuracy: 0.9738 - val_loss: 0.0070 - val_accuracy: 0.9998\n",
      "Epoch 41/50\n",
      "500/500 [==============================] - 6s 12ms/step - loss: 0.0851 - accuracy: 0.9730 - val_loss: 0.0088 - val_accuracy: 0.9991\n",
      "Epoch 42/50\n",
      "500/500 [==============================] - 6s 12ms/step - loss: 0.0804 - accuracy: 0.9753 - val_loss: 0.0077 - val_accuracy: 0.9991\n",
      "Epoch 43/50\n",
      "500/500 [==============================] - 6s 12ms/step - loss: 0.0782 - accuracy: 0.9755 - val_loss: 0.0076 - val_accuracy: 0.9987\n",
      "Epoch 44/50\n",
      "500/500 [==============================] - 6s 12ms/step - loss: 0.0784 - accuracy: 0.9758 - val_loss: 0.0096 - val_accuracy: 0.9990\n",
      "Epoch 45/50\n",
      "500/500 [==============================] - 6s 12ms/step - loss: 0.0766 - accuracy: 0.9756 - val_loss: 0.0081 - val_accuracy: 0.9988\n"
     ]
    },
    {
     "data": {
      "text/plain": [
       "<keras.callbacks.History at 0x1d373b57250>"
      ]
     },
     "execution_count": 10,
     "metadata": {},
     "output_type": "execute_result"
    }
   ],
   "source": [
    "model.fit(X, y, epochs = 50, validation_split = 0.2, callbacks = [early_stoping])"
   ]
  },
  {
   "cell_type": "code",
   "execution_count": 11,
   "metadata": {},
   "outputs": [],
   "source": [
    "def predict_reverse(input_sequence):\n",
    "    input_sequence = np.array(input_sequence).reshape((1, 5, 1))\n",
    "    predicted_sequence = model.predict(input_sequence)\n",
    "    return np.argmax(predicted_sequence, axis = -1).reshape((5, ))"
   ]
  },
  {
   "cell_type": "code",
   "execution_count": 13,
   "metadata": {},
   "outputs": [
    {
     "name": "stdout",
     "output_type": "stream",
     "text": [
      "유효한 숫자를 입력해주세요.\n"
     ]
    }
   ],
   "source": [
    "while True:\n",
    "    user_input = input(\"입력 (쉼표로 구분된 5개의 숫자, 종료하려면 'quit' 입력): \")\n",
    "    if user_input.lower() == \"quit\":\n",
    "        break\n",
    "    try:\n",
    "        input_sequence = list(map(int, user_input.split(',')))\n",
    "    \n",
    "        if len(input_sequence) != 5:\n",
    "            print(\"5개의 숫자를 입력해주세요.\")\n",
    "            continue\n",
    "        predicted_output = predict_reverse(input_sequence)\n",
    "        print(f\"입력:  {input_sequence}\")\n",
    "        print(f\"예측된 출력: {predicted_output}\")\n",
    "\n",
    "    except ValueError:\n",
    "        print(\"유효한 숫자를 입력해주세요.\")"
   ]
  },
  {
   "cell_type": "code",
   "execution_count": 14,
   "metadata": {},
   "outputs": [],
   "source": [
    "test_X, test_y = generate_data(20)"
   ]
  },
  {
   "cell_type": "code",
   "execution_count": 15,
   "metadata": {},
   "outputs": [],
   "source": [
    "correct_predictions = 0\n",
    "total_predictions = len(test_X)"
   ]
  },
  {
   "cell_type": "code",
   "execution_count": 17,
   "metadata": {},
   "outputs": [
    {
     "name": "stdout",
     "output_type": "stream",
     "text": [
      "1/1 [==============================] - 1s 750ms/step\n",
      "입력: [5 1 8 2 2]\n",
      "예측된 출력: [2 2 8 1 5]\n",
      "실제 출력: [2 2 8 1 5]\n",
      "정확 여부: 맞음\n",
      "1/1 [==============================] - 0s 41ms/step\n",
      "입력: [4 4 2 4 3]\n",
      "예측된 출력: [3 4 2 4 4]\n",
      "실제 출력: [3 4 2 4 4]\n",
      "정확 여부: 맞음\n",
      "1/1 [==============================] - 0s 33ms/step\n",
      "입력: [4 5 4 2 3]\n",
      "예측된 출력: [3 2 4 5 4]\n",
      "실제 출력: [3 2 4 5 4]\n",
      "정확 여부: 맞음\n",
      "1/1 [==============================] - 0s 35ms/step\n",
      "입력: [3 3 8 5 0]\n",
      "예측된 출력: [0 5 8 3 3]\n",
      "실제 출력: [0 5 8 3 3]\n",
      "정확 여부: 맞음\n",
      "1/1 [==============================] - 0s 35ms/step\n",
      "입력: [7 9 1 0 5]\n",
      "예측된 출력: [5 0 1 9 7]\n",
      "실제 출력: [5 0 1 9 7]\n",
      "정확 여부: 맞음\n",
      "1/1 [==============================] - 0s 29ms/step\n",
      "입력: [7 0 7 9 8]\n",
      "예측된 출력: [8 9 7 0 7]\n",
      "실제 출력: [8 9 7 0 7]\n",
      "정확 여부: 맞음\n",
      "1/1 [==============================] - 0s 35ms/step\n",
      "입력: [4 6 5 4 7]\n",
      "예측된 출력: [7 4 5 6 4]\n",
      "실제 출력: [7 4 5 6 4]\n",
      "정확 여부: 맞음\n",
      "1/1 [==============================] - 0s 26ms/step\n",
      "입력: [4 7 2 5 4]\n",
      "예측된 출력: [4 5 2 7 4]\n",
      "실제 출력: [4 5 2 7 4]\n",
      "정확 여부: 맞음\n",
      "1/1 [==============================] - 0s 34ms/step\n",
      "입력: [2 1 9 4 9]\n",
      "예측된 출력: [9 4 9 1 2]\n",
      "실제 출력: [9 4 9 1 2]\n",
      "정확 여부: 맞음\n",
      "1/1 [==============================] - 0s 44ms/step\n",
      "입력: [1 7 5 9 8]\n",
      "예측된 출력: [8 9 5 7 1]\n",
      "실제 출력: [8 9 5 7 1]\n",
      "정확 여부: 맞음\n",
      "1/1 [==============================] - 0s 31ms/step\n",
      "입력: [0 6 5 6 1]\n",
      "예측된 출력: [1 6 5 6 0]\n",
      "실제 출력: [1 6 5 6 0]\n",
      "정확 여부: 맞음\n",
      "1/1 [==============================] - 0s 27ms/step\n",
      "입력: [0 2 7 9 9]\n",
      "예측된 출력: [9 9 7 2 0]\n",
      "실제 출력: [9 9 7 2 0]\n",
      "정확 여부: 맞음\n",
      "1/1 [==============================] - 0s 28ms/step\n",
      "입력: [1 9 1 4 9]\n",
      "예측된 출력: [9 4 1 9 1]\n",
      "실제 출력: [9 4 1 9 1]\n",
      "정확 여부: 맞음\n",
      "1/1 [==============================] - 0s 28ms/step\n",
      "입력: [0 6 9 2 0]\n",
      "예측된 출력: [0 2 9 6 0]\n",
      "실제 출력: [0 2 9 6 0]\n",
      "정확 여부: 맞음\n",
      "1/1 [==============================] - 0s 29ms/step\n",
      "입력: [9 0 9 0 6]\n",
      "예측된 출력: [6 0 9 0 9]\n",
      "실제 출력: [6 0 9 0 9]\n",
      "정확 여부: 맞음\n",
      "1/1 [==============================] - 0s 29ms/step\n",
      "입력: [9 1 2 7 8]\n",
      "예측된 출력: [8 7 2 1 9]\n",
      "실제 출력: [8 7 2 1 9]\n",
      "정확 여부: 맞음\n",
      "1/1 [==============================] - 0s 30ms/step\n",
      "입력: [4 7 0 3 5]\n",
      "예측된 출력: [5 3 0 7 4]\n",
      "실제 출력: [5 3 0 7 4]\n",
      "정확 여부: 맞음\n",
      "1/1 [==============================] - 0s 29ms/step\n",
      "입력: [0 3 0 1 9]\n",
      "예측된 출력: [9 1 0 3 0]\n",
      "실제 출력: [9 1 0 3 0]\n",
      "정확 여부: 맞음\n",
      "1/1 [==============================] - 0s 25ms/step\n",
      "입력: [8 0 8 1 4]\n",
      "예측된 출력: [4 1 8 0 8]\n",
      "실제 출력: [4 1 8 0 8]\n",
      "정확 여부: 맞음\n",
      "1/1 [==============================] - 0s 30ms/step\n",
      "입력: [6 8 2 1 5]\n",
      "예측된 출력: [5 1 2 8 6]\n",
      "실제 출력: [5 1 2 8 6]\n",
      "정확 여부: 맞음\n",
      "총 정확도: 100.00%\n"
     ]
    }
   ],
   "source": [
    "for i in range(total_predictions):\n",
    "    input_sequence = test_X[i]\n",
    "    true_output = test_y[i].reshape(5, )\n",
    "    predicted_output = predict_reverse(input_sequence)\n",
    "\n",
    "    if np.array_equal(predicted_output, true_output):\n",
    "        correct_predictions += 1\n",
    "\n",
    "    print(f\"입력: {input_sequence.reshape(5, )}\")\n",
    "    print(f\"예측된 출력: {predicted_output}\")\n",
    "    print(f\"실제 출력: {true_output}\")\n",
    "    print(f\"정확 여부: {'맞음' if np.array_equal(predicted_output, true_output) else '틀림'}\")\n",
    "\n",
    "accuracy = correct_predictions / total_predictions\n",
    "print(f\"총 정확도: {accuracy * 100:.2f}%\")"
   ]
  }
 ],
 "metadata": {
  "kernelspec": {
   "display_name": "tensor",
   "language": "python",
   "name": "python3"
  },
  "language_info": {
   "codemirror_mode": {
    "name": "ipython",
    "version": 3
   },
   "file_extension": ".py",
   "mimetype": "text/x-python",
   "name": "python",
   "nbconvert_exporter": "python",
   "pygments_lexer": "ipython3",
   "version": "3.8.19"
  }
 },
 "nbformat": 4,
 "nbformat_minor": 2
}
