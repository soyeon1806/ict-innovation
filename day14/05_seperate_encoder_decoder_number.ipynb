{
 "cells": [
  {
   "cell_type": "code",
   "execution_count": 2,
   "metadata": {},
   "outputs": [],
   "source": [
    "import numpy as np\n",
    "import tensorflow as tf\n",
    "\n",
    "from tensorflow.keras.models import Model\n",
    "from tensorflow.keras.layers import Input, LSTM, Dense, Dropout\n",
    "from tensorflow.keras.callbacks import EarlyStopping"
   ]
  },
  {
   "cell_type": "code",
   "execution_count": 3,
   "metadata": {},
   "outputs": [],
   "source": [
    "# 데이터 생성 함수\n",
    "def generate_data(num_samples):\n",
    "    X = np.random.randint(0, 10, (num_samples, 5))\n",
    "    y = np.flip(X, axis = 1)\n",
    "    return X, y"
   ]
  },
  {
   "cell_type": "code",
   "execution_count": 4,
   "metadata": {},
   "outputs": [],
   "source": [
    "# 데이터 생성\n",
    "num_samples = 20000\n",
    "X, y = generate_data(num_samples)"
   ]
  },
  {
   "cell_type": "code",
   "execution_count": null,
   "metadata": {},
   "outputs": [],
   "source": [
    "# 데이터 형태 변환 (LSTM을 사용하기 위해 3D 텐서로 변환)\n",
    "X = X.reshape((X.shape[0], X.shape[1], 1))\n",
    "y = y.reshape((y.shape[0], y.shape[1], 1))"
   ]
  },
  {
   "cell_type": "code",
   "execution_count": 5,
   "metadata": {},
   "outputs": [],
   "source": [
    "# 인코더 정의\n",
    "encoder_inputs = Input(shape = (5, 1))\n",
    "encoder = LSTM(128, return_state = True)\n",
    "encoder_outputs, state_h, state_c = encoder(encoder_inputs)\n",
    "encoder_states = [state_h, state_c]"
   ]
  },
  {
   "cell_type": "code",
   "execution_count": 6,
   "metadata": {},
   "outputs": [],
   "source": [
    "# 디코더 정의\n",
    "decoder_inputs = Input(shape = (5, 1))\n",
    "decoder_lstm = LSTM(128, return_sequences = True, return_state = True)\n",
    "decoder_outputs, _, _ = decoder_lstm(decoder_inputs, initial_state = encoder_states)\n",
    "decoder_dense = Dense(10, activation = 'softmax')\n",
    "decoder_outputs = decoder_dense(decoder_outputs)"
   ]
  },
  {
   "cell_type": "code",
   "execution_count": 8,
   "metadata": {},
   "outputs": [],
   "source": [
    "# 모델 정의\n",
    "model = Model([encoder_inputs, decoder_inputs], decoder_outputs)\n",
    "\n",
    "model.compile(optimizer = 'adam', loss = 'sparse_categorical_crossentropy', metrics = ['accuracy'])"
   ]
  },
  {
   "cell_type": "code",
   "execution_count": 9,
   "metadata": {},
   "outputs": [],
   "source": [
    "# 입력 데이터와 타겟 데이터를 동일하게 맞춤\n",
    "decoder_input_data = np.zeros_like(X)"
   ]
  },
  {
   "cell_type": "code",
   "execution_count": 10,
   "metadata": {},
   "outputs": [],
   "source": [
    "# EarlyStopping 콜백 정의\n",
    "early_stopping = EarlyStopping(monitor = 'val_loss', patience = 5, restore_best_weights = True)"
   ]
  },
  {
   "cell_type": "code",
   "execution_count": 11,
   "metadata": {},
   "outputs": [
    {
     "name": "stdout",
     "output_type": "stream",
     "text": [
      "Epoch 1/50\n",
      "500/500 [==============================] - 13s 19ms/step - loss: 1.6562 - accuracy: 0.3648 - val_loss: 0.9247 - val_accuracy: 0.7520\n",
      "Epoch 2/50\n",
      "500/500 [==============================] - 8s 17ms/step - loss: 0.6207 - accuracy: 0.9111 - val_loss: 0.3893 - val_accuracy: 0.9811\n",
      "Epoch 3/50\n",
      "500/500 [==============================] - 6s 13ms/step - loss: 0.2596 - accuracy: 0.9901 - val_loss: 0.1471 - val_accuracy: 0.9998\n",
      "Epoch 4/50\n",
      "500/500 [==============================] - 8s 16ms/step - loss: 0.1102 - accuracy: 0.9948 - val_loss: 0.0637 - val_accuracy: 0.9999\n",
      "Epoch 5/50\n",
      "500/500 [==============================] - 8s 16ms/step - loss: 0.0801 - accuracy: 0.9883 - val_loss: 0.0352 - val_accuracy: 1.0000\n",
      "Epoch 6/50\n",
      "500/500 [==============================] - 7s 15ms/step - loss: 0.0263 - accuracy: 1.0000 - val_loss: 0.0204 - val_accuracy: 1.0000\n",
      "Epoch 7/50\n",
      "500/500 [==============================] - 7s 14ms/step - loss: 0.0486 - accuracy: 0.9893 - val_loss: 0.0609 - val_accuracy: 0.9867\n",
      "Epoch 8/50\n",
      "500/500 [==============================] - 7s 14ms/step - loss: 0.0185 - accuracy: 0.9986 - val_loss: 0.0103 - val_accuracy: 1.0000\n",
      "Epoch 9/50\n",
      "500/500 [==============================] - 7s 13ms/step - loss: 0.0083 - accuracy: 1.0000 - val_loss: 0.0070 - val_accuracy: 1.0000\n",
      "Epoch 10/50\n",
      "500/500 [==============================] - 7s 14ms/step - loss: 0.0057 - accuracy: 1.0000 - val_loss: 0.0048 - val_accuracy: 1.0000\n",
      "Epoch 11/50\n",
      "500/500 [==============================] - 7s 13ms/step - loss: 0.0040 - accuracy: 1.0000 - val_loss: 0.0035 - val_accuracy: 1.0000\n",
      "Epoch 12/50\n",
      "500/500 [==============================] - 6s 11ms/step - loss: 0.0029 - accuracy: 1.0000 - val_loss: 0.0026 - val_accuracy: 1.0000\n",
      "Epoch 13/50\n",
      "500/500 [==============================] - 6s 12ms/step - loss: 0.0021 - accuracy: 1.0000 - val_loss: 0.0019 - val_accuracy: 1.0000\n",
      "Epoch 14/50\n",
      "500/500 [==============================] - 5s 10ms/step - loss: 0.0016 - accuracy: 1.0000 - val_loss: 0.0014 - val_accuracy: 1.0000\n",
      "Epoch 15/50\n",
      "500/500 [==============================] - 5s 11ms/step - loss: 0.1566 - accuracy: 0.9648 - val_loss: 0.0732 - val_accuracy: 0.9905\n",
      "Epoch 16/50\n",
      "500/500 [==============================] - 5s 11ms/step - loss: 0.0263 - accuracy: 0.9955 - val_loss: 0.0270 - val_accuracy: 0.9934\n",
      "Epoch 17/50\n",
      "500/500 [==============================] - 5s 11ms/step - loss: 0.0237 - accuracy: 0.9942 - val_loss: 0.0045 - val_accuracy: 1.0000\n",
      "Epoch 18/50\n",
      "500/500 [==============================] - 5s 11ms/step - loss: 0.0035 - accuracy: 1.0000 - val_loss: 0.0029 - val_accuracy: 1.0000\n",
      "Epoch 19/50\n",
      "500/500 [==============================] - 5s 11ms/step - loss: 0.0024 - accuracy: 1.0000 - val_loss: 0.0021 - val_accuracy: 1.0000\n"
     ]
    },
    {
     "data": {
      "text/plain": [
       "<keras.callbacks.History at 0x1f9090af820>"
      ]
     },
     "execution_count": 11,
     "metadata": {},
     "output_type": "execute_result"
    }
   ],
   "source": [
    "# 모델 학습\n",
    "model.fit([X, decoder_input_data], y, epochs = 50, validation_split = 0.2, callbacks = [early_stopping])"
   ]
  },
  {
   "cell_type": "code",
   "execution_count": 12,
   "metadata": {},
   "outputs": [],
   "source": [
    "# 모델 검증 함수\n",
    "def predict_reverse(input_sequence):\n",
    "    input_sequence = np.array(input_sequence).reshape((1, 5, 1))\n",
    "    decoder_input = np.zeros((1, 5, 1))\n",
    "    predicted_sequence =model.predict([input_sequence, decoder_input])\n",
    "    return np.argmax(predicted_sequence, axis = -1).reshape((5, ))"
   ]
  },
  {
   "cell_type": "code",
   "execution_count": 13,
   "metadata": {},
   "outputs": [],
   "source": [
    "# 검증용 데이터 생성\n",
    "test_X, test_y = generate_data(20)"
   ]
  },
  {
   "cell_type": "code",
   "execution_count": 14,
   "metadata": {},
   "outputs": [
    {
     "name": "stdout",
     "output_type": "stream",
     "text": [
      "1/1 [==============================] - 1s 1s/step\n",
      "입력: [8 4 5 6 2]\n",
      "예측된 출력: [2 6 5 4 8]\n",
      "실제 출력: [2 6 5 4 8]\n",
      "정확 여부: 맞음\n",
      "\n",
      "1/1 [==============================] - 0s 36ms/step\n",
      "입력: [8 8 7 2 3]\n",
      "예측된 출력: [3 2 7 8 8]\n",
      "실제 출력: [3 2 7 8 8]\n",
      "정확 여부: 맞음\n",
      "\n",
      "1/1 [==============================] - 0s 41ms/step\n",
      "입력: [5 5 0 4 9]\n",
      "예측된 출력: [9 4 0 5 5]\n",
      "실제 출력: [9 4 0 5 5]\n",
      "정확 여부: 맞음\n",
      "\n",
      "1/1 [==============================] - 0s 53ms/step\n",
      "입력: [9 2 2 5 1]\n",
      "예측된 출력: [1 5 2 2 9]\n",
      "실제 출력: [1 5 2 2 9]\n",
      "정확 여부: 맞음\n",
      "\n",
      "1/1 [==============================] - 0s 64ms/step\n",
      "입력: [2 7 5 0 3]\n",
      "예측된 출력: [3 0 5 7 2]\n",
      "실제 출력: [3 0 5 7 2]\n",
      "정확 여부: 맞음\n",
      "\n",
      "1/1 [==============================] - 0s 58ms/step\n",
      "입력: [8 9 1 3 8]\n",
      "예측된 출력: [8 3 1 9 8]\n",
      "실제 출력: [8 3 1 9 8]\n",
      "정확 여부: 맞음\n",
      "\n",
      "1/1 [==============================] - 0s 50ms/step\n",
      "입력: [8 7 7 8 7]\n",
      "예측된 출력: [7 8 7 7 8]\n",
      "실제 출력: [7 8 7 7 8]\n",
      "정확 여부: 맞음\n",
      "\n",
      "1/1 [==============================] - 0s 46ms/step\n",
      "입력: [2 0 2 6 7]\n",
      "예측된 출력: [7 6 2 0 2]\n",
      "실제 출력: [7 6 2 0 2]\n",
      "정확 여부: 맞음\n",
      "\n",
      "1/1 [==============================] - 0s 48ms/step\n",
      "입력: [4 8 2 7 1]\n",
      "예측된 출력: [1 7 2 8 4]\n",
      "실제 출력: [1 7 2 8 4]\n",
      "정확 여부: 맞음\n",
      "\n",
      "1/1 [==============================] - 0s 40ms/step\n",
      "입력: [2 9 9 0 1]\n",
      "예측된 출력: [1 0 9 9 2]\n",
      "실제 출력: [1 0 9 9 2]\n",
      "정확 여부: 맞음\n",
      "\n",
      "1/1 [==============================] - 0s 44ms/step\n",
      "입력: [7 5 8 9 7]\n",
      "예측된 출력: [7 9 8 5 7]\n",
      "실제 출력: [7 9 8 5 7]\n",
      "정확 여부: 맞음\n",
      "\n",
      "1/1 [==============================] - 0s 43ms/step\n",
      "입력: [0 8 5 2 2]\n",
      "예측된 출력: [2 2 5 8 0]\n",
      "실제 출력: [2 2 5 8 0]\n",
      "정확 여부: 맞음\n",
      "\n",
      "1/1 [==============================] - 0s 57ms/step\n",
      "입력: [0 0 2 6 7]\n",
      "예측된 출력: [7 6 2 0 0]\n",
      "실제 출력: [7 6 2 0 0]\n",
      "정확 여부: 맞음\n",
      "\n",
      "1/1 [==============================] - 0s 45ms/step\n",
      "입력: [2 9 3 4 8]\n",
      "예측된 출력: [8 4 3 9 2]\n",
      "실제 출력: [8 4 3 9 2]\n",
      "정확 여부: 맞음\n",
      "\n",
      "1/1 [==============================] - 0s 37ms/step\n",
      "입력: [4 9 4 1 9]\n",
      "예측된 출력: [9 1 4 9 4]\n",
      "실제 출력: [9 1 4 9 4]\n",
      "정확 여부: 맞음\n",
      "\n",
      "1/1 [==============================] - 0s 36ms/step\n",
      "입력: [0 2 8 6 8]\n",
      "예측된 출력: [8 6 8 2 0]\n",
      "실제 출력: [8 6 8 2 0]\n",
      "정확 여부: 맞음\n",
      "\n",
      "1/1 [==============================] - 0s 38ms/step\n",
      "입력: [1 5 2 0 2]\n",
      "예측된 출력: [2 0 2 5 1]\n",
      "실제 출력: [2 0 2 5 1]\n",
      "정확 여부: 맞음\n",
      "\n",
      "1/1 [==============================] - 0s 63ms/step\n",
      "입력: [3 9 1 1 6]\n",
      "예측된 출력: [6 1 1 9 3]\n",
      "실제 출력: [6 1 1 9 3]\n",
      "정확 여부: 맞음\n",
      "\n",
      "1/1 [==============================] - 0s 41ms/step\n",
      "입력: [1 6 0 2 9]\n",
      "예측된 출력: [9 2 0 6 1]\n",
      "실제 출력: [9 2 0 6 1]\n",
      "정확 여부: 맞음\n",
      "\n",
      "1/1 [==============================] - 0s 77ms/step\n",
      "입력: [5 5 5 7 2]\n",
      "예측된 출력: [2 7 5 5 5]\n",
      "실제 출력: [2 7 5 5 5]\n",
      "정확 여부: 맞음\n",
      "\n",
      "총 정확도: 100.00%\n"
     ]
    }
   ],
   "source": [
    "# 모델 예측 및 정확도 계산\n",
    "correct_predictions = 0\n",
    "total_predictions = len(test_X)\n",
    "\n",
    "for i in range(total_predictions):\n",
    "    input_sequence = test_X[i]\n",
    "    true_output = test_y[i].reshape(5, )\n",
    "    predicted_output = predict_reverse(input_sequence)\n",
    "\n",
    "    if np.array_equal(predicted_output, true_output):\n",
    "        correct_predictions += 1\n",
    "\n",
    "    print(f\"입력: {input_sequence.reshape(5, )}\")\n",
    "    print(f\"예측된 출력: {predicted_output}\")\n",
    "    print(f\"실제 출력: {true_output}\")\n",
    "    print(f\"정확 여부: {'맞음' if np.array_equal(predicted_output, true_output) else '틀림'}\\n\")\n",
    "\n",
    "accuracy = correct_predictions / total_predictions\n",
    "print(f\"총 정확도: {accuracy * 100:.2f}%\")"
   ]
  }
 ],
 "metadata": {
  "kernelspec": {
   "display_name": "tensor",
   "language": "python",
   "name": "python3"
  },
  "language_info": {
   "codemirror_mode": {
    "name": "ipython",
    "version": 3
   },
   "file_extension": ".py",
   "mimetype": "text/x-python",
   "name": "python",
   "nbconvert_exporter": "python",
   "pygments_lexer": "ipython3",
   "version": "3.8.19"
  }
 },
 "nbformat": 4,
 "nbformat_minor": 2
}
