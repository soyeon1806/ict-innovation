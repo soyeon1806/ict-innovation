{
 "cells": [
  {
   "cell_type": "code",
   "execution_count": 1,
   "metadata": {},
   "outputs": [],
   "source": [
    "import numpy as np\n",
    "\n",
    "from tensorflow.keras.models import Sequential\n",
    "from tensorflow.keras.layers import Embedding\n",
    "from tensorflow.keras.layers import Bidirectional\n",
    "from tensorflow.keras.layers import LSTM\n",
    "from tensorflow.keras.layers import Dense, Dropout, Activation\n",
    "from tensorflow.keras.preprocessing.text import Tokenizer\n",
    "from tensorflow.keras.preprocessing.sequence import pad_sequences"
   ]
  },
  {
   "cell_type": "code",
   "execution_count": 2,
   "metadata": {},
   "outputs": [],
   "source": [
    "cal_len = 5"
   ]
  },
  {
   "cell_type": "code",
   "execution_count": 3,
   "metadata": {},
   "outputs": [],
   "source": [
    "chars = 'ABCDEFGHIJKLMNOPQRSTUVWXYZabcdefghijklmnopqrstuvwxyz'\n",
    "num_classes = len(chars)\n",
    "\n",
    "char_to_index = {char: idx for idx, char in enumerate(chars)}\n",
    "index_to_index = {idx: char for idx, char in enumerate(chars)}"
   ]
  },
  {
   "cell_type": "code",
   "execution_count": 4,
   "metadata": {},
   "outputs": [],
   "source": [
    "# 학습 데이터 생성\n",
    "train_data = np.random.choice(list(chars), size = (10000, cal_len))\n",
    "label_data = np.flip(train_data, axis = 1)"
   ]
  },
  {
   "cell_type": "code",
   "execution_count": 5,
   "metadata": {},
   "outputs": [
    {
     "name": "stdout",
     "output_type": "stream",
     "text": [
      "[['D' 'W' 'n' 'T' 'D']\n",
      " ['f' 'a' 'P' 'n' 'g']\n",
      " ['Y' 'G' 'i' 'D' 'd']\n",
      " ['u' 'K' 'x' 'z' 'i']]\n",
      "[['D' 'T' 'n' 'W' 'D']\n",
      " ['g' 'n' 'P' 'a' 'f']\n",
      " ['d' 'D' 'i' 'G' 'Y']\n",
      " ['i' 'z' 'x' 'K' 'u']]\n"
     ]
    }
   ],
   "source": [
    "# 문자 데이터를 숫자 인덱스로 변환\n",
    "train_data_indices = np.array([[char_to_index[char] for char in seq] for seq in train_data])\n",
    "label_data_indices = np.array([[char_to_index[char] for char in seq] for seq in label_data])\n",
    "\n",
    "print(train_data[:4])\n",
    "print(label_data[:4])"
   ]
  },
  {
   "cell_type": "code",
   "execution_count": 6,
   "metadata": {},
   "outputs": [],
   "source": [
    "# pad_sequence 전처리\n",
    "padded_train = pad_sequences(train_data_indices, maxlen = cal_len)\n",
    "padded_labels = pad_sequences(label_data_indices, maxlen = cal_len)"
   ]
  },
  {
   "cell_type": "code",
   "execution_count": 7,
   "metadata": {},
   "outputs": [
    {
     "name": "stdout",
     "output_type": "stream",
     "text": [
      "Model: \"sequential\"\n",
      "_________________________________________________________________\n",
      " Layer (type)                Output Shape              Param #   \n",
      "=================================================================\n",
      " embedding (Embedding)       (None, 5, 100)            5200      \n",
      "                                                                 \n",
      " bidirectional (Bidirectiona  (None, 5, 128)           84480     \n",
      " l)                                                              \n",
      "                                                                 \n",
      " dense (Dense)               (None, 5, 52)             6708      \n",
      "                                                                 \n",
      "=================================================================\n",
      "Total params: 96,388\n",
      "Trainable params: 96,388\n",
      "Non-trainable params: 0\n",
      "_________________________________________________________________\n"
     ]
    }
   ],
   "source": [
    "# 모델링\n",
    "model = Sequential()\n",
    "model.add(Embedding(num_classes, 100, input_length = cal_len))\n",
    "model.add(Bidirectional(LSTM(64, return_sequences = True)))\n",
    "model.add(Dense(num_classes, activation = 'softmax'))\n",
    "model.summary()"
   ]
  },
  {
   "cell_type": "code",
   "execution_count": 8,
   "metadata": {},
   "outputs": [],
   "source": [
    "# 모델 컴파일\n",
    "model.compile(loss = 'sparse_categorical_crossentropy', optimizer = 'adam', metrics = ['accuracy'])"
   ]
  },
  {
   "cell_type": "code",
   "execution_count": 9,
   "metadata": {},
   "outputs": [
    {
     "name": "stdout",
     "output_type": "stream",
     "text": [
      "Epoch 1/50\n",
      "250/250 [==============================] - 3s 8ms/step - loss: 3.0178 - accuracy: 0.2713 - val_loss: 1.8715 - val_accuracy: 0.4328\n",
      "Epoch 2/50\n",
      "250/250 [==============================] - 2s 6ms/step - loss: 1.5908 - accuracy: 0.4651 - val_loss: 1.4549 - val_accuracy: 0.4745\n",
      "Epoch 3/50\n",
      "250/250 [==============================] - 2s 7ms/step - loss: 1.3323 - accuracy: 0.5018 - val_loss: 1.2913 - val_accuracy: 0.5034\n",
      "Epoch 4/50\n",
      "250/250 [==============================] - 2s 7ms/step - loss: 1.2049 - accuracy: 0.5330 - val_loss: 1.2132 - val_accuracy: 0.5249\n",
      "Epoch 5/50\n",
      "250/250 [==============================] - 2s 7ms/step - loss: 1.1141 - accuracy: 0.5623 - val_loss: 1.1454 - val_accuracy: 0.5414\n",
      "Epoch 6/50\n",
      "250/250 [==============================] - 2s 7ms/step - loss: 1.0396 - accuracy: 0.5885 - val_loss: 1.0928 - val_accuracy: 0.5686\n",
      "Epoch 7/50\n",
      "250/250 [==============================] - 2s 7ms/step - loss: 0.9744 - accuracy: 0.6128 - val_loss: 1.0296 - val_accuracy: 0.5867\n",
      "Epoch 8/50\n",
      "250/250 [==============================] - 2s 6ms/step - loss: 0.9141 - accuracy: 0.6387 - val_loss: 0.9914 - val_accuracy: 0.6103\n",
      "Epoch 9/50\n",
      "250/250 [==============================] - 1s 6ms/step - loss: 0.8557 - accuracy: 0.6681 - val_loss: 0.9386 - val_accuracy: 0.6326\n",
      "Epoch 10/50\n",
      "250/250 [==============================] - 1s 6ms/step - loss: 0.8019 - accuracy: 0.6938 - val_loss: 0.8875 - val_accuracy: 0.6540\n",
      "Epoch 11/50\n",
      "250/250 [==============================] - 2s 6ms/step - loss: 0.7436 - accuracy: 0.7238 - val_loss: 0.8367 - val_accuracy: 0.6825\n",
      "Epoch 12/50\n",
      "250/250 [==============================] - 2s 7ms/step - loss: 0.6866 - accuracy: 0.7569 - val_loss: 0.7843 - val_accuracy: 0.7089\n",
      "Epoch 13/50\n",
      "250/250 [==============================] - 2s 7ms/step - loss: 0.6317 - accuracy: 0.7839 - val_loss: 0.7265 - val_accuracy: 0.7387\n",
      "Epoch 14/50\n",
      "250/250 [==============================] - 1s 6ms/step - loss: 0.5720 - accuracy: 0.8178 - val_loss: 0.6805 - val_accuracy: 0.7600\n",
      "Epoch 15/50\n",
      "250/250 [==============================] - 1s 5ms/step - loss: 0.5209 - accuracy: 0.8421 - val_loss: 0.6295 - val_accuracy: 0.7849\n",
      "Epoch 16/50\n",
      "250/250 [==============================] - 1s 6ms/step - loss: 0.4694 - accuracy: 0.8662 - val_loss: 0.5729 - val_accuracy: 0.8099\n",
      "Epoch 17/50\n",
      "250/250 [==============================] - 2s 7ms/step - loss: 0.4246 - accuracy: 0.8854 - val_loss: 0.5336 - val_accuracy: 0.8253\n",
      "Epoch 18/50\n",
      "250/250 [==============================] - 2s 7ms/step - loss: 0.3857 - accuracy: 0.8999 - val_loss: 0.4985 - val_accuracy: 0.8413\n",
      "Epoch 19/50\n",
      "250/250 [==============================] - 2s 7ms/step - loss: 0.3484 - accuracy: 0.9145 - val_loss: 0.4590 - val_accuracy: 0.8557\n",
      "Epoch 20/50\n",
      "250/250 [==============================] - 2s 7ms/step - loss: 0.3141 - accuracy: 0.9260 - val_loss: 0.4217 - val_accuracy: 0.8694\n",
      "Epoch 21/50\n",
      "250/250 [==============================] - 2s 7ms/step - loss: 0.2854 - accuracy: 0.9341 - val_loss: 0.4026 - val_accuracy: 0.8784\n",
      "Epoch 22/50\n",
      "250/250 [==============================] - 2s 7ms/step - loss: 0.2607 - accuracy: 0.9421 - val_loss: 0.3770 - val_accuracy: 0.8889\n",
      "Epoch 23/50\n",
      "250/250 [==============================] - 2s 7ms/step - loss: 0.2391 - accuracy: 0.9471 - val_loss: 0.3498 - val_accuracy: 0.8959\n",
      "Epoch 24/50\n",
      "250/250 [==============================] - 2s 7ms/step - loss: 0.2200 - accuracy: 0.9525 - val_loss: 0.3310 - val_accuracy: 0.9022\n",
      "Epoch 25/50\n",
      "250/250 [==============================] - 2s 7ms/step - loss: 0.2005 - accuracy: 0.9574 - val_loss: 0.3163 - val_accuracy: 0.9049\n",
      "Epoch 26/50\n",
      "250/250 [==============================] - 2s 7ms/step - loss: 0.1856 - accuracy: 0.9618 - val_loss: 0.2978 - val_accuracy: 0.9142\n",
      "Epoch 27/50\n",
      "250/250 [==============================] - 2s 7ms/step - loss: 0.1688 - accuracy: 0.9661 - val_loss: 0.2798 - val_accuracy: 0.9188\n",
      "Epoch 28/50\n",
      "250/250 [==============================] - 2s 6ms/step - loss: 0.1558 - accuracy: 0.9699 - val_loss: 0.2709 - val_accuracy: 0.9190\n",
      "Epoch 29/50\n",
      "250/250 [==============================] - 2s 6ms/step - loss: 0.1426 - accuracy: 0.9733 - val_loss: 0.2647 - val_accuracy: 0.9199\n",
      "Epoch 30/50\n",
      "250/250 [==============================] - 2s 6ms/step - loss: 0.1326 - accuracy: 0.9751 - val_loss: 0.2446 - val_accuracy: 0.9268\n",
      "Epoch 31/50\n",
      "250/250 [==============================] - 2s 7ms/step - loss: 0.1219 - accuracy: 0.9777 - val_loss: 0.2295 - val_accuracy: 0.9354\n",
      "Epoch 32/50\n",
      "250/250 [==============================] - 2s 7ms/step - loss: 0.1107 - accuracy: 0.9809 - val_loss: 0.2254 - val_accuracy: 0.9373\n",
      "Epoch 33/50\n",
      "250/250 [==============================] - 2s 7ms/step - loss: 0.1018 - accuracy: 0.9826 - val_loss: 0.2113 - val_accuracy: 0.9383\n",
      "Epoch 34/50\n",
      "250/250 [==============================] - 2s 7ms/step - loss: 0.0939 - accuracy: 0.9844 - val_loss: 0.2037 - val_accuracy: 0.9407\n",
      "Epoch 35/50\n",
      "250/250 [==============================] - 2s 7ms/step - loss: 0.0863 - accuracy: 0.9857 - val_loss: 0.2059 - val_accuracy: 0.9381\n",
      "Epoch 36/50\n",
      "250/250 [==============================] - 2s 7ms/step - loss: 0.0806 - accuracy: 0.9869 - val_loss: 0.1893 - val_accuracy: 0.9449\n",
      "Epoch 37/50\n",
      "250/250 [==============================] - 2s 7ms/step - loss: 0.0733 - accuracy: 0.9889 - val_loss: 0.1822 - val_accuracy: 0.9469\n",
      "Epoch 38/50\n",
      "250/250 [==============================] - 2s 7ms/step - loss: 0.0661 - accuracy: 0.9905 - val_loss: 0.1746 - val_accuracy: 0.9512\n",
      "Epoch 39/50\n",
      "250/250 [==============================] - 2s 6ms/step - loss: 0.0615 - accuracy: 0.9918 - val_loss: 0.1607 - val_accuracy: 0.9538\n",
      "Epoch 40/50\n",
      "250/250 [==============================] - 1s 6ms/step - loss: 0.0556 - accuracy: 0.9930 - val_loss: 0.1614 - val_accuracy: 0.9522\n",
      "Epoch 41/50\n",
      "250/250 [==============================] - 1s 6ms/step - loss: 0.0506 - accuracy: 0.9936 - val_loss: 0.1670 - val_accuracy: 0.9508\n",
      "Epoch 42/50\n",
      "250/250 [==============================] - 1s 6ms/step - loss: 0.0487 - accuracy: 0.9941 - val_loss: 0.1485 - val_accuracy: 0.9573\n",
      "Epoch 43/50\n",
      "250/250 [==============================] - 2s 7ms/step - loss: 0.0417 - accuracy: 0.9956 - val_loss: 0.1466 - val_accuracy: 0.9551\n",
      "Epoch 44/50\n",
      "250/250 [==============================] - 2s 7ms/step - loss: 0.0385 - accuracy: 0.9961 - val_loss: 0.1408 - val_accuracy: 0.9575\n",
      "Epoch 45/50\n",
      "250/250 [==============================] - 2s 7ms/step - loss: 0.0364 - accuracy: 0.9964 - val_loss: 0.1396 - val_accuracy: 0.9599\n",
      "Epoch 46/50\n",
      "250/250 [==============================] - 2s 7ms/step - loss: 0.0348 - accuracy: 0.9964 - val_loss: 0.1281 - val_accuracy: 0.9628\n",
      "Epoch 47/50\n",
      "250/250 [==============================] - 2s 7ms/step - loss: 0.0294 - accuracy: 0.9977 - val_loss: 0.1256 - val_accuracy: 0.9621\n",
      "Epoch 48/50\n",
      "250/250 [==============================] - 2s 7ms/step - loss: 0.0296 - accuracy: 0.9971 - val_loss: 0.1247 - val_accuracy: 0.9625\n",
      "Epoch 49/50\n",
      "250/250 [==============================] - 2s 7ms/step - loss: 0.0237 - accuracy: 0.9987 - val_loss: 0.1190 - val_accuracy: 0.9649\n",
      "Epoch 50/50\n",
      "250/250 [==============================] - 2s 7ms/step - loss: 0.0212 - accuracy: 0.9991 - val_loss: 0.1179 - val_accuracy: 0.9640\n"
     ]
    }
   ],
   "source": [
    "# 모델 실행\n",
    "history = model.fit(padded_train, padded_labels, epochs = 50, batch_size = 32, validation_split = 0.2)"
   ]
  },
  {
   "cell_type": "code",
   "execution_count": 10,
   "metadata": {},
   "outputs": [
    {
     "name": "stdout",
     "output_type": "stream",
     "text": [
      "313/313 [==============================] - 1s 4ms/step - loss: 0.0392 - accuracy: 0.9925\n",
      "loss :  0.0392, acc =  0.9925\n"
     ]
    }
   ],
   "source": [
    "# loss와 accuracy\n",
    "loss, acc = model.evaluate(padded_train, padded_labels)\n",
    "print(f\"loss : {loss: .4f}, acc = {acc: .4f}\")"
   ]
  },
  {
   "cell_type": "code",
   "execution_count": 11,
   "metadata": {},
   "outputs": [],
   "source": [
    "# 랜덤한 영문 대소문자 5글자를 요소로 하는 20개 리스트 생성\n",
    "test_data = [\"\".join(np.random.choice(list(chars), cal_len)) for _ in range(20)]"
   ]
  },
  {
   "cell_type": "code",
   "execution_count": 12,
   "metadata": {},
   "outputs": [],
   "source": [
    "# 거꾸로된 리스트 생성\n",
    "expected_outputs = [s[::-1] for s in test_data]"
   ]
  },
  {
   "cell_type": "code",
   "execution_count": 13,
   "metadata": {},
   "outputs": [
    {
     "name": "stdout",
     "output_type": "stream",
     "text": [
      "1/1 [==============================] - 0s 357ms/step\n",
      "입력: mYUCK\n",
      "예측된 출력:  KCUYm\n",
      "실제 출력: KCUYm\n",
      "정확 여부: 맞음\n",
      "\n",
      "1/1 [==============================] - 0s 13ms/step\n",
      "입력: mhcmw\n",
      "예측된 출력:  wmcmm\n",
      "실제 출력: wmchm\n",
      "정확 여부: 틀림\n",
      "\n",
      "1/1 [==============================] - 0s 12ms/step\n",
      "입력: cjCNv\n",
      "예측된 출력:  vNCjc\n",
      "실제 출력: vNCjc\n",
      "정확 여부: 맞음\n",
      "\n",
      "1/1 [==============================] - 0s 13ms/step\n",
      "입력: cLemH\n",
      "예측된 출력:  HmeLc\n",
      "실제 출력: HmeLc\n",
      "정확 여부: 맞음\n",
      "\n",
      "1/1 [==============================] - 0s 13ms/step\n",
      "입력: aMfip\n",
      "예측된 출력:  pifMa\n",
      "실제 출력: pifMa\n",
      "정확 여부: 맞음\n",
      "\n",
      "1/1 [==============================] - 0s 16ms/step\n",
      "입력: lruHC\n",
      "예측된 출력:  CHuul\n",
      "실제 출력: CHurl\n",
      "정확 여부: 틀림\n",
      "\n",
      "1/1 [==============================] - 0s 17ms/step\n",
      "입력: Qmoim\n",
      "예측된 출력:  mmomQ\n",
      "실제 출력: miomQ\n",
      "정확 여부: 틀림\n",
      "\n",
      "1/1 [==============================] - 0s 13ms/step\n",
      "입력: vUauh\n",
      "예측된 출력:  huaUv\n",
      "실제 출력: huaUv\n",
      "정확 여부: 맞음\n",
      "\n",
      "1/1 [==============================] - 0s 13ms/step\n",
      "입력: QtbhD\n",
      "예측된 출력:  DhbtQ\n",
      "실제 출력: DhbtQ\n",
      "정확 여부: 맞음\n",
      "\n",
      "1/1 [==============================] - 0s 14ms/step\n",
      "입력: Rgopo\n",
      "예측된 출력:  ooogR\n",
      "실제 출력: opogR\n",
      "정확 여부: 틀림\n",
      "\n",
      "1/1 [==============================] - 0s 13ms/step\n",
      "입력: huREt\n",
      "예측된 출력:  tERuh\n",
      "실제 출력: tERuh\n",
      "정확 여부: 맞음\n",
      "\n",
      "1/1 [==============================] - 0s 15ms/step\n",
      "입력: RXWRE\n",
      "예측된 출력:  ERWXX\n",
      "실제 출력: ERWXR\n",
      "정확 여부: 틀림\n",
      "\n",
      "1/1 [==============================] - 0s 14ms/step\n",
      "입력: BlZpk\n",
      "예측된 출력:  kpZlB\n",
      "실제 출력: kpZlB\n",
      "정확 여부: 맞음\n",
      "\n",
      "1/1 [==============================] - 0s 12ms/step\n",
      "입력: rYEuN\n",
      "예측된 출력:  NuEYr\n",
      "실제 출력: NuEYr\n",
      "정확 여부: 맞음\n",
      "\n",
      "1/1 [==============================] - 0s 12ms/step\n",
      "입력: scpEQ\n",
      "예측된 출력:  QEpcs\n",
      "실제 출력: QEpcs\n",
      "정확 여부: 맞음\n",
      "\n",
      "1/1 [==============================] - 0s 12ms/step\n",
      "입력: qlEHP\n",
      "예측된 출력:  HHElq\n",
      "실제 출력: PHElq\n",
      "정확 여부: 틀림\n",
      "\n",
      "1/1 [==============================] - 0s 13ms/step\n",
      "입력: EfelL\n",
      "예측된 출력:  PlefE\n",
      "실제 출력: LlefE\n",
      "정확 여부: 틀림\n",
      "\n",
      "1/1 [==============================] - 0s 14ms/step\n",
      "입력: Keonu\n",
      "예측된 출력:  unoeK\n",
      "실제 출력: unoeK\n",
      "정확 여부: 맞음\n",
      "\n",
      "1/1 [==============================] - 0s 14ms/step\n",
      "입력: fVPRb\n",
      "예측된 출력:  bRPVf\n",
      "실제 출력: bRPVf\n",
      "정확 여부: 맞음\n",
      "\n",
      "1/1 [==============================] - 0s 13ms/step\n",
      "입력: ijkuD\n",
      "예측된 출력:  Dukji\n",
      "실제 출력: Dukji\n",
      "정확 여부: 맞음\n",
      "\n",
      "총 정확도:  65.00%\n"
     ]
    }
   ],
   "source": [
    "correct_predictions = 0\n",
    "total_predictons = len(test_data)\n",
    "\n",
    "for i, test_string in enumerate(test_data):\n",
    "    numbers = [char_to_index[char] for char in test_string]\n",
    "    array_numbers = np.array([numbers])\n",
    "    padded_numbers = pad_sequences(array_numbers, maxlen = cal_len)\n",
    "    prediction = model.predict(padded_numbers)\n",
    "    predicted_indices = np.argmax(prediction, axis = -1)[0]\n",
    "    predicted_chars = [index_to_index[idx] for idx in predicted_indices]\n",
    "    predicted_output = \"\".join(predicted_chars)\n",
    "\n",
    "    is_correct = predicted_output == expected_outputs[i]\n",
    "    if is_correct:\n",
    "        correct_predictions += 1\n",
    "    print(f\"입력: {test_string}\")\n",
    "    print(f\"예측된 출력:  {predicted_output}\")\n",
    "    print(f\"실제 출력: {expected_outputs[i]}\")\n",
    "    print(f\"정확 여부: {'맞음' if is_correct else '틀림'}\\n\")\n",
    "\n",
    "accuracy = correct_predictions / total_predictons\n",
    "print(f\"총 정확도:  {accuracy * 100:.2f}%\")"
   ]
  }
 ],
 "metadata": {
  "kernelspec": {
   "display_name": "tensor",
   "language": "python",
   "name": "python3"
  },
  "language_info": {
   "codemirror_mode": {
    "name": "ipython",
    "version": 3
   },
   "file_extension": ".py",
   "mimetype": "text/x-python",
   "name": "python",
   "nbconvert_exporter": "python",
   "pygments_lexer": "ipython3",
   "version": "3.8.19"
  }
 },
 "nbformat": 4,
 "nbformat_minor": 2
}
