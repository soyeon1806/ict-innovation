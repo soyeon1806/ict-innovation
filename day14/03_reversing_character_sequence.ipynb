{
 "cells": [
  {
   "cell_type": "code",
   "execution_count": 4,
   "metadata": {},
   "outputs": [],
   "source": [
    "import numpy as np\n",
    "\n",
    "from tensorflow.keras.models import Sequential\n",
    "from tensorflow.keras.layers import Embedding\n",
    "from tensorflow.keras.layers import Bidirectional\n",
    "from tensorflow.keras.layers import LSTM\n",
    "from tensorflow.keras.layers import Dense, Dropout, Activation\n",
    "from tensorflow.keras.preprocessing.text import Tokenizer\n",
    "from tensorflow.keras.preprocessing.sequence import pad_sequences"
   ]
  },
  {
   "cell_type": "code",
   "execution_count": 1,
   "metadata": {},
   "outputs": [],
   "source": [
    "cal_len = 5"
   ]
  },
  {
   "cell_type": "code",
   "execution_count": 2,
   "metadata": {},
   "outputs": [],
   "source": [
    "chars = 'ABCDEFGHIJKLMNOPQRSTUVWXYZabcdefghijklmnopqrstuvwxyz'\n",
    "num_classes = len(chars)\n",
    "\n",
    "char_to_index = {char: idx for idx, char in enumerate(chars)}\n",
    "index_to_index = {idx: char for idx, char in enumerate(chars)}"
   ]
  },
  {
   "cell_type": "code",
   "execution_count": 5,
   "metadata": {},
   "outputs": [],
   "source": [
    "# 학습 데이터 생성\n",
    "train_data = np.random.choice(list(chars), size = (10000, cal_len))\n",
    "label_data = np.flip(train_data, axis = 1)"
   ]
  },
  {
   "cell_type": "code",
   "execution_count": 6,
   "metadata": {},
   "outputs": [
    {
     "name": "stdout",
     "output_type": "stream",
     "text": [
      "[['M' 'y' 'r' 'R' 'O']\n",
      " ['T' 'h' 'f' 'V' 'F']\n",
      " ['G' 'l' 'J' 'R' 'l']\n",
      " ['R' 'R' 'K' 'f' 'D']]\n",
      "[['O' 'R' 'r' 'y' 'M']\n",
      " ['F' 'V' 'f' 'h' 'T']\n",
      " ['l' 'R' 'J' 'l' 'G']\n",
      " ['D' 'f' 'K' 'R' 'R']]\n"
     ]
    }
   ],
   "source": [
    "# 문자 데이터를 숫자 인덱스로 변환\n",
    "train_data_indices = np.array([[char_to_index[char] for char in seq] for seq in train_data])\n",
    "label_data_indices = np.array([[char_to_index[char] for char in seq] for seq in label_data])\n",
    "\n",
    "print(train_data[:4])\n",
    "print(label_data[:4])"
   ]
  },
  {
   "cell_type": "code",
   "execution_count": 7,
   "metadata": {},
   "outputs": [],
   "source": [
    "# pad_sequence 전처리\n",
    "padded_train = pad_sequences(train_data_indices, maxlen = cal_len)\n",
    "padded_labels = pad_sequences(label_data_indices, maxlen = cal_len)"
   ]
  },
  {
   "cell_type": "code",
   "execution_count": 8,
   "metadata": {},
   "outputs": [
    {
     "name": "stdout",
     "output_type": "stream",
     "text": [
      "Model: \"sequential\"\n",
      "_________________________________________________________________\n",
      " Layer (type)                Output Shape              Param #   \n",
      "=================================================================\n",
      " embedding (Embedding)       (None, 5, 100)            5200      \n",
      "                                                                 \n",
      " bidirectional (Bidirectiona  (None, 5, 128)           84480     \n",
      " l)                                                              \n",
      "                                                                 \n",
      " dense (Dense)               (None, 5, 52)             6708      \n",
      "                                                                 \n",
      "=================================================================\n",
      "Total params: 96,388\n",
      "Trainable params: 96,388\n",
      "Non-trainable params: 0\n",
      "_________________________________________________________________\n"
     ]
    }
   ],
   "source": [
    "# 모델링\n",
    "model = Sequential()\n",
    "model.add(Embedding(num_classes, 100, input_length = cal_len))\n",
    "model.add(Bidirectional(LSTM(64, return_sequences = True)))\n",
    "model.add(Dense(num_classes, activation = 'softmax'))\n",
    "model.summary()"
   ]
  },
  {
   "cell_type": "code",
   "execution_count": 9,
   "metadata": {},
   "outputs": [],
   "source": [
    "# 모델 컴파일\n",
    "model.compile(loss = 'sparse_categorical_crossentropy', optimizer = 'adam', metrics = ['accuracy'])"
   ]
  },
  {
   "cell_type": "code",
   "execution_count": 10,
   "metadata": {},
   "outputs": [
    {
     "name": "stdout",
     "output_type": "stream",
     "text": [
      "Epoch 1/50\n",
      "250/250 [==============================] - 4s 9ms/step - loss: 3.0323 - accuracy: 0.2626 - val_loss: 1.9143 - val_accuracy: 0.4273\n",
      "Epoch 2/50\n",
      "250/250 [==============================] - 2s 7ms/step - loss: 1.6177 - accuracy: 0.4563 - val_loss: 1.4738 - val_accuracy: 0.4726\n",
      "Epoch 3/50\n",
      "250/250 [==============================] - 2s 7ms/step - loss: 1.3493 - accuracy: 0.4945 - val_loss: 1.3211 - val_accuracy: 0.4992\n",
      "Epoch 4/50\n",
      "250/250 [==============================] - 2s 8ms/step - loss: 1.2166 - accuracy: 0.5252 - val_loss: 1.2464 - val_accuracy: 0.5100\n",
      "Epoch 5/50\n",
      "250/250 [==============================] - 2s 7ms/step - loss: 1.1269 - accuracy: 0.5532 - val_loss: 1.1611 - val_accuracy: 0.5362\n",
      "Epoch 6/50\n",
      "250/250 [==============================] - 2s 7ms/step - loss: 1.0498 - accuracy: 0.5828 - val_loss: 1.1087 - val_accuracy: 0.5601\n",
      "Epoch 7/50\n",
      "250/250 [==============================] - 2s 8ms/step - loss: 0.9854 - accuracy: 0.6062 - val_loss: 1.0573 - val_accuracy: 0.5778\n",
      "Epoch 8/50\n",
      "250/250 [==============================] - 2s 8ms/step - loss: 0.9239 - accuracy: 0.6314 - val_loss: 1.0139 - val_accuracy: 0.5981\n",
      "Epoch 9/50\n",
      "250/250 [==============================] - 2s 6ms/step - loss: 0.8657 - accuracy: 0.6567 - val_loss: 0.9649 - val_accuracy: 0.6170\n",
      "Epoch 10/50\n",
      "250/250 [==============================] - 2s 7ms/step - loss: 0.8110 - accuracy: 0.6870 - val_loss: 0.9200 - val_accuracy: 0.6410\n",
      "Epoch 11/50\n",
      "250/250 [==============================] - 2s 8ms/step - loss: 0.7525 - accuracy: 0.7163 - val_loss: 0.8688 - val_accuracy: 0.6668\n",
      "Epoch 12/50\n",
      "250/250 [==============================] - 2s 7ms/step - loss: 0.6960 - accuracy: 0.7472 - val_loss: 0.8152 - val_accuracy: 0.6938\n",
      "Epoch 13/50\n",
      "250/250 [==============================] - 2s 8ms/step - loss: 0.6411 - accuracy: 0.7800 - val_loss: 0.7635 - val_accuracy: 0.7183\n",
      "Epoch 14/50\n",
      "250/250 [==============================] - 2s 8ms/step - loss: 0.5859 - accuracy: 0.8055 - val_loss: 0.7100 - val_accuracy: 0.7426\n",
      "Epoch 15/50\n",
      "250/250 [==============================] - 2s 6ms/step - loss: 0.5313 - accuracy: 0.8357 - val_loss: 0.6592 - val_accuracy: 0.7715\n",
      "Epoch 16/50\n",
      "250/250 [==============================] - 2s 8ms/step - loss: 0.4791 - accuracy: 0.8600 - val_loss: 0.6023 - val_accuracy: 0.7978\n",
      "Epoch 17/50\n",
      "250/250 [==============================] - 2s 7ms/step - loss: 0.4371 - accuracy: 0.8786 - val_loss: 0.5646 - val_accuracy: 0.8125\n",
      "Epoch 18/50\n",
      "250/250 [==============================] - 2s 7ms/step - loss: 0.3929 - accuracy: 0.8972 - val_loss: 0.5344 - val_accuracy: 0.8277\n",
      "Epoch 19/50\n",
      "250/250 [==============================] - 2s 7ms/step - loss: 0.3581 - accuracy: 0.9103 - val_loss: 0.4937 - val_accuracy: 0.8402\n",
      "Epoch 20/50\n",
      "250/250 [==============================] - 2s 7ms/step - loss: 0.3250 - accuracy: 0.9200 - val_loss: 0.4552 - val_accuracy: 0.8585\n",
      "Epoch 21/50\n",
      "250/250 [==============================] - 2s 6ms/step - loss: 0.2944 - accuracy: 0.9336 - val_loss: 0.4225 - val_accuracy: 0.8691\n",
      "Epoch 22/50\n",
      "250/250 [==============================] - 2s 6ms/step - loss: 0.2701 - accuracy: 0.9388 - val_loss: 0.4004 - val_accuracy: 0.8786\n",
      "Epoch 23/50\n",
      "250/250 [==============================] - 2s 7ms/step - loss: 0.2482 - accuracy: 0.9455 - val_loss: 0.3779 - val_accuracy: 0.8867\n",
      "Epoch 24/50\n",
      "250/250 [==============================] - 2s 8ms/step - loss: 0.2265 - accuracy: 0.9516 - val_loss: 0.3521 - val_accuracy: 0.8936\n",
      "Epoch 25/50\n",
      "250/250 [==============================] - 2s 8ms/step - loss: 0.2069 - accuracy: 0.9575 - val_loss: 0.3339 - val_accuracy: 0.8966\n",
      "Epoch 26/50\n",
      "250/250 [==============================] - 2s 9ms/step - loss: 0.1917 - accuracy: 0.9613 - val_loss: 0.3301 - val_accuracy: 0.9014\n",
      "Epoch 27/50\n",
      "250/250 [==============================] - 2s 8ms/step - loss: 0.1763 - accuracy: 0.9652 - val_loss: 0.3099 - val_accuracy: 0.9061\n",
      "Epoch 28/50\n",
      "250/250 [==============================] - 2s 6ms/step - loss: 0.1629 - accuracy: 0.9686 - val_loss: 0.2995 - val_accuracy: 0.9083\n",
      "Epoch 29/50\n",
      "250/250 [==============================] - 2s 6ms/step - loss: 0.1503 - accuracy: 0.9712 - val_loss: 0.2925 - val_accuracy: 0.9130\n",
      "Epoch 30/50\n",
      "250/250 [==============================] - 2s 7ms/step - loss: 0.1392 - accuracy: 0.9741 - val_loss: 0.2724 - val_accuracy: 0.9206\n",
      "Epoch 31/50\n",
      "250/250 [==============================] - 2s 8ms/step - loss: 0.1300 - accuracy: 0.9757 - val_loss: 0.2672 - val_accuracy: 0.9196\n",
      "Epoch 32/50\n",
      "250/250 [==============================] - 2s 8ms/step - loss: 0.1177 - accuracy: 0.9799 - val_loss: 0.2497 - val_accuracy: 0.9262\n",
      "Epoch 33/50\n",
      "250/250 [==============================] - 2s 8ms/step - loss: 0.1099 - accuracy: 0.9802 - val_loss: 0.2416 - val_accuracy: 0.9296\n",
      "Epoch 34/50\n",
      "250/250 [==============================] - 2s 9ms/step - loss: 0.1006 - accuracy: 0.9836 - val_loss: 0.2304 - val_accuracy: 0.9317\n",
      "Epoch 35/50\n",
      "250/250 [==============================] - 2s 8ms/step - loss: 0.0924 - accuracy: 0.9847 - val_loss: 0.2240 - val_accuracy: 0.9330\n",
      "Epoch 36/50\n",
      "250/250 [==============================] - 2s 6ms/step - loss: 0.0853 - accuracy: 0.9858 - val_loss: 0.2122 - val_accuracy: 0.9394\n",
      "Epoch 37/50\n",
      "250/250 [==============================] - 2s 6ms/step - loss: 0.0789 - accuracy: 0.9877 - val_loss: 0.2100 - val_accuracy: 0.9388\n",
      "Epoch 38/50\n",
      "250/250 [==============================] - 2s 8ms/step - loss: 0.0753 - accuracy: 0.9883 - val_loss: 0.2011 - val_accuracy: 0.9398\n",
      "Epoch 39/50\n",
      "250/250 [==============================] - 2s 8ms/step - loss: 0.0670 - accuracy: 0.9903 - val_loss: 0.1926 - val_accuracy: 0.9449\n",
      "Epoch 40/50\n",
      "250/250 [==============================] - 2s 8ms/step - loss: 0.0607 - accuracy: 0.9919 - val_loss: 0.1823 - val_accuracy: 0.9483\n",
      "Epoch 41/50\n",
      "250/250 [==============================] - 2s 8ms/step - loss: 0.0567 - accuracy: 0.9920 - val_loss: 0.1880 - val_accuracy: 0.9457\n",
      "Epoch 42/50\n",
      "250/250 [==============================] - 2s 8ms/step - loss: 0.0542 - accuracy: 0.9922 - val_loss: 0.1793 - val_accuracy: 0.9467\n",
      "Epoch 43/50\n",
      "250/250 [==============================] - 2s 8ms/step - loss: 0.0476 - accuracy: 0.9948 - val_loss: 0.1696 - val_accuracy: 0.9491\n",
      "Epoch 44/50\n",
      "250/250 [==============================] - 2s 8ms/step - loss: 0.0423 - accuracy: 0.9952 - val_loss: 0.1600 - val_accuracy: 0.9527\n",
      "Epoch 45/50\n",
      "250/250 [==============================] - 2s 8ms/step - loss: 0.0392 - accuracy: 0.9960 - val_loss: 0.1658 - val_accuracy: 0.9507\n",
      "Epoch 46/50\n",
      "250/250 [==============================] - 2s 8ms/step - loss: 0.0385 - accuracy: 0.9955 - val_loss: 0.1572 - val_accuracy: 0.9536\n",
      "Epoch 47/50\n",
      "250/250 [==============================] - 2s 7ms/step - loss: 0.0347 - accuracy: 0.9966 - val_loss: 0.1528 - val_accuracy: 0.9531\n",
      "Epoch 48/50\n",
      "250/250 [==============================] - 1s 6ms/step - loss: 0.0306 - accuracy: 0.9975 - val_loss: 0.1496 - val_accuracy: 0.9577\n",
      "Epoch 49/50\n",
      "250/250 [==============================] - 1s 6ms/step - loss: 0.0312 - accuracy: 0.9971 - val_loss: 0.1468 - val_accuracy: 0.9559\n",
      "Epoch 50/50\n",
      "250/250 [==============================] - 2s 7ms/step - loss: 0.0259 - accuracy: 0.9984 - val_loss: 0.1335 - val_accuracy: 0.9611\n"
     ]
    }
   ],
   "source": [
    "# 모델 실행\n",
    "history = model.fit(padded_train, padded_labels, epochs = 50, batch_size = 32, validation_split = 0.2)"
   ]
  },
  {
   "cell_type": "code",
   "execution_count": null,
   "metadata": {},
   "outputs": [],
   "source": [
    "# loss와 accuracy\n",
    "loss, acc = model.evaluate(padded_train, padded_labels)\n",
    "print(f\"loss : {loss: .4f}, acc = {acc: .4f}\")"
   ]
  },
  {
   "cell_type": "code",
   "execution_count": null,
   "metadata": {},
   "outputs": [],
   "source": [
    "# 랜덤한 영문 대소문자 5글자를 요소로 하는 20개 리스트 생성\n",
    "test_data = [\"\".join(np.random.choice(list(chars), cal_len)) for _ in range(20)]"
   ]
  },
  {
   "cell_type": "code",
   "execution_count": null,
   "metadata": {},
   "outputs": [],
   "source": [
    "# 거꾸로된 리스트 생성\n",
    "expected_outputs = [s[::-1] for s in test_data]"
   ]
  },
  {
   "cell_type": "code",
   "execution_count": null,
   "metadata": {},
   "outputs": [],
   "source": [
    "correct_predictions = 0\n",
    "total_predictons = len(test_data)\n",
    "\n",
    "for i, test_string in enumerate(test_data):\n",
    "    numbers = [char_to_index[char] for char in test_string]\n",
    "    array_numbers = np.array([numbers])\n",
    "    padded_numbers = pad_sequences(array_numbers, maxlen = cal_len)\n",
    "    prediction = model.predict(padded_numbers)\n",
    "    predicted_indices = np.argmax(prediction, axis = -1)[0]\n",
    "    predicted_chars = [index_to_index[idx] for idx in predicted_indices]\n",
    "    predicted_output = \"\".join(predicted_chars)\n",
    "\n",
    "    is_correct = predicted_output == expected_outputs[i]\n",
    "    if is_correct:\n",
    "        correct_predictions += 1\n",
    "    print(f\"입력: {test_string}\")\n",
    "    print(f\"예측된 출력:  {predicted_output}\")\n",
    "    print(f\"실제 출력: {expected_outputs[i]}\")\n",
    "    print(f\"정확 여부: {'맞음' if is_correct else '틀림'}\\n\")\n",
    "\n",
    "accuracy = correct_predictions / total_predictons\n",
    "print(f\"총 정확도:  {accuracy * 100:.2f}%\")"
   ]
  }
 ],
 "metadata": {
  "kernelspec": {
   "display_name": "tensor",
   "language": "python",
   "name": "python3"
  },
  "language_info": {
   "codemirror_mode": {
    "name": "ipython",
    "version": 3
   },
   "file_extension": ".py",
   "mimetype": "text/x-python",
   "name": "python",
   "nbconvert_exporter": "python",
   "pygments_lexer": "ipython3",
   "version": "3.8.19"
  }
 },
 "nbformat": 4,
 "nbformat_minor": 2
}
