{
 "cells": [
  {
   "cell_type": "code",
   "execution_count": null,
   "metadata": {},
   "outputs": [],
   "source": [
    "import tensorflow as tf\n",
    "import numpy as np"
   ]
  },
  {
   "cell_type": "code",
   "execution_count": null,
   "metadata": {},
   "outputs": [],
   "source": [
    "learning_rate = 0.1\n",
    "tf.random.set_seed(0)\n",
    "np.random.seed(0)"
   ]
  },
  {
   "cell_type": "code",
   "execution_count": null,
   "metadata": {},
   "outputs": [],
   "source": [
    "x_data = np.array([[0, 0], [0, 1], [1, 0], [1, 1]], dtype = np.float32)\n",
    "y_data = np.array([[0], [1], [1], [0]], dtype = np.float32)"
   ]
  },
  {
   "cell_type": "code",
   "execution_count": null,
   "metadata": {},
   "outputs": [],
   "source": [
    "W1 = tf.Variable(tf.random.normal([2, 5]), name = 'weight1')\n",
    "b1 = tf.Variable(tf.random.normal([5]), name = 'bias1')\n",
    "\n",
    "W2 = tf.Variable(tf.random.normal([5, 5]), name = 'weight2')\n",
    "b2 = tf.Variable(tf.random.normal([5]), name = 'bias2')\n",
    "\n",
    "W3 = tf.Variable(tf.random.normal([5, 5]), name = 'weight3')\n",
    "b3 = tf.Variable(tf.random.normal([5]), name = 'bias3')\n",
    "\n",
    "W4 = tf.Variable(tf.random.normal([5, 5]), name = 'weight4')\n",
    "b4 = tf.Variable(tf.random.normal([5]), name = 'bias4')\n",
    "\n",
    "W5 = tf.Variable(tf.random.normal([5, 5]), name = 'weight5')\n",
    "b5 = tf.Variable(tf.random.normal([5]), name = 'bias5')\n",
    "\n",
    "W6 = tf.Variable(tf.random.normal([5, 5]), name = 'weight6')\n",
    "b6 = tf.Variable(tf.random.normal([5]), name = 'bias6')\n",
    "\n",
    "W7 = tf.Variable(tf.random.normal([5, 5]), name = 'weight7')\n",
    "b7 = tf.Variable(tf.random.normal([5]), name = 'bias7')\n",
    "\n",
    "W8 = tf.Variable(tf.random.normal([5, 5]), name = 'weight8')\n",
    "b8 = tf.Variable(tf.random.normal([5]), name = 'bias8')\n",
    "\n",
    "W9 = tf.Variable(tf.random.normal([5, 5]), name = 'weight9')\n",
    "b9 = tf.Variable(tf.random.normal([5]), name = 'bias9')\n",
    "\n",
    "W10 = tf.Variable(tf.random.normal([5, 1]), name = 'weight10')\n",
    "b10 = tf.Variable(tf.random.normal([1]), name = 'bias10')"
   ]
  },
  {
   "cell_type": "code",
   "execution_count": null,
   "metadata": {},
   "outputs": [],
   "source": [
    "def hypothesis():\n",
    "    layer1 = tf.relu(tf.matmul(x_data, W1) + b1)\n",
    "    layer2 = tf.relu(tf.matmul(layer1, W2) + b2)\n",
    "    layer3 = tf.relu(tf.matmul(layer2, W3) + b3)\n",
    "    layer4 = tf.relu(tf.matmul(layer3, W4) + b4)\n",
    "    layer5 = tf.relu(tf.matmul(layer4, W5) + b5)\n",
    "    layer6 = tf.relu(tf.matmul(layer5, W6) + b6)\n",
    "    layer7 = tf.relu(tf.matmul(layer6, W7) + b7)\n",
    "    layer8 = tf.relu(tf.matmul(layer7, W8) + b8)\n",
    "    layer9 = tf.relu(tf.matmul(layer8, W9) + b9)\n",
    "    cost = tf.sigmoid(tf.matmul(layer9, W10) + b10)\n",
    "    return cost"
   ]
  },
  {
   "cell_type": "code",
   "execution_count": null,
   "metadata": {},
   "outputs": [],
   "source": [
    "def costFunc():\n",
    "    return -tf.reduce_mean(y_data * tf.math.log(hypothesis()) + (1 - y_data) * tf.math.log(1 - hypothesis()))"
   ]
  },
  {
   "cell_type": "code",
   "execution_count": null,
   "metadata": {},
   "outputs": [],
   "source": [
    "optimizer = tf.keras.optimizers.SGD(learning_rate)"
   ]
  },
  {
   "cell_type": "code",
   "execution_count": null,
   "metadata": {},
   "outputs": [],
   "source": [
    "for step in range(10001):\n",
    "    with tf.GradientTape() as tape:\n",
    "        cost_value = costFunc()\n",
    "    gradients = tape.gradient(cost_value, [W1, b1, W2, b2])\n",
    "    optimizer.apply_gradients(zip(gradients, [W1, b1, W2, b2]))\n",
    "\n",
    "    if step % 500 == 0:\n",
    "        predicted = tf.cast(hypothesis() > 0.5, dtype = tf.float32)\n",
    "        accuracy = tf.reduce_mean(tf.cast(tf.equal(predicted, y_data), dtype = tf.float32))\n",
    "        print(f'epochs = {step}, cost = {cost_value.numpy()}, accuracy = {accuracy.numpy()}')"
   ]
  },
  {
   "cell_type": "code",
   "execution_count": null,
   "metadata": {},
   "outputs": [],
   "source": [
    "predicted = tf.cast(hypothesis() > 0.5, dtype = tf.float32)\n",
    "accuracy = tf.reduce_mean(tf.cast(tf.equal(predicted, y_data), dtype = tf.float32))"
   ]
  },
  {
   "cell_type": "code",
   "execution_count": null,
   "metadata": {},
   "outputs": [],
   "source": [
    "print(\"\\nHypothesis: \", hypothesis().numpy())\n",
    "print(\"Correct: \", predicted.numpy())\n",
    "print(\"Accuracy: \", accuracy.numpy())"
   ]
  }
 ],
 "metadata": {
  "language_info": {
   "name": "python"
  }
 },
 "nbformat": 4,
 "nbformat_minor": 2
}
