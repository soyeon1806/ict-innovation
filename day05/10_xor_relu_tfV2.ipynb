{
 "cells": [
  {
   "cell_type": "code",
   "execution_count": 1,
   "metadata": {},
   "outputs": [],
   "source": [
    "import tensorflow as tf\n",
    "import numpy as np"
   ]
  },
  {
   "cell_type": "code",
   "execution_count": 2,
   "metadata": {},
   "outputs": [],
   "source": [
    "learning_rate = 0.1\n",
    "tf.random.set_seed(0)\n",
    "np.random.seed(0)"
   ]
  },
  {
   "cell_type": "code",
   "execution_count": 3,
   "metadata": {},
   "outputs": [],
   "source": [
    "x_data = np.array([[0, 0], [0, 1], [1, 0], [1, 1]], dtype = np.float32)\n",
    "y_data = np.array([[0], [1], [1], [0]], dtype = np.float32)"
   ]
  },
  {
   "cell_type": "code",
   "execution_count": 4,
   "metadata": {},
   "outputs": [],
   "source": [
    "W1 = tf.Variable(tf.random.normal([2, 5]), name = 'weight1')\n",
    "b1 = tf.Variable(tf.random.normal([5]), name = 'bias1')\n",
    "\n",
    "W2 = tf.Variable(tf.random.normal([5, 5]), name = 'weight2')\n",
    "b2 = tf.Variable(tf.random.normal([5]), name = 'bias2')\n",
    "\n",
    "W3 = tf.Variable(tf.random.normal([5, 5]), name = 'weight3')\n",
    "b3 = tf.Variable(tf.random.normal([5]), name = 'bias3')\n",
    "\n",
    "W4 = tf.Variable(tf.random.normal([5, 5]), name = 'weight4')\n",
    "b4 = tf.Variable(tf.random.normal([5]), name = 'bias4')\n",
    "\n",
    "W5 = tf.Variable(tf.random.normal([5, 5]), name = 'weight5')\n",
    "b5 = tf.Variable(tf.random.normal([5]), name = 'bias5')\n",
    "\n",
    "W6 = tf.Variable(tf.random.normal([5, 5]), name = 'weight6')\n",
    "b6 = tf.Variable(tf.random.normal([5]), name = 'bias6')\n",
    "\n",
    "W7 = tf.Variable(tf.random.normal([5, 5]), name = 'weight7')\n",
    "b7 = tf.Variable(tf.random.normal([5]), name = 'bias7')\n",
    "\n",
    "W8 = tf.Variable(tf.random.normal([5, 5]), name = 'weight8')\n",
    "b8 = tf.Variable(tf.random.normal([5]), name = 'bias8')\n",
    "\n",
    "W9 = tf.Variable(tf.random.normal([5, 5]), name = 'weight9')\n",
    "b9 = tf.Variable(tf.random.normal([5]), name = 'bias9')\n",
    "\n",
    "W10 = tf.Variable(tf.random.normal([5, 1]), name = 'weight10')\n",
    "b10 = tf.Variable(tf.random.normal([1]), name = 'bias10')"
   ]
  },
  {
   "cell_type": "code",
   "execution_count": 5,
   "metadata": {},
   "outputs": [],
   "source": [
    "def hypothesis():\n",
    "    layer1 = tf.nn.relu(tf.matmul(x_data, W1) + b1)\n",
    "    layer2 = tf.nn.relu(tf.matmul(layer1, W2) + b2)\n",
    "    layer3 = tf.nn.relu(tf.matmul(layer2, W3) + b3)\n",
    "    layer4 = tf.nn.relu(tf.matmul(layer3, W4) + b4)\n",
    "    layer5 = tf.nn.relu(tf.matmul(layer4, W5) + b5)\n",
    "    layer6 = tf.nn.relu(tf.matmul(layer5, W6) + b6)\n",
    "    layer7 = tf.nn.relu(tf.matmul(layer6, W7) + b7)\n",
    "    layer8 = tf.nn.relu(tf.matmul(layer7, W8) + b8)\n",
    "    layer9 = tf.nn.relu(tf.matmul(layer8, W9) + b9)\n",
    "    cost = tf.sigmoid(tf.matmul(layer9, W10) + b10)\n",
    "    return cost"
   ]
  },
  {
   "cell_type": "code",
   "execution_count": 6,
   "metadata": {},
   "outputs": [],
   "source": [
    "def costFunc():\n",
    "    return -tf.reduce_mean(y_data * tf.math.log(hypothesis()) + (1 - y_data) * tf.math.log(1 - hypothesis()))"
   ]
  },
  {
   "cell_type": "code",
   "execution_count": 7,
   "metadata": {},
   "outputs": [],
   "source": [
    "optimizer = tf.keras.optimizers.SGD(learning_rate)"
   ]
  },
  {
   "cell_type": "code",
   "execution_count": 8,
   "metadata": {},
   "outputs": [
    {
     "name": "stdout",
     "output_type": "stream",
     "text": [
      "epochs = 0, cost = 1.3095990419387817, accuracy = 0.5\n",
      "epochs = 500, cost = 0.2727448344230652, accuracy = 1.0\n",
      "epochs = 1000, cost = 0.2707941234111786, accuracy = 1.0\n",
      "epochs = 1500, cost = 0.27241790294647217, accuracy = 1.0\n",
      "epochs = 2000, cost = 0.2712024748325348, accuracy = 1.0\n",
      "epochs = 2500, cost = 0.27043718099594116, accuracy = 1.0\n",
      "epochs = 3000, cost = 0.2715553641319275, accuracy = 1.0\n",
      "epochs = 3500, cost = 0.27194100618362427, accuracy = 1.0\n",
      "epochs = 4000, cost = 0.27038848400115967, accuracy = 1.0\n",
      "epochs = 4500, cost = 0.27088531851768494, accuracy = 1.0\n",
      "epochs = 5000, cost = 0.2700810432434082, accuracy = 1.0\n",
      "epochs = 5500, cost = 0.27104151248931885, accuracy = 1.0\n",
      "epochs = 6000, cost = 0.26954779028892517, accuracy = 1.0\n",
      "epochs = 6500, cost = 0.2717921733856201, accuracy = 1.0\n",
      "epochs = 7000, cost = 0.26983824372291565, accuracy = 1.0\n",
      "epochs = 7500, cost = 0.2716062068939209, accuracy = 1.0\n",
      "epochs = 8000, cost = 0.2698206305503845, accuracy = 1.0\n",
      "epochs = 8500, cost = 0.27196311950683594, accuracy = 1.0\n",
      "epochs = 9000, cost = 0.27101224660873413, accuracy = 1.0\n",
      "epochs = 9500, cost = 0.27012062072753906, accuracy = 1.0\n",
      "epochs = 10000, cost = 0.27181825041770935, accuracy = 1.0\n"
     ]
    }
   ],
   "source": [
    "for step in range(10001):\n",
    "    with tf.GradientTape() as tape:\n",
    "        cost_value = costFunc()\n",
    "    gradients = tape.gradient(cost_value, [W1, b1, W2, b2])\n",
    "    optimizer.apply_gradients(zip(gradients, [W1, b1, W2, b2]))\n",
    "\n",
    "    if step % 500 == 0:\n",
    "        predicted = tf.cast(hypothesis() > 0.5, dtype = tf.float32)\n",
    "        accuracy = tf.reduce_mean(tf.cast(tf.equal(predicted, y_data), dtype = tf.float32))\n",
    "        print(f'epochs = {step}, cost = {cost_value.numpy()}, accuracy = {accuracy.numpy()}')"
   ]
  },
  {
   "cell_type": "code",
   "execution_count": 9,
   "metadata": {},
   "outputs": [],
   "source": [
    "predicted = tf.cast(hypothesis() > 0.5, dtype = tf.float32)\n",
    "accuracy = tf.reduce_mean(tf.cast(tf.equal(predicted, y_data), dtype = tf.float32))"
   ]
  },
  {
   "cell_type": "code",
   "execution_count": 10,
   "metadata": {},
   "outputs": [
    {
     "name": "stdout",
     "output_type": "stream",
     "text": [
      "\n",
      "Hypothesis:  [[0.416992  ]\n",
      " [0.99987566]\n",
      " [0.9997074 ]\n",
      " [0.42126712]]\n",
      "Correct:  [[0.]\n",
      " [1.]\n",
      " [1.]\n",
      " [0.]]\n",
      "Accuracy:  1.0\n"
     ]
    }
   ],
   "source": [
    "print(\"\\nHypothesis: \", hypothesis().numpy())\n",
    "print(\"Correct: \", predicted.numpy())\n",
    "print(\"Accuracy: \", accuracy.numpy())"
   ]
  }
 ],
 "metadata": {
  "kernelspec": {
   "display_name": "tensor",
   "language": "python",
   "name": "python3"
  },
  "language_info": {
   "codemirror_mode": {
    "name": "ipython",
    "version": 3
   },
   "file_extension": ".py",
   "mimetype": "text/x-python",
   "name": "python",
   "nbconvert_exporter": "python",
   "pygments_lexer": "ipython3",
   "version": "3.8.19"
  }
 },
 "nbformat": 4,
 "nbformat_minor": 2
}
