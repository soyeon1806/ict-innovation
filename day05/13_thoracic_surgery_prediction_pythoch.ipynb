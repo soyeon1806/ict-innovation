{
 "cells": [
  {
   "cell_type": "code",
   "execution_count": 46,
   "metadata": {},
   "outputs": [],
   "source": [
    "import torch\n",
    "import torch.nn as nn\n",
    "import torch.optim as optim\n",
    "import numpy as np\n",
    "import os"
   ]
  },
  {
   "cell_type": "code",
   "execution_count": 47,
   "metadata": {},
   "outputs": [],
   "source": [
    "torch.manual_seed(0)\n",
    "np.random.seed(0)"
   ]
  },
  {
   "cell_type": "code",
   "execution_count": 48,
   "metadata": {},
   "outputs": [],
   "source": [
    "data_path = os.path.join(\"..\", \"data\", \"ThoraricSurgery.csv\")\n",
    "data_set = np.loadtxt(data_path, delimiter=\",\")"
   ]
  },
  {
   "cell_type": "code",
   "execution_count": 49,
   "metadata": {},
   "outputs": [],
   "source": [
    "X = data_set[:, 0:17]\n",
    "Y = data_set[:, 17]"
   ]
  },
  {
   "cell_type": "code",
   "execution_count": 50,
   "metadata": {},
   "outputs": [],
   "source": [
    "X = torch.tensor(X, dtype = torch.float32)\n",
    "Y = torch.tensor(Y, dtype = torch.float32)"
   ]
  },
  {
   "cell_type": "code",
   "execution_count": 51,
   "metadata": {},
   "outputs": [],
   "source": [
    "class ThoracicSurgeryModel(nn.Module):\n",
    "    def __init__(self):\n",
    "        super(ThoracicSurgeryModel, self).__init__()\n",
    "        self.fc1 = nn.Linear(17, 30)\n",
    "        self.fc2 = nn.Linear(30, 1)\n",
    "        self.sigmoid = nn.Sigmoid()\n",
    "\n",
    "    def forward(self, x):\n",
    "        x = self.sigmoid(self.fc1(x))\n",
    "        x = self.sigmoid(self.fc2(x))\n",
    "        return x"
   ]
  },
  {
   "cell_type": "code",
   "execution_count": 52,
   "metadata": {},
   "outputs": [],
   "source": [
    "model = ThoracicSurgeryModel()"
   ]
  },
  {
   "cell_type": "code",
   "execution_count": 53,
   "metadata": {},
   "outputs": [],
   "source": [
    "criterion = nn.BCELoss()\n",
    "optimizer = optim.Adam(model.parameters(), lr = 0.001)"
   ]
  },
  {
   "cell_type": "code",
   "execution_count": 54,
   "metadata": {},
   "outputs": [],
   "source": [
    "epochs = 30\n",
    "batch_size = 10\n",
    "dataset = torch.utils.data.TensorDataset(X, Y)\n",
    "dataloader = torch.utils.data.DataLoader(dataset, batch_size = batch_size, shuffle = True)"
   ]
  },
  {
   "cell_type": "code",
   "execution_count": 55,
   "metadata": {},
   "outputs": [
    {
     "name": "stdout",
     "output_type": "stream",
     "text": [
      "Epoch [1 / 30], Loss:  0.5704, Accuracy:  0.8298\n",
      "Epoch [2 / 30], Loss:  0.4635, Accuracy:  0.8511\n",
      "Epoch [3 / 30], Loss:  0.4279, Accuracy:  0.8511\n",
      "Epoch [4 / 30], Loss:  0.4223, Accuracy:  0.8511\n",
      "Epoch [5 / 30], Loss:  0.4207, Accuracy:  0.8511\n",
      "Epoch [6 / 30], Loss:  0.4205, Accuracy:  0.8511\n",
      "Epoch [7 / 30], Loss:  0.4200, Accuracy:  0.8511\n",
      "Epoch [8 / 30], Loss:  0.4192, Accuracy:  0.8511\n",
      "Epoch [9 / 30], Loss:  0.4194, Accuracy:  0.8511\n",
      "Epoch [10 / 30], Loss:  0.4202, Accuracy:  0.8511\n",
      "Epoch [11 / 30], Loss:  0.4185, Accuracy:  0.8511\n",
      "Epoch [12 / 30], Loss:  0.4192, Accuracy:  0.8511\n",
      "Epoch [13 / 30], Loss:  0.4190, Accuracy:  0.8511\n",
      "Epoch [14 / 30], Loss:  0.4169, Accuracy:  0.8511\n",
      "Epoch [15 / 30], Loss:  0.4200, Accuracy:  0.8511\n",
      "Epoch [16 / 30], Loss:  0.4179, Accuracy:  0.8511\n",
      "Epoch [17 / 30], Loss:  0.4170, Accuracy:  0.8511\n",
      "Epoch [18 / 30], Loss:  0.4172, Accuracy:  0.8511\n",
      "Epoch [19 / 30], Loss:  0.4176, Accuracy:  0.8511\n",
      "Epoch [20 / 30], Loss:  0.4170, Accuracy:  0.8511\n",
      "Epoch [21 / 30], Loss:  0.4163, Accuracy:  0.8511\n",
      "Epoch [22 / 30], Loss:  0.4162, Accuracy:  0.8511\n",
      "Epoch [23 / 30], Loss:  0.4181, Accuracy:  0.8511\n",
      "Epoch [24 / 30], Loss:  0.4166, Accuracy:  0.8511\n",
      "Epoch [25 / 30], Loss:  0.4163, Accuracy:  0.8511\n",
      "Epoch [26 / 30], Loss:  0.4161, Accuracy:  0.8511\n",
      "Epoch [27 / 30], Loss:  0.4159, Accuracy:  0.8511\n",
      "Epoch [28 / 30], Loss:  0.4167, Accuracy:  0.8511\n",
      "Epoch [29 / 30], Loss:  0.4164, Accuracy:  0.8511\n",
      "Epoch [30 / 30], Loss:  0.4153, Accuracy:  0.8511\n"
     ]
    }
   ],
   "source": [
    "for epoch in range(epochs):\n",
    "    running_loss = 0.0\n",
    "    correct = 0\n",
    "    total = 0\n",
    "\n",
    "    for batch_X, batch_Y in dataloader:\n",
    "        optimizer.zero_grad()\n",
    "        outputs = model(batch_X).squeeze()\n",
    "        loss = criterion(outputs, batch_Y)\n",
    "        loss.backward()\n",
    "        optimizer.step()\n",
    "\n",
    "        running_loss += loss.item()\n",
    "\n",
    "        predicted = outputs.round()\n",
    "        total += batch_Y.size(0)\n",
    "        correct += (predicted == batch_Y).sum().item()\n",
    "\n",
    "    epoch_loss = running_loss / len(dataloader)\n",
    "    epoch_acc = correct / total\n",
    "\n",
    "    print(f\"Epoch [{epoch + 1} / {epochs}], Loss: {epoch_loss: .4f}, Accuracy: {epoch_acc: .4f}\")"
   ]
  },
  {
   "cell_type": "code",
   "execution_count": 56,
   "metadata": {},
   "outputs": [
    {
     "name": "stdout",
     "output_type": "stream",
     "text": [
      "\n",
      "Final Accuracy: 0.8511\n"
     ]
    }
   ],
   "source": [
    "with torch.no_grad():\n",
    "    outputs = model(X).squeeze()\n",
    "    predicted = outputs.round()\n",
    "    accuracy = (predicted == Y).float().mean()\n",
    "    print(\"\\nFinal Accuracy: %.4f\" % accuracy.item())"
   ]
  }
 ],
 "metadata": {
  "kernelspec": {
   "display_name": "tensor",
   "language": "python",
   "name": "python3"
  },
  "language_info": {
   "codemirror_mode": {
    "name": "ipython",
    "version": 3
   },
   "file_extension": ".py",
   "mimetype": "text/x-python",
   "name": "python",
   "nbconvert_exporter": "python",
   "pygments_lexer": "ipython3",
   "version": "3.8.19"
  }
 },
 "nbformat": 4,
 "nbformat_minor": 2
}
