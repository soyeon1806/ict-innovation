{
 "cells": [
  {
   "cell_type": "code",
   "execution_count": 15,
   "metadata": {},
   "outputs": [],
   "source": [
    "import tensorflow.compat.v1 as tf\n",
    "tf.disable_v2_behavior()\n",
    "import numpy as np\n",
    "import os"
   ]
  },
  {
   "cell_type": "code",
   "execution_count": 16,
   "metadata": {},
   "outputs": [],
   "source": [
    "data_path = os.path.join(\"..\", \"data\", \"ThoraricSurgery.csv\")\n",
    "data_set = np.loadtxt(data_path, delimiter=\",\")"
   ]
  },
  {
   "cell_type": "code",
   "execution_count": 17,
   "metadata": {},
   "outputs": [],
   "source": [
    "x_data = data_set[:, 0:17]\n",
    "y_data = data_set[:, 17].reshape(-1, 1)"
   ]
  },
  {
   "cell_type": "code",
   "execution_count": 18,
   "metadata": {},
   "outputs": [],
   "source": [
    "X = tf.placeholder(tf.float32, shape=[None, 17])\n",
    "Y = tf.placeholder(tf.float32, shape=[None, 1])\n",
    "\n",
    "W1 = tf.Variable(tf.random_normal([17, 30]), name='weight1')\n",
    "b1 = tf.Variable(tf.random_normal([30]), name='bias1')\n",
    "layer1 = tf.sigmoid(tf.matmul(X, W1) + b1)\n",
    "\n",
    "W2 = tf.Variable(tf.random_normal([30, 1]), name='weight2')\n",
    "b2 = tf.Variable(tf.random_normal([1]), name='bias2')"
   ]
  },
  {
   "cell_type": "code",
   "execution_count": 19,
   "metadata": {},
   "outputs": [],
   "source": [
    "hypothesis = tf.sigmoid(tf.matmul(layer1, W2) + b2)\n",
    "\n",
    "cost = -tf.reduce_mean(Y * tf.log(hypothesis) + (1 - Y) * tf.log(1 - hypothesis))\n",
    "\n",
    "train = tf.train.GradientDescentOptimizer(learning_rate=0.01).minimize(cost)\n",
    "\n",
    "predicted = tf.cast(hypothesis > 0.5, dtype=tf.float32)\n",
    "accuracy = tf.reduce_mean(tf.cast(tf.equal(predicted, Y), dtype=tf.float32))"
   ]
  },
  {
   "cell_type": "code",
   "execution_count": 20,
   "metadata": {},
   "outputs": [
    {
     "name": "stdout",
     "output_type": "stream",
     "text": [
      "Step =  0 Cost =  1.2929531\n",
      "Step =  1000 Cost =  0.4193617\n",
      "Step =  2000 Cost =  0.41781226\n",
      "Step =  3000 Cost =  0.41730633\n",
      "Step =  4000 Cost =  0.41698518\n",
      "Step =  5000 Cost =  0.41672084\n",
      "Step =  6000 Cost =  0.41648704\n",
      "Step =  7000 Cost =  0.41627407\n",
      "Step =  8000 Cost =  0.4160769\n",
      "Step =  9000 Cost =  0.41589206\n",
      "Step =  10000 Cost =  0.415717\n",
      "Accuracy: 0.85106385\n",
      "\n",
      "New Data Prediction (Probability):  [[0.1442641]]\n",
      "New Data Predicted Class:  [[0.]]\n"
     ]
    }
   ],
   "source": [
    "with tf.Session() as sess:\n",
    "    sess.run(tf.global_variables_initializer())\n",
    "    \n",
    "    for step in range(10001):\n",
    "        cost_val, _ = sess.run([cost, train], feed_dict={X: x_data, Y: y_data})\n",
    "        \n",
    "        if step % 1000 == 0:\n",
    "            print(\"Step = \", step, \"Cost = \", cost_val)\n",
    "    \n",
    "    h, c, a = sess.run([hypothesis, predicted, accuracy], feed_dict={X: x_data, Y: y_data})\n",
    "    print(\"Accuracy:\", a)\n",
    "\n",
    "    new_data = np.array([[132, 2, 2.12, 1.72, 1, 0, 0, 0, 0, 0, 12, 0, 0, 0, 1, 9, 74]], dtype = np.float32)\n",
    "    new_prediction = sess.run(hypothesis, feed_dict = {X: new_data})\n",
    "    new_predicted_class = sess.run(predicted, feed_dict = {X: new_data})\n",
    "    print(\"\\nNew Data Prediction (Probability): \", new_prediction)\n",
    "    print(\"New Data Predicted Class: \", new_predicted_class)"
   ]
  }
 ],
 "metadata": {
  "kernelspec": {
   "display_name": "tensor",
   "language": "python",
   "name": "python3"
  },
  "language_info": {
   "codemirror_mode": {
    "name": "ipython",
    "version": 3
   },
   "file_extension": ".py",
   "mimetype": "text/x-python",
   "name": "python",
   "nbconvert_exporter": "python",
   "pygments_lexer": "ipython3",
   "version": "3.8.19"
  }
 },
 "nbformat": 4,
 "nbformat_minor": 2
}
