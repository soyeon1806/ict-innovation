{
 "cells": [
  {
   "cell_type": "code",
   "execution_count": 29,
   "metadata": {},
   "outputs": [],
   "source": [
    "import tensorflow.compat.v1 as tf\n",
    "tf.disable_v2_behavior()\n",
    "\n",
    "import numpy as np"
   ]
  },
  {
   "cell_type": "code",
   "execution_count": 30,
   "metadata": {},
   "outputs": [],
   "source": [
    "# 실행할 때마다 같은 결과를 출력하기 위한 seed 값 설정\n",
    "seed = 0\n",
    "np.random.seed(seed)\n",
    "tf.set_random_seed(seed)"
   ]
  },
  {
   "cell_type": "code",
   "execution_count": 31,
   "metadata": {},
   "outputs": [],
   "source": [
    "# x, y의 데이터 값\n",
    "x_data = np.array([[2, 3], [4, 3], [6, 4], [8, 6], [10, 7], [12, 8], [14, 9]])\n",
    "y_data = np.array([0, 0, 0, 1, 1, 1, 1]).reshape(7, 1)"
   ]
  },
  {
   "cell_type": "code",
   "execution_count": 32,
   "metadata": {},
   "outputs": [],
   "source": [
    "# 입력 값을 place holder에 저장\n",
    "X = tf.placeholder(tf.float64, shape = [None, 2])\n",
    "Y = tf.placeholder(tf.float64, shape = [None, 1])"
   ]
  },
  {
   "cell_type": "code",
   "execution_count": 33,
   "metadata": {},
   "outputs": [],
   "source": [
    "# 기울기 a와 바이어스 b의 값을 임의로 정함\n",
    "# [2, 1]의 의미 : 들어오는 값은 2개, 나가는 값은 1개\n",
    "a = tf.Variable(tf.random_uniform([2, 1], dtype = tf.float64))\n",
    "b = tf.Variable(tf.random_uniform([1], dtype = tf.float64))"
   ]
  },
  {
   "cell_type": "code",
   "execution_count": 34,
   "metadata": {},
   "outputs": [],
   "source": [
    "# y 시그모이드 함수의 방정식을 세움\n",
    "y = tf.sigmoid(tf.matmul(X, a) + b)"
   ]
  },
  {
   "cell_type": "code",
   "execution_count": 35,
   "metadata": {},
   "outputs": [],
   "source": [
    "# 오차를 구하는 함수\n",
    "loss = -tf.reduce_mean(Y * tf.log(y) + (1 - Y) * tf.log(1 - y))"
   ]
  },
  {
   "cell_type": "code",
   "execution_count": 36,
   "metadata": {},
   "outputs": [],
   "source": [
    "# 학습률 값\n",
    "learning_rate = 0.1"
   ]
  },
  {
   "cell_type": "code",
   "execution_count": 37,
   "metadata": {},
   "outputs": [],
   "source": [
    "# 오차를 최소로 하는 값 찾기\n",
    "gradient_descent = tf.train.GradientDescentOptimizer(learning_rate).minimize(loss)"
   ]
  },
  {
   "cell_type": "code",
   "execution_count": 38,
   "metadata": {},
   "outputs": [],
   "source": [
    "predicted = tf.cast(y > 0.5, dtype = tf.float64)\n",
    "accuracy = tf.reduce_mean(tf.cast(tf.equal(predicted, Y), dtype = tf.float64))"
   ]
  },
  {
   "cell_type": "code",
   "execution_count": 39,
   "metadata": {},
   "outputs": [
    {
     "name": "stdout",
     "output_type": "stream",
     "text": [
      "step = 300, a1 = 0.7638, a2 - -0.4658, b = -2.5163, loss = 0.2611\n",
      "step = 600, a1 = 0.7806, a2 - -0.2204, b = -3.9699, loss = 0.1876\n",
      "step = 900, a1 = 0.7013, a2 - 0.0899, b = -5.0209, loss = 0.1472\n",
      "step = 1200, a1 = 0.6052, a2 - 0.3840, b = -5.8533, loss = 0.1208\n",
      "step = 1500, a1 = 0.5119, a2 - 0.6482, b = -6.5445, loss = 0.1022\n",
      "step = 1800, a1 = 0.4265, a2 - 0.8824, b = -7.1362, loss = 0.0885\n",
      "step = 2100, a1 = 0.3502, a2 - 1.0900, b = -7.6536, loss = 0.0779\n",
      "step = 2400, a1 = 0.2823, a2 - 1.2748, b = -8.1136, loss = 0.0696\n",
      "step = 2700, a1 = 0.2218, a2 - 1.4403, b = -8.5277, loss = 0.0628\n",
      "step = 3000, a1 = 0.1679, a2 - 1.5895, b = -8.9042, loss = 0.0572\n",
      "predicted =  [[0.]\n",
      " [0.]\n",
      " [0.]\n",
      " [1.]\n",
      " [1.]\n",
      " [1.]\n",
      " [1.]]\n",
      "check predicted =  [[0.]\n",
      " [1.]\n",
      " [0.]]\n",
      "check hypothesis =  [[0.31281755]\n",
      " [0.67287771]\n",
      " [0.42941379]]\n",
      "\n",
      "Hypothesis:  [[0.02187637]\n",
      " [0.03032256]\n",
      " [0.17660801]\n",
      " [0.87830607]\n",
      " [0.98019967]\n",
      " [0.9970636 ]\n",
      " [0.99957082]] \n",
      "Correct (Y): [[0.]\n",
      " [0.]\n",
      " [0.]\n",
      " [1.]\n",
      " [1.]\n",
      " [1.]\n",
      " [1.]] \n",
      "Accuracy:  1.0\n"
     ]
    }
   ],
   "source": [
    "# 학습\n",
    "with tf.Session() as sess:\n",
    "    sess.run(tf.global_variables_initializer())\n",
    "\n",
    "    for i in range(3001):\n",
    "        a_, b_, loss_, _ = sess.run([a, b, loss, gradient_descent], feed_dict = {X: x_data, Y: y_data})\n",
    "        if (i + 1) % 300 == 0:\n",
    "            print(\"step = %d, a1 = %.4f, a2 - %.4f, b = %.4f, loss = %.4f\" % (i + 1, a_[0], a_[1], b_, loss_))\n",
    "\n",
    "    print(\"predicted = \", sess.run(predicted, feed_dict = {X: x_data}))\n",
    "\n",
    "    # 다른 값 테스트\n",
    "    p_val, h_val = sess.run([predicted, y], feed_dict = {X: [[1, 5], [10, 5], [4, 5]]})\n",
    "    print(\"check predicted = \", p_val)\n",
    "    print(\"check hypothesis = \", h_val)\n",
    "\n",
    "    # 정확도 측정\n",
    "    h, c, a = sess.run([y, predicted, accuracy], feed_dict = {X: x_data, Y: y_data})\n",
    "    print(\"\\nHypothesis: \", h, \"\\nCorrect (Y):\", c, \"\\nAccuracy: \", a)"
   ]
  }
 ],
 "metadata": {
  "kernelspec": {
   "display_name": "tensor",
   "language": "python",
   "name": "python3"
  },
  "language_info": {
   "codemirror_mode": {
    "name": "ipython",
    "version": 3
   },
   "file_extension": ".py",
   "mimetype": "text/x-python",
   "name": "python",
   "nbconvert_exporter": "python",
   "pygments_lexer": "ipython3",
   "version": "3.8.19"
  }
 },
 "nbformat": 4,
 "nbformat_minor": 2
}
