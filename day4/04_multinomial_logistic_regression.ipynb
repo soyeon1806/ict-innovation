{
 "cells": [
  {
   "cell_type": "code",
   "execution_count": 75,
   "metadata": {},
   "outputs": [],
   "source": [
    "import tensorflow.compat.v1 as tf\n",
    "tf.disable_v2_behavior()\n",
    "\n",
    "import numpy as np"
   ]
  },
  {
   "cell_type": "code",
   "execution_count": 76,
   "metadata": {},
   "outputs": [],
   "source": [
    "# 실행할 때마다 같은 결과를 출력하기 위한 seed 값 설정\n",
    "seed = 0\n",
    "np.random.seed(seed)\n",
    "tf.set_random_seed(seed)"
   ]
  },
  {
   "cell_type": "code",
   "execution_count": 77,
   "metadata": {},
   "outputs": [],
   "source": [
    "# x, y의 데이터 값\n",
    "x_data = np.array([[2, 3], [4, 3], [6, 4], [8, 6], [10, 7], [12, 8], [14, 9]])\n",
    "y_data = np.array([0, 0, 0, 1, 1, 1, 1]).reshape(7, 1)"
   ]
  },
  {
   "cell_type": "code",
   "execution_count": 78,
   "metadata": {},
   "outputs": [],
   "source": [
    "# 입력 값을 place holder에 저장\n",
    "X = tf.placeholder(tf.float64, shape = [None, 2])\n",
    "Y = tf.placeholder(tf.float64, shape = [None, 1])"
   ]
  },
  {
   "cell_type": "code",
   "execution_count": 79,
   "metadata": {},
   "outputs": [],
   "source": [
    "# 기울기 a와 바이어스 b의 값을 임의로 정함\n",
    "# [2, 1]의 의미 : 들어오는 값은 2개, 나가는 값은 1개\n",
    "a = tf.Variable(tf.random_uniform([2, 1], dtype = tf.float64))\n",
    "b = tf.Variable(tf.random_uniform([1], dtype = tf.float64))"
   ]
  },
  {
   "cell_type": "code",
   "execution_count": 80,
   "metadata": {},
   "outputs": [],
   "source": [
    "# y 시그모이드 함수의 방정식을 세움\n",
    "y = tf.sigmoid(tf.matmul(X, a) + b)"
   ]
  },
  {
   "cell_type": "code",
   "execution_count": 81,
   "metadata": {},
   "outputs": [],
   "source": [
    "# 오차를 구하는 함수\n",
    "loss = -tf.reduce_mean(Y * tf.log(y) + (1 - Y) * tf.log(1 - y))"
   ]
  },
  {
   "cell_type": "code",
   "execution_count": 82,
   "metadata": {},
   "outputs": [],
   "source": [
    "# 학습률 값\n",
    "learning_rate = 0.1"
   ]
  },
  {
   "cell_type": "code",
   "execution_count": 83,
   "metadata": {},
   "outputs": [],
   "source": [
    "# 오차를 최소로 하는 값 찾기\n",
    "gradient_descent = tf.train.GradientDescentOptimizer(learning_rate).minimize(loss)"
   ]
  },
  {
   "cell_type": "code",
   "execution_count": 84,
   "metadata": {},
   "outputs": [],
   "source": [
    "predicted = tf.cast(y > 0.5, dtype = tf.float64)\n",
    "accuracy = tf.reduce_mean(tf.cast(tf.equal(predicted, Y), dtype = tf.float64))"
   ]
  },
  {
   "cell_type": "code",
   "execution_count": 85,
   "metadata": {},
   "outputs": [
    {
     "name": "stdout",
     "output_type": "stream",
     "text": [
      "step = 300, a1 = 0.7172, a2 - -0.3618, b = -2.7275, loss = 0.2486\n",
      "step = 600, a1 = 0.7386, a2 - -0.1316, b = -4.1287, loss = 0.1804\n",
      "step = 900, a1 = 0.6662, a2 - 0.1635, b = -5.1488, loss = 0.1424\n",
      "step = 1200, a1 = 0.5762, a2 - 0.4453, b = -5.9605, loss = 0.1175\n",
      "step = 1500, a1 = 0.4879, a2 - 0.6996, b = -6.6368, loss = 0.0998\n",
      "step = 1800, a1 = 0.4066, a2 - 0.9261, b = -7.2172, loss = 0.0866\n",
      "step = 2100, a1 = 0.3334, a2 - 1.1275, b = -7.7259, loss = 0.0765\n",
      "step = 2400, a1 = 0.2680, a2 - 1.3074, b = -8.1788, loss = 0.0684\n",
      "step = 2700, a1 = 0.2096, a2 - 1.4690, b = -8.5871, loss = 0.0619\n",
      "step = 3000, a1 = 0.1573, a2 - 1.6150, b = -8.9588, loss = 0.0564\n",
      "predicted =  [[0.]\n",
      " [0.]\n",
      " [0.]\n",
      " [1.]\n",
      " [1.]\n",
      " [1.]\n",
      " [1.]]\n",
      "check predicted =  [[0.]\n",
      " [1.]\n",
      " [0.]]\n",
      "check hypothesis =  [[0.32636169]\n",
      " [0.66557299]\n",
      " [0.43690936]]\n",
      "\n",
      "Hypothesis:  [[0.02189237]\n",
      " [0.02972763]\n",
      " [0.17427519]\n",
      " [0.87975803]\n",
      " [0.9805452 ]\n",
      " [0.99712805]\n",
      " [0.99958206]] \n",
      "Correct (Y): [[0.]\n",
      " [0.]\n",
      " [0.]\n",
      " [1.]\n",
      " [1.]\n",
      " [1.]\n",
      " [1.]] \n",
      "Accuracy:  1.0\n",
      "공부한 시간: 7, 과외 수업 횟수: 6\n",
      "합격 가능성:  86.21 %\n"
     ]
    }
   ],
   "source": [
    "# 학습\n",
    "with tf.Session() as sess:\n",
    "    sess.run(tf.global_variables_initializer())\n",
    "\n",
    "    for i in range(3001):\n",
    "        a_, b_, loss_, _ = sess.run([a, b, loss, gradient_descent], feed_dict = {X: x_data, Y: y_data})\n",
    "        if (i + 1) % 300 == 0:\n",
    "            print(\"step = %d, a1 = %.4f, a2 - %.4f, b = %.4f, loss = %.4f\" % (i + 1, a_[0], a_[1], b_, loss_))\n",
    "\n",
    "    print(\"predicted = \", sess.run(predicted, feed_dict = {X: x_data}))\n",
    "\n",
    "    # 다른 값 테스트\n",
    "    p_val, h_val = sess.run([predicted, y], feed_dict = {X: [[1, 5], [10, 5], [4, 5]]})\n",
    "    print(\"check predicted = \", p_val)\n",
    "    print(\"check hypothesis = \", h_val)\n",
    "\n",
    "    # 정확도 측정\n",
    "    h, c, a = sess.run([y, predicted, accuracy], feed_dict = {X: x_data, Y: y_data})\n",
    "    print(\"\\nHypothesis: \", h, \"\\nCorrect (Y):\", c, \"\\nAccuracy: \", a)\n",
    "\n",
    "    # 새로운 데이터로 예측\n",
    "    new_x = np.array([7, 6.]).reshape(1, 2)\n",
    "    new_y = sess.run(y, feed_dict={X: new_x})\n",
    "\n",
    "    print(\"공부한 시간: %d, 과외 수업 횟수: %d\" % (new_x[:, 0], new_x[:, 1]))\n",
    "    print(\"합격 가능성: %6.2f %%\" % (new_y * 100))\n",
    "    "
   ]
  }
 ],
 "metadata": {
  "kernelspec": {
   "display_name": "tensor",
   "language": "python",
   "name": "python3"
  },
  "language_info": {
   "codemirror_mode": {
    "name": "ipython",
    "version": 3
   },
   "file_extension": ".py",
   "mimetype": "text/x-python",
   "name": "python",
   "nbconvert_exporter": "python",
   "pygments_lexer": "ipython3",
   "version": "3.8.19"
  }
 },
 "nbformat": 4,
 "nbformat_minor": 2
}
