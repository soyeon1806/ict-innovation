{
 "cells": [
  {
   "cell_type": "code",
   "execution_count": 1,
   "metadata": {},
   "outputs": [
    {
     "name": "stdout",
     "output_type": "stream",
     "text": [
      "WARNING:tensorflow:From c:\\Users\\soyeon\\anaconda3\\envs\\tensor\\lib\\site-packages\\tensorflow\\python\\compat\\v2_compat.py:107: disable_resource_variables (from tensorflow.python.ops.variable_scope) is deprecated and will be removed in a future version.\n",
      "Instructions for updating:\n",
      "non-resource variables are not supported in the long term\n"
     ]
    }
   ],
   "source": [
    "import tensorflow.compat.v1 as tf\n",
    "tf.disable_v2_behavior()\n",
    "import numpy as np"
   ]
  },
  {
   "cell_type": "code",
   "execution_count": 2,
   "metadata": {},
   "outputs": [],
   "source": [
    "data = [[2, 0], [4, 0], [6, 0], [8, 1], [10, 1], [12, 1], [14, 1]]\n",
    "x_data = [x_row[0] for x_row in data]\n",
    "y_data = [x_row[1] for x_row in data]"
   ]
  },
  {
   "cell_type": "code",
   "execution_count": 3,
   "metadata": {},
   "outputs": [],
   "source": [
    "a = tf.Variable(tf.random_normal([1], dtype = tf.float64, seed = 0))\n",
    "b = tf.Variable(tf.random_normal([1], dtype = tf.float64, seed = 0))"
   ]
  },
  {
   "cell_type": "code",
   "execution_count": 4,
   "metadata": {},
   "outputs": [],
   "source": [
    "y = 1 / (1 + np.e ** -(a * x_data + b))"
   ]
  },
  {
   "cell_type": "code",
   "execution_count": 5,
   "metadata": {},
   "outputs": [],
   "source": [
    "loss = -tf.reduce_mean(np.array(y_data) * tf.log(y) + (1 - np.array(y_data)) * tf.log(1 - y))"
   ]
  },
  {
   "cell_type": "code",
   "execution_count": 6,
   "metadata": {},
   "outputs": [],
   "source": [
    "learning_rate = 0.5"
   ]
  },
  {
   "cell_type": "code",
   "execution_count": 7,
   "metadata": {},
   "outputs": [],
   "source": [
    "gradient_descent = tf.train.GradientDescentOptimizer(learning_rate).minimize(loss)"
   ]
  },
  {
   "cell_type": "code",
   "execution_count": 8,
   "metadata": {},
   "outputs": [
    {
     "name": "stdout",
     "output_type": "stream",
     "text": [
      "Epoch: 0, loss = 4.0817, 기울기 a = 2.4706, y 절편 = -0.3620\n",
      "Epoch: 6000, loss = 0.0152, 기울기 a = 2.9230, y 절편 = -20.3114\n",
      "Epoch: 12000, loss = 0.0081, 기울기 a = 3.5648, y 절편 = -24.8081\n",
      "Epoch: 18000, loss = 0.0055, 기울기 a = 3.9564, y 절편 = -27.5511\n",
      "Epoch: 24000, loss = 0.0041, 기울기 a = 4.2385, y 절편 = -29.5268\n",
      "Epoch: 30000, loss = 0.0033, 기울기 a = 4.4590, y 절편 = -31.0705\n",
      "Epoch: 36000, loss = 0.0028, 기울기 a = 4.6399, y 절편 = -32.3371\n",
      "Epoch: 42000, loss = 0.0024, 기울기 a = 4.7933, y 절편 = -33.4107\n",
      "Epoch: 48000, loss = 0.0021, 기울기 a = 4.9263, y 절편 = -34.3424\n",
      "Epoch: 54000, loss = 0.0019, 기울기 a = 5.0439, y 절편 = -35.1653\n",
      "Epoch: 60000, loss = 0.0017, 기울기 a = 5.1491, y 절편 = -35.9020\n",
      "[3.8823515e-05]\n",
      "3.8823514976746946e-05\n",
      "[0.53537986]\n",
      "0.535379863762954\n",
      "[1.]\n",
      "0.9999999999999669\n",
      "Tensor(\"truediv_3:0\", shape=(1,), dtype=float64)\n"
     ]
    }
   ],
   "source": [
    "with tf.Session() as sess:\n",
    "    sess.run(tf.global_variables_initializer())\n",
    "    for i in range(60001):\n",
    "        sess.run(gradient_descent)\n",
    "        if i % 6000 == 0:\n",
    "            print(\"Epoch: %.f, loss = %.4f, 기울기 a = %.4f, y 절편 = %.4f\" % (i, sess.run(loss), sess.run(a), sess.run(b)))\n",
    "\n",
    "    new_x_data = 5\n",
    "    y_test = 1 / (1 + np.e**-((a*new_x_data) + b))\n",
    "    print(sess.run(y_test))\n",
    "    print(sess.run(y_test[0]))\n",
    "\n",
    "    new_x_data = 7\n",
    "    y_test = 1 / (1 + np.e**-((a*new_x_data) + b))\n",
    "    print(sess.run(y_test))\n",
    "    print(sess.run(y_test[0]))\n",
    "\n",
    "    new_x_data = 13\n",
    "    y_test = 1 / (1 + np.e**-((a*new_x_data) + b))\n",
    "    print(sess.run(y_test))\n",
    "    print(sess.run(y_test[0]))\n",
    "    print(y_test)"
   ]
  }
 ],
 "metadata": {
  "kernelspec": {
   "display_name": "tensor",
   "language": "python",
   "name": "python3"
  },
  "language_info": {
   "codemirror_mode": {
    "name": "ipython",
    "version": 3
   },
   "file_extension": ".py",
   "mimetype": "text/x-python",
   "name": "python",
   "nbconvert_exporter": "python",
   "pygments_lexer": "ipython3",
   "version": "3.8.19"
  }
 },
 "nbformat": 4,
 "nbformat_minor": 2
}
