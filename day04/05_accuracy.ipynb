{
 "cells": [
  {
   "cell_type": "code",
   "execution_count": 2,
   "metadata": {},
   "outputs": [
    {
     "name": "stdout",
     "output_type": "stream",
     "text": [
      "WARNING:tensorflow:From c:\\Users\\soyeon\\anaconda3\\envs\\tensor\\lib\\site-packages\\tensorflow\\python\\compat\\v2_compat.py:107: disable_resource_variables (from tensorflow.python.ops.variable_scope) is deprecated and will be removed in a future version.\n",
      "Instructions for updating:\n",
      "non-resource variables are not supported in the long term\n"
     ]
    }
   ],
   "source": [
    "import tensorflow.compat.v1 as tf\n",
    "tf.disable_v2_behavior()\n",
    "\n",
    "import numpy as np"
   ]
  },
  {
   "cell_type": "code",
   "execution_count": 3,
   "metadata": {},
   "outputs": [],
   "source": [
    "Y = [0, 0, 0, 0, 0, 0, 1, 1, 1, 1]\n",
    "y_data = [0.1, 0.2, 0.3, 0.1, 0.2, 0.6, 0.7, 0.8, 0.6, 0.9]\n",
    "y = np.array(y_data)\n",
    "predicted = tf.cast(y > 0.5, dtype = tf.float64)"
   ]
  },
  {
   "cell_type": "code",
   "execution_count": 4,
   "metadata": {},
   "outputs": [],
   "source": [
    "accuracy = tf.reduce_mean(tf.cast(tf.equal(predicted, Y), dtype = tf.float64))"
   ]
  },
  {
   "cell_type": "code",
   "execution_count": 6,
   "metadata": {},
   "outputs": [
    {
     "name": "stdout",
     "output_type": "stream",
     "text": [
      "[ True  True  True  True  True False  True  True  True  True]\n",
      "[1. 1. 1. 1. 1. 0. 1. 1. 1. 1.]\n",
      "0.9\n"
     ]
    }
   ],
   "source": [
    "with tf.Session() as sess:\n",
    "    temp1 = sess.run(tf.equal(predicted, Y))\n",
    "    print(temp1)\n",
    "\n",
    "    temp2 = sess.run(tf.cast(tf.equal(predicted, Y), dtype = tf.float64))\n",
    "    print(temp2)\n",
    "\n",
    "    result = sess.run(accuracy)\n",
    "    print(result)"
   ]
  }
 ],
 "metadata": {
  "kernelspec": {
   "display_name": "tensor",
   "language": "python",
   "name": "python3"
  },
  "language_info": {
   "codemirror_mode": {
    "name": "ipython",
    "version": 3
   },
   "file_extension": ".py",
   "mimetype": "text/x-python",
   "name": "python",
   "nbconvert_exporter": "python",
   "pygments_lexer": "ipython3",
   "version": "3.8.19"
  }
 },
 "nbformat": 4,
 "nbformat_minor": 2
}
