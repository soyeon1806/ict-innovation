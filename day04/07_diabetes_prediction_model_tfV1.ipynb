{
 "cells": [
  {
   "cell_type": "code",
   "execution_count": 2,
   "metadata": {},
   "outputs": [
    {
     "name": "stdout",
     "output_type": "stream",
     "text": [
      "WARNING:tensorflow:From c:\\download\\envs\\tensor\\lib\\site-packages\\tensorflow\\python\\compat\\v2_compat.py:107: disable_resource_variables (from tensorflow.python.ops.variable_scope) is deprecated and will be removed in a future version.\n",
      "Instructions for updating:\n",
      "non-resource variables are not supported in the long term\n"
     ]
    }
   ],
   "source": [
    "import tensorflow.compat.v1 as tf\n",
    "tf.disable_v2_behavior()\n",
    "\n",
    "import numpy as np\n",
    "import os"
   ]
  },
  {
   "cell_type": "code",
   "execution_count": 4,
   "metadata": {},
   "outputs": [],
   "source": [
    "# 당뇨병 데이터 읽어오기\n",
    "data_path = os.path.join(\"..\", \"data\", \"diabetes.csv\")\n",
    "data = np.loadtxt(data_path, delimiter=\",\", dtype = np.float32)\n",
    "x_data = data[:, 0:-1]\n",
    "y_data = data[:, [-1]]"
   ]
  },
  {
   "cell_type": "code",
   "execution_count": 6,
   "metadata": {},
   "outputs": [],
   "source": [
    "# Placeholders : Shape 주의 !\n",
    "# 총 8개의 x_data와 1개의 y_data\n",
    "X = tf.placeholder(tf.float32, shape = [None, 8])\n",
    "Y = tf.placeholder(tf.float32, shape = [None, 1])\n",
    "\n",
    "W = tf.Variable(tf.random_normal([8, 1]), name = 'weight')\n",
    "b = tf.Variable(tf.random_normal([1]), name = 'bias')"
   ]
  },
  {
   "cell_type": "code",
   "execution_count": 7,
   "metadata": {},
   "outputs": [],
   "source": [
    "# Hypothesis\n",
    "hypothesis = tf.sigmoid(tf.matmul(X, W) + b)"
   ]
  },
  {
   "cell_type": "code",
   "execution_count": 8,
   "metadata": {},
   "outputs": [],
   "source": [
    "# Cost / Loss function\n",
    "cost = -tf.reduce_mean(Y * tf.log(hypothesis) + (1 - Y) * tf.log(1 - hypothesis))\n",
    "train = tf.train.GradientDescentOptimizer(learning_rate = 0.01).minimize(cost)"
   ]
  },
  {
   "cell_type": "code",
   "execution_count": 9,
   "metadata": {},
   "outputs": [],
   "source": [
    "# 정확도 hypothesis > 0.5 else False\n",
    "predicted = tf.cast(hypothesis > 0.5, dtype = tf.float32)\n",
    "accuracy = tf.reduce_mean(tf.cast(tf.equal(predicted, Y), dtype = tf.float32))"
   ]
  },
  {
   "cell_type": "code",
   "execution_count": 10,
   "metadata": {},
   "outputs": [
    {
     "name": "stdout",
     "output_type": "stream",
     "text": [
      "0 1.5416125\n",
      "200 0.8397906\n",
      "400 0.68576944\n",
      "600 0.64686096\n",
      "800 0.62982196\n",
      "1000 0.6178136\n",
      "1200 0.607484\n",
      "1400 0.59809315\n",
      "1600 0.58944553\n",
      "1800 0.5814628\n",
      "2000 0.5740933\n",
      "2200 0.56729233\n",
      "2400 0.5610177\n",
      "2600 0.55522937\n",
      "2800 0.54988945\n",
      "3000 0.5449623\n",
      "3200 0.54041445\n",
      "3400 0.53621477\n",
      "3600 0.5323346\n",
      "3800 0.5287473\n",
      "4000 0.5254283\n",
      "4200 0.52235526\n",
      "4400 0.5195075\n",
      "4600 0.5168665\n",
      "4800 0.5144147\n",
      "5000 0.5121368\n",
      "5200 0.5100183\n",
      "5400 0.50804627\n",
      "5600 0.5062087\n",
      "5800 0.50449497\n",
      "6000 0.50289494\n",
      "6200 0.5013999\n",
      "6400 0.5000014\n",
      "6600 0.49869198\n",
      "6800 0.49746478\n",
      "7000 0.4963137\n",
      "7200 0.4952327\n",
      "7400 0.49421677\n",
      "7600 0.49326107\n",
      "7800 0.49236128\n",
      "8000 0.4915131\n",
      "8200 0.49071318\n",
      "8400 0.48995784\n",
      "8600 0.4892441\n",
      "8800 0.48856905\n",
      "9000 0.48793012\n",
      "9200 0.48732474\n",
      "9400 0.48675084\n",
      "9600 0.48620626\n",
      "9800 0.48568907\n",
      "10000 0.48519748\n",
      "Accuracy:  0.76811594\n"
     ]
    }
   ],
   "source": [
    "# 세션 시작\n",
    "with tf.Session() as sess:\n",
    "    sess.run(tf.global_variables_initializer())\n",
    "\n",
    "    for step in range(10001):\n",
    "        cost_val, _ = sess.run([cost, train], feed_dict = {X: x_data, Y: y_data})\n",
    "        if step % 200 == 0:\n",
    "            print(step, cost_val)\n",
    "\n",
    "    _, _, a = sess.run([hypothesis, predicted, accuracy], feed_dict = {X: x_data, Y: y_data})\n",
    "    print(\"Accuracy: \", a)"
   ]
  }
 ],
 "metadata": {
  "kernelspec": {
   "display_name": "tensor",
   "language": "python",
   "name": "python3"
  },
  "language_info": {
   "codemirror_mode": {
    "name": "ipython",
    "version": 3
   },
   "file_extension": ".py",
   "mimetype": "text/x-python",
   "name": "python",
   "nbconvert_exporter": "python",
   "pygments_lexer": "ipython3",
   "version": "3.8.19"
  }
 },
 "nbformat": 4,
 "nbformat_minor": 2
}
