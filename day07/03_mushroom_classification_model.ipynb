{
 "cells": [
  {
   "cell_type": "code",
   "execution_count": 1,
   "metadata": {},
   "outputs": [],
   "source": [
    "import pandas as pd\n",
    "import os\n",
    "import matplotlib.pyplot as plt\n",
    "import tensorflow as tf\n",
    "import numpy as np\n",
    "\n",
    "from sklearn.preprocessing import LabelEncoder\n",
    "from sklearn.model_selection import train_test_split\n",
    "from tensorflow.keras.models import Sequential\n",
    "from tensorflow.keras.layers import Dense"
   ]
  },
  {
   "cell_type": "code",
   "execution_count": 2,
   "metadata": {},
   "outputs": [],
   "source": [
    "data_path = os.path.join(\"..\", \"data\", \"mushrooms.csv\")\n",
    "mushrooms = pd.read_csv(data_path)"
   ]
  },
  {
   "cell_type": "code",
   "execution_count": 3,
   "metadata": {},
   "outputs": [],
   "source": [
    "labelencoder = LabelEncoder()"
   ]
  },
  {
   "cell_type": "code",
   "execution_count": 4,
   "metadata": {},
   "outputs": [],
   "source": [
    "for col in mushrooms.columns:\n",
    "    mushrooms[col] = labelencoder.fit_transform(mushrooms[col])"
   ]
  },
  {
   "cell_type": "code",
   "execution_count": 5,
   "metadata": {},
   "outputs": [],
   "source": [
    "y = mushrooms['class'].values\n",
    "x = mushrooms.drop(['class'], axis = 1)\n",
    "x = x.values"
   ]
  },
  {
   "cell_type": "code",
   "execution_count": 6,
   "metadata": {},
   "outputs": [],
   "source": [
    "seed = 0"
   ]
  },
  {
   "cell_type": "code",
   "execution_count": 7,
   "metadata": {},
   "outputs": [
    {
     "name": "stdout",
     "output_type": "stream",
     "text": [
      "x_train.shape =  (6499, 22)\n",
      "x_test.shape =  (1625, 22)\n",
      "y_train.shape =  (6499,)\n",
      "y_test.shape =  (1625,)\n",
      "[1 0 0 0 0]\n"
     ]
    }
   ],
   "source": [
    "x_train, x_test, y_train, y_test = train_test_split(x, y, test_size = 0.2, random_state = seed)\n",
    "print(\"x_train.shape = \", x_train.shape)\n",
    "print(\"x_test.shape = \", x_test.shape)\n",
    "print(\"y_train.shape = \", y_train.shape)\n",
    "print(\"y_test.shape = \", y_test.shape)\n",
    "print(y_test[0:5])"
   ]
  },
  {
   "cell_type": "code",
   "execution_count": 8,
   "metadata": {},
   "outputs": [],
   "source": [
    "model = Sequential()\n",
    "model.add(Dense(48, input_dim = 22, activation = 'relu'))\n",
    "model.add(Dense(24, activation = 'relu'))\n",
    "model.add(Dense(12, activation = 'relu'))\n",
    "model.add(Dense(1, activation = 'sigmoid'))"
   ]
  },
  {
   "cell_type": "code",
   "execution_count": 9,
   "metadata": {},
   "outputs": [
    {
     "name": "stdout",
     "output_type": "stream",
     "text": [
      "Epoch 1/25\n",
      "204/204 [==============================] - 1s 3ms/step - loss: 0.3471 - accuracy: 0.8381\n",
      "Epoch 2/25\n",
      "204/204 [==============================] - 1s 3ms/step - loss: 0.1007 - accuracy: 0.9714\n",
      "Epoch 3/25\n",
      "204/204 [==============================] - 1s 3ms/step - loss: 0.0461 - accuracy: 0.9874\n",
      "Epoch 4/25\n",
      "204/204 [==============================] - 1s 3ms/step - loss: 0.0251 - accuracy: 0.9934\n",
      "Epoch 5/25\n",
      "204/204 [==============================] - 1s 3ms/step - loss: 0.0134 - accuracy: 0.9974\n",
      "Epoch 6/25\n",
      "204/204 [==============================] - 1s 3ms/step - loss: 0.0091 - accuracy: 0.9985\n",
      "Epoch 7/25\n",
      "204/204 [==============================] - 1s 3ms/step - loss: 0.0049 - accuracy: 0.9994\n",
      "Epoch 8/25\n",
      "204/204 [==============================] - 1s 3ms/step - loss: 0.0046 - accuracy: 0.9994\n",
      "Epoch 9/25\n",
      "204/204 [==============================] - 1s 3ms/step - loss: 0.0026 - accuracy: 0.9998\n",
      "Epoch 10/25\n",
      "204/204 [==============================] - 1s 3ms/step - loss: 0.0021 - accuracy: 0.9997\n",
      "Epoch 11/25\n",
      "204/204 [==============================] - 1s 4ms/step - loss: 0.0021 - accuracy: 0.9992\n",
      "Epoch 12/25\n",
      "204/204 [==============================] - 1s 3ms/step - loss: 0.0030 - accuracy: 0.9994\n",
      "Epoch 13/25\n",
      "204/204 [==============================] - 1s 3ms/step - loss: 0.0025 - accuracy: 0.9991\n",
      "Epoch 14/25\n",
      "204/204 [==============================] - 1s 4ms/step - loss: 0.0011 - accuracy: 0.9998\n",
      "Epoch 15/25\n",
      "204/204 [==============================] - 1s 4ms/step - loss: 4.7042e-04 - accuracy: 1.0000\n",
      "Epoch 16/25\n",
      "204/204 [==============================] - 1s 4ms/step - loss: 3.8053e-04 - accuracy: 1.0000\n",
      "Epoch 17/25\n",
      "204/204 [==============================] - 1s 4ms/step - loss: 3.5212e-04 - accuracy: 1.0000\n",
      "Epoch 18/25\n",
      "204/204 [==============================] - 1s 3ms/step - loss: 2.7142e-04 - accuracy: 1.0000\n",
      "Epoch 19/25\n",
      "204/204 [==============================] - 1s 4ms/step - loss: 2.7544e-04 - accuracy: 1.0000\n",
      "Epoch 20/25\n",
      "204/204 [==============================] - 1s 3ms/step - loss: 0.0073 - accuracy: 0.9966\n",
      "Epoch 21/25\n",
      "204/204 [==============================] - 1s 3ms/step - loss: 9.9877e-04 - accuracy: 0.9998\n",
      "Epoch 22/25\n",
      "204/204 [==============================] - 1s 4ms/step - loss: 2.0085e-04 - accuracy: 1.0000\n",
      "Epoch 23/25\n",
      "204/204 [==============================] - 1s 4ms/step - loss: 1.6636e-04 - accuracy: 1.0000\n",
      "Epoch 24/25\n",
      "204/204 [==============================] - 1s 4ms/step - loss: 1.3706e-04 - accuracy: 1.0000\n",
      "Epoch 25/25\n",
      "204/204 [==============================] - 1s 4ms/step - loss: 1.2554e-04 - accuracy: 1.0000\n",
      "Model: \"sequential\"\n",
      "_________________________________________________________________\n",
      " Layer (type)                Output Shape              Param #   \n",
      "=================================================================\n",
      " dense (Dense)               (None, 48)                1104      \n",
      "                                                                 \n",
      " dense_1 (Dense)             (None, 24)                1176      \n",
      "                                                                 \n",
      " dense_2 (Dense)             (None, 12)                300       \n",
      "                                                                 \n",
      " dense_3 (Dense)             (None, 1)                 13        \n",
      "                                                                 \n",
      "=================================================================\n",
      "Total params: 2,593\n",
      "Trainable params: 2,593\n",
      "Non-trainable params: 0\n",
      "_________________________________________________________________\n"
     ]
    }
   ],
   "source": [
    "model.compile(loss = 'binary_crossentropy', optimizer = 'adam', metrics = ['accuracy'])\n",
    "history = model.fit(x_train, y_train, epochs = 25, batch_size = 32)\n",
    "model.summary()"
   ]
  },
  {
   "cell_type": "code",
   "execution_count": 10,
   "metadata": {},
   "outputs": [
    {
     "name": "stdout",
     "output_type": "stream",
     "text": [
      "51/51 [==============================] - 0s 3ms/step - loss: 8.5871e-05 - accuracy: 1.0000\n"
     ]
    },
    {
     "data": {
      "text/plain": [
       "[8.587093179812655e-05, 1.0]"
      ]
     },
     "execution_count": 10,
     "metadata": {},
     "output_type": "execute_result"
    }
   ],
   "source": [
    "model.evaluate(x_test, y_test)"
   ]
  }
 ],
 "metadata": {
  "kernelspec": {
   "display_name": "tensor",
   "language": "python",
   "name": "python3"
  },
  "language_info": {
   "codemirror_mode": {
    "name": "ipython",
    "version": 3
   },
   "file_extension": ".py",
   "mimetype": "text/x-python",
   "name": "python",
   "nbconvert_exporter": "python",
   "pygments_lexer": "ipython3",
   "version": "3.8.19"
  }
 },
 "nbformat": 4,
 "nbformat_minor": 2
}
