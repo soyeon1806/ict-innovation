{
 "cells": [
  {
   "cell_type": "code",
   "execution_count": 1,
   "metadata": {},
   "outputs": [],
   "source": [
    "import pandas as pd\n",
    "import os\n",
    "import matplotlib.pyplot as plt\n",
    "import tensorflow as tf\n",
    "import numpy as np\n",
    "\n",
    "from sklearn.preprocessing import LabelEncoder\n",
    "from sklearn.model_selection import train_test_split\n",
    "from tensorflow.keras.models import Sequential\n",
    "from tensorflow.keras.layers import Dense"
   ]
  },
  {
   "cell_type": "code",
   "execution_count": 2,
   "metadata": {},
   "outputs": [],
   "source": [
    "seed = 0\n",
    "np.random.seed(seed)\n",
    "tf.random.set_seed(seed)"
   ]
  },
  {
   "cell_type": "code",
   "execution_count": 3,
   "metadata": {},
   "outputs": [],
   "source": [
    "data_path = os.path.join(\"..\", \"data\", \"iris.csv\")\n",
    "df = pd.read_csv(data_path, names = [\"sepal_length\", \"sepal_width\", \"petal_length\", \"petal_width\", \"species\"])"
   ]
  },
  {
   "cell_type": "code",
   "execution_count": 4,
   "metadata": {},
   "outputs": [],
   "source": [
    "dataset = df.values\n",
    "X = dataset[:, 0:4].astype(float)\n",
    "Y_obj = dataset[:, 4]"
   ]
  },
  {
   "cell_type": "code",
   "execution_count": 5,
   "metadata": {},
   "outputs": [],
   "source": [
    "e = LabelEncoder()\n",
    "e.fit(Y_obj)\n",
    "Y = e.transform(Y_obj)\n",
    "Y_encoded = tf.keras.utils.to_categorical(Y)"
   ]
  },
  {
   "cell_type": "code",
   "execution_count": 6,
   "metadata": {},
   "outputs": [],
   "source": [
    "X_train, X_test, Y_train, Y_test = train_test_split(X, Y_encoded, test_size = 0.3, random_state = seed)"
   ]
  },
  {
   "cell_type": "code",
   "execution_count": 7,
   "metadata": {},
   "outputs": [],
   "source": [
    "model = Sequential()\n",
    "model.add(Dense(16, input_dim = 4, activation = 'relu'))\n",
    "model.add(Dense(3, activation = 'softmax'))"
   ]
  },
  {
   "cell_type": "code",
   "execution_count": 8,
   "metadata": {},
   "outputs": [],
   "source": [
    "model.compile(loss = 'categorical_crossentropy', optimizer = 'adam', metrics = ['accuracy'])"
   ]
  },
  {
   "cell_type": "code",
   "execution_count": 9,
   "metadata": {},
   "outputs": [
    {
     "name": "stdout",
     "output_type": "stream",
     "text": [
      "Epoch 1/50\n",
      "150/150 [==============================] - 0s 1ms/step - loss: 1.8099 - accuracy: 0.3333\n",
      "Epoch 2/50\n",
      "150/150 [==============================] - 0s 1ms/step - loss: 0.8923 - accuracy: 0.5400\n",
      "Epoch 3/50\n",
      "150/150 [==============================] - 0s 1ms/step - loss: 0.7335 - accuracy: 0.7267\n",
      "Epoch 4/50\n",
      "150/150 [==============================] - 0s 1ms/step - loss: 0.6245 - accuracy: 0.7600\n",
      "Epoch 5/50\n",
      "150/150 [==============================] - 0s 1ms/step - loss: 0.5548 - accuracy: 0.7667\n",
      "Epoch 6/50\n",
      "150/150 [==============================] - 0s 1ms/step - loss: 0.5025 - accuracy: 0.8200\n",
      "Epoch 7/50\n",
      "150/150 [==============================] - 0s 1ms/step - loss: 0.4566 - accuracy: 0.8400\n",
      "Epoch 8/50\n",
      "150/150 [==============================] - 0s 1ms/step - loss: 0.4225 - accuracy: 0.9000\n",
      "Epoch 9/50\n",
      "150/150 [==============================] - 0s 1ms/step - loss: 0.4038 - accuracy: 0.8667\n",
      "Epoch 10/50\n",
      "150/150 [==============================] - 0s 1ms/step - loss: 0.3750 - accuracy: 0.9733\n",
      "Epoch 11/50\n",
      "150/150 [==============================] - 0s 1ms/step - loss: 0.3572 - accuracy: 0.9533\n",
      "Epoch 12/50\n",
      "150/150 [==============================] - 0s 1ms/step - loss: 0.3401 - accuracy: 0.9400\n",
      "Epoch 13/50\n",
      "150/150 [==============================] - 0s 1ms/step - loss: 0.3194 - accuracy: 0.9600\n",
      "Epoch 14/50\n",
      "150/150 [==============================] - 0s 1ms/step - loss: 0.3002 - accuracy: 0.9667\n",
      "Epoch 15/50\n",
      "150/150 [==============================] - 0s 1ms/step - loss: 0.2864 - accuracy: 0.9667\n",
      "Epoch 16/50\n",
      "150/150 [==============================] - 0s 1ms/step - loss: 0.2736 - accuracy: 0.9533\n",
      "Epoch 17/50\n",
      "150/150 [==============================] - 0s 1ms/step - loss: 0.2597 - accuracy: 0.9600\n",
      "Epoch 18/50\n",
      "150/150 [==============================] - 0s 1ms/step - loss: 0.2585 - accuracy: 0.9467\n",
      "Epoch 19/50\n",
      "150/150 [==============================] - 0s 1ms/step - loss: 0.2374 - accuracy: 0.9533\n",
      "Epoch 20/50\n",
      "150/150 [==============================] - 0s 1ms/step - loss: 0.2310 - accuracy: 0.9600\n",
      "Epoch 21/50\n",
      "150/150 [==============================] - 0s 1ms/step - loss: 0.2199 - accuracy: 0.9733\n",
      "Epoch 22/50\n",
      "150/150 [==============================] - 0s 1ms/step - loss: 0.2098 - accuracy: 0.9667\n",
      "Epoch 23/50\n",
      "150/150 [==============================] - 0s 1ms/step - loss: 0.1999 - accuracy: 0.9533\n",
      "Epoch 24/50\n",
      "150/150 [==============================] - 0s 2ms/step - loss: 0.1921 - accuracy: 0.9733\n",
      "Epoch 25/50\n",
      "150/150 [==============================] - 0s 2ms/step - loss: 0.1887 - accuracy: 0.9533\n",
      "Epoch 26/50\n",
      "150/150 [==============================] - 0s 2ms/step - loss: 0.1789 - accuracy: 0.9733\n",
      "Epoch 27/50\n",
      "150/150 [==============================] - 0s 2ms/step - loss: 0.1710 - accuracy: 0.9667\n",
      "Epoch 28/50\n",
      "150/150 [==============================] - 0s 2ms/step - loss: 0.1683 - accuracy: 0.9667\n",
      "Epoch 29/50\n",
      "150/150 [==============================] - 0s 2ms/step - loss: 0.1672 - accuracy: 0.9733\n",
      "Epoch 30/50\n",
      "150/150 [==============================] - 0s 2ms/step - loss: 0.1522 - accuracy: 0.9667\n",
      "Epoch 31/50\n",
      "150/150 [==============================] - 0s 2ms/step - loss: 0.1523 - accuracy: 0.9600\n",
      "Epoch 32/50\n",
      "150/150 [==============================] - 0s 2ms/step - loss: 0.1451 - accuracy: 0.9733\n",
      "Epoch 33/50\n",
      "150/150 [==============================] - 0s 2ms/step - loss: 0.1433 - accuracy: 0.9733\n",
      "Epoch 34/50\n",
      "150/150 [==============================] - 0s 2ms/step - loss: 0.1387 - accuracy: 0.9800\n",
      "Epoch 35/50\n",
      "150/150 [==============================] - 0s 2ms/step - loss: 0.1406 - accuracy: 0.9600\n",
      "Epoch 36/50\n",
      "150/150 [==============================] - 0s 2ms/step - loss: 0.1255 - accuracy: 0.9800\n",
      "Epoch 37/50\n",
      "150/150 [==============================] - 0s 2ms/step - loss: 0.1301 - accuracy: 0.9733\n",
      "Epoch 38/50\n",
      "150/150 [==============================] - 0s 2ms/step - loss: 0.1312 - accuracy: 0.9667\n",
      "Epoch 39/50\n",
      "150/150 [==============================] - 0s 2ms/step - loss: 0.1212 - accuracy: 0.9800\n",
      "Epoch 40/50\n",
      "150/150 [==============================] - 0s 2ms/step - loss: 0.1248 - accuracy: 0.9733\n",
      "Epoch 41/50\n",
      "150/150 [==============================] - 0s 2ms/step - loss: 0.1194 - accuracy: 0.9667\n",
      "Epoch 42/50\n",
      "150/150 [==============================] - 0s 2ms/step - loss: 0.1144 - accuracy: 0.9733\n",
      "Epoch 43/50\n",
      "150/150 [==============================] - 0s 2ms/step - loss: 0.1201 - accuracy: 0.9667\n",
      "Epoch 44/50\n",
      "150/150 [==============================] - 0s 2ms/step - loss: 0.1225 - accuracy: 0.9667\n",
      "Epoch 45/50\n",
      "150/150 [==============================] - 0s 2ms/step - loss: 0.1128 - accuracy: 0.9800\n",
      "Epoch 46/50\n",
      "150/150 [==============================] - 0s 2ms/step - loss: 0.1085 - accuracy: 0.9800\n",
      "Epoch 47/50\n",
      "150/150 [==============================] - 0s 2ms/step - loss: 0.1126 - accuracy: 0.9667\n",
      "Epoch 48/50\n",
      "150/150 [==============================] - 0s 2ms/step - loss: 0.1047 - accuracy: 0.9667\n",
      "Epoch 49/50\n",
      "150/150 [==============================] - 0s 2ms/step - loss: 0.0959 - accuracy: 0.9733\n",
      "Epoch 50/50\n",
      "150/150 [==============================] - 0s 2ms/step - loss: 0.0980 - accuracy: 0.9667\n"
     ]
    },
    {
     "data": {
      "text/plain": [
       "<keras.callbacks.History at 0x1c1bd01cca0>"
      ]
     },
     "execution_count": 9,
     "metadata": {},
     "output_type": "execute_result"
    }
   ],
   "source": [
    "model.fit(X, Y_encoded, epochs = 50, batch_size = 1)"
   ]
  },
  {
   "cell_type": "code",
   "execution_count": 10,
   "metadata": {},
   "outputs": [
    {
     "name": "stdout",
     "output_type": "stream",
     "text": [
      "4/4 [==============================] - 0s 3ms/step - loss: 0.0899 - accuracy: 0.9810\n",
      "\n",
      " Train Accuracy: 0.9810\n"
     ]
    }
   ],
   "source": [
    "print(\"\\n Train Accuracy: %.4f\" % (model.evaluate(X_train, Y_train)[1]))"
   ]
  },
  {
   "cell_type": "code",
   "execution_count": 11,
   "metadata": {},
   "outputs": [
    {
     "name": "stdout",
     "output_type": "stream",
     "text": [
      "2/2 [==============================] - 0s 3ms/step - loss: 0.1094 - accuracy: 0.9778\n",
      "\n",
      " Test Accuracy: 0.9778\n"
     ]
    }
   ],
   "source": [
    "print(\"\\n Test Accuracy: %.4f\" % (model.evaluate(X_test, Y_test)[1]))"
   ]
  }
 ],
 "metadata": {
  "kernelspec": {
   "display_name": "tensor",
   "language": "python",
   "name": "python3"
  },
  "language_info": {
   "codemirror_mode": {
    "name": "ipython",
    "version": 3
   },
   "file_extension": ".py",
   "mimetype": "text/x-python",
   "name": "python",
   "nbconvert_exporter": "python",
   "pygments_lexer": "ipython3",
   "version": "3.8.19"
  }
 },
 "nbformat": 4,
 "nbformat_minor": 2
}
