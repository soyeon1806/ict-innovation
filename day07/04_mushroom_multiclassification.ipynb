{
 "cells": [
  {
   "cell_type": "code",
   "execution_count": 20,
   "metadata": {},
   "outputs": [],
   "source": [
    " import pandas as pd\n",
    "import os\n",
    "import matplotlib.pyplot as plt\n",
    "import tensorflow as tf\n",
    "import numpy as np\n",
    "\n",
    "from sklearn.preprocessing import LabelEncoder\n",
    "from sklearn.model_selection import train_test_split\n",
    "from tensorflow.keras.models import Sequential\n",
    "from tensorflow.keras.layers import Dense"
   ]
  },
  {
   "cell_type": "code",
   "execution_count": 21,
   "metadata": {},
   "outputs": [],
   "source": [
    "data_path = os.path.join(\"..\", \"data\", \"mushrooms.csv\")\n",
    "mushrooms = pd.read_csv(data_path)"
   ]
  },
  {
   "cell_type": "code",
   "execution_count": 22,
   "metadata": {},
   "outputs": [],
   "source": [
    "labelencoder = LabelEncoder()"
   ]
  },
  {
   "cell_type": "code",
   "execution_count": 23,
   "metadata": {},
   "outputs": [],
   "source": [
    "for col in mushrooms.columns:\n",
    "    mushrooms[col] = labelencoder.fit_transform(mushrooms[col])"
   ]
  },
  {
   "cell_type": "code",
   "execution_count": 24,
   "metadata": {},
   "outputs": [],
   "source": [
    "y = mushrooms['class'].values\n",
    "x = mushrooms.drop(['class'], axis = 1)\n",
    "x = x.values"
   ]
  },
  {
   "cell_type": "code",
   "execution_count": 25,
   "metadata": {},
   "outputs": [],
   "source": [
    "seed = 0"
   ]
  },
  {
   "cell_type": "code",
   "execution_count": 26,
   "metadata": {},
   "outputs": [
    {
     "name": "stdout",
     "output_type": "stream",
     "text": [
      "x_train.shape =  (6499, 22)\n",
      "x_test.shape =  (1625, 22)\n",
      "y_train.shape =  (6499,)\n",
      "y_test.shape =  (1625,)\n",
      "[1 0 0 0 0]\n"
     ]
    }
   ],
   "source": [
    "x_train, x_test, y_train, y_test = train_test_split(x, y, test_size = 0.2, random_state = seed)\n",
    "print(\"x_train.shape = \", x_train.shape)\n",
    "print(\"x_test.shape = \", x_test.shape)\n",
    "print(\"y_train.shape = \", y_train.shape)\n",
    "print(\"y_test.shape = \", y_test.shape)\n",
    "print(y_test[0:5])"
   ]
  },
  {
   "cell_type": "code",
   "execution_count": 27,
   "metadata": {},
   "outputs": [],
   "source": [
    "y_train = tf.keras.utils.to_categorical(y_train, num_classes = 2)\n",
    "y_test = tf.keras.utils.to_categorical(y_test, num_classes = 2)"
   ]
  },
  {
   "cell_type": "code",
   "execution_count": 28,
   "metadata": {},
   "outputs": [],
   "source": [
    "model = Sequential()\n",
    "model.add(Dense(48, input_dim = 22, activation = 'relu'))\n",
    "model.add(Dense(24, activation = 'relu'))\n",
    "model.add(Dense(12, activation = 'relu'))\n",
    "model.add(Dense(2, activation = 'softmax'))"
   ]
  },
  {
   "cell_type": "code",
   "execution_count": 29,
   "metadata": {},
   "outputs": [
    {
     "name": "stdout",
     "output_type": "stream",
     "text": [
      "Epoch 1/25\n",
      "204/204 [==============================] - 1s 4ms/step - loss: 0.2865 - accuracy: 0.8826\n",
      "Epoch 2/25\n",
      "204/204 [==============================] - 1s 3ms/step - loss: 0.0959 - accuracy: 0.9688\n",
      "Epoch 3/25\n",
      "204/204 [==============================] - 1s 3ms/step - loss: 0.0447 - accuracy: 0.9860\n",
      "Epoch 4/25\n",
      "204/204 [==============================] - 1s 3ms/step - loss: 0.0218 - accuracy: 0.9940\n",
      "Epoch 5/25\n",
      "204/204 [==============================] - 1s 3ms/step - loss: 0.0126 - accuracy: 0.9975\n",
      "Epoch 6/25\n",
      "204/204 [==============================] - 1s 4ms/step - loss: 0.0195 - accuracy: 0.9938\n",
      "Epoch 7/25\n",
      "204/204 [==============================] - 1s 3ms/step - loss: 0.0062 - accuracy: 0.9986\n",
      "Epoch 8/25\n",
      "204/204 [==============================] - 1s 3ms/step - loss: 0.0039 - accuracy: 0.9998\n",
      "Epoch 9/25\n",
      "204/204 [==============================] - 1s 2ms/step - loss: 0.0026 - accuracy: 0.9997\n",
      "Epoch 10/25\n",
      "204/204 [==============================] - 1s 2ms/step - loss: 0.0025 - accuracy: 0.9998\n",
      "Epoch 11/25\n",
      "204/204 [==============================] - 1s 2ms/step - loss: 0.0011 - accuracy: 1.0000\n",
      "Epoch 12/25\n",
      "204/204 [==============================] - 1s 2ms/step - loss: 8.7577e-04 - accuracy: 1.0000\n",
      "Epoch 13/25\n",
      "204/204 [==============================] - 1s 2ms/step - loss: 6.9224e-04 - accuracy: 1.0000\n",
      "Epoch 14/25\n",
      "204/204 [==============================] - 1s 3ms/step - loss: 5.0986e-04 - accuracy: 1.0000\n",
      "Epoch 15/25\n",
      "204/204 [==============================] - 1s 3ms/step - loss: 4.5113e-04 - accuracy: 1.0000\n",
      "Epoch 16/25\n",
      "204/204 [==============================] - 1s 3ms/step - loss: 2.9812e-04 - accuracy: 1.0000\n",
      "Epoch 17/25\n",
      "204/204 [==============================] - 1s 3ms/step - loss: 2.7557e-04 - accuracy: 1.0000\n",
      "Epoch 18/25\n",
      "204/204 [==============================] - 1s 3ms/step - loss: 2.2006e-04 - accuracy: 1.0000\n",
      "Epoch 19/25\n",
      "204/204 [==============================] - 1s 3ms/step - loss: 1.8490e-04 - accuracy: 1.0000\n",
      "Epoch 20/25\n",
      "204/204 [==============================] - 1s 3ms/step - loss: 0.0015 - accuracy: 0.9992\n",
      "Epoch 21/25\n",
      "204/204 [==============================] - 1s 3ms/step - loss: 0.0196 - accuracy: 0.9938\n",
      "Epoch 22/25\n",
      "204/204 [==============================] - 1s 3ms/step - loss: 5.4168e-04 - accuracy: 1.0000\n",
      "Epoch 23/25\n",
      "204/204 [==============================] - 1s 3ms/step - loss: 2.6505e-04 - accuracy: 1.0000\n",
      "Epoch 24/25\n",
      "204/204 [==============================] - 1s 3ms/step - loss: 1.9945e-04 - accuracy: 1.0000\n",
      "Epoch 25/25\n",
      "204/204 [==============================] - 1s 4ms/step - loss: 1.5238e-04 - accuracy: 1.0000\n"
     ]
    }
   ],
   "source": [
    "model.compile(loss = 'categorical_crossentropy', optimizer = 'adam', metrics = ['accuracy'])\n",
    "history = model.fit(x_train, y_train, epochs = 25, batch_size = 32)"
   ]
  },
  {
   "cell_type": "code",
   "execution_count": 30,
   "metadata": {},
   "outputs": [
    {
     "name": "stdout",
     "output_type": "stream",
     "text": [
      "51/51 [==============================] - 0s 2ms/step - loss: 1.5313e-04 - accuracy: 1.0000\n"
     ]
    },
    {
     "data": {
      "text/plain": [
       "[0.0001531303714727983, 1.0]"
      ]
     },
     "execution_count": 30,
     "metadata": {},
     "output_type": "execute_result"
    }
   ],
   "source": [
    "model.evaluate(x_test, y_test)"
   ]
  }
 ],
 "metadata": {
  "kernelspec": {
   "display_name": "tensor",
   "language": "python",
   "name": "python3"
  },
  "language_info": {
   "codemirror_mode": {
    "name": "ipython",
    "version": 3
   },
   "file_extension": ".py",
   "mimetype": "text/x-python",
   "name": "python",
   "nbconvert_exporter": "python",
   "pygments_lexer": "ipython3",
   "version": "3.8.19"
  }
 },
 "nbformat": 4,
 "nbformat_minor": 2
}
